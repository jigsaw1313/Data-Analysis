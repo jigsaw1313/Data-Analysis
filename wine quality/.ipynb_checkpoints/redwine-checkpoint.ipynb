{
 "cells": [
  {
   "cell_type": "markdown",
   "id": "ae0558f5-c6a3-4b93-a25d-82d1722d32ce",
   "metadata": {},
   "source": [
    "# Libraries"
   ]
  },
  {
   "cell_type": "code",
   "execution_count": 1,
   "id": "4c51b86d-0463-4f7d-a361-be586b74bf27",
   "metadata": {},
   "outputs": [],
   "source": [
    "import pandas as pd\n",
    "import numpy as np\n",
    "import matplotlib.pyplot as plt\n",
    "import seaborn as sns\n",
    "import scipy.stats as stats\n",
    "import statsmodels.api as sm\n",
    "from statsmodels.formula.api import ols"
   ]
  },
  {
   "cell_type": "markdown",
   "id": "d8b49f9e-27da-4be8-a1b0-a8706ded2a41",
   "metadata": {},
   "source": [
    "# Import Dataset"
   ]
  },
  {
   "cell_type": "code",
   "execution_count": null,
   "id": "22c1fd9c-e997-4ce6-ae03-e50cb03b41b0",
   "metadata": {},
   "outputs": [],
   "source": [
    "df = pd.read_csv('winequality-red.csv', delimiter=';')\n",
    "df"
   ]
  },
  {
   "cell_type": "markdown",
   "id": "ec4dfd7f-3ecc-4c3d-93f4-c2928d992b0a",
   "metadata": {},
   "source": [
    "# First insight of dataset"
   ]
  },
  {
   "cell_type": "code",
   "execution_count": null,
   "id": "314cc262-cad3-481a-a2e3-f2c4a0647d3c",
   "metadata": {},
   "outputs": [],
   "source": [
    "df.info()"
   ]
  },
  {
   "cell_type": "code",
   "execution_count": null,
   "id": "844b28b9-40d6-4844-84db-5488265881e4",
   "metadata": {},
   "outputs": [],
   "source": [
    "df.describe()"
   ]
  },
  {
   "cell_type": "markdown",
   "id": "9b2a7d6b-eb71-4e01-9fcd-6b893e873f1e",
   "metadata": {},
   "source": [
    "# EDA"
   ]
  },
  {
   "cell_type": "markdown",
   "id": "d9b4589b-343a-493e-a2b1-368fdb738156",
   "metadata": {},
   "source": [
    "## Feature Distribution"
   ]
  },
  {
   "cell_type": "code",
   "execution_count": null,
   "id": "31fd7f78-ed87-43c7-918f-62d5248a6797",
   "metadata": {},
   "outputs": [],
   "source": [
    "plt.figure(figsize=(10, 6))\n",
    "sns.boxplot(x='quality', y='alcohol', data=df)\n",
    "plt.xlabel('Wine Quality')\n",
    "plt.ylabel('Alcohol Content')\n",
    "plt.title('Alcohol Content by Wine Quality')\n",
    "plt.show()"
   ]
  },
  {
   "cell_type": "markdown",
   "id": "49dd5729-df1b-482d-9c35-8ff447d9d0dd",
   "metadata": {},
   "source": [
    "## Hist chart for numerical features"
   ]
  },
  {
   "cell_type": "code",
   "execution_count": null,
   "id": "f50bd042-b1af-4c99-b7c1-0777f0dcffc8",
   "metadata": {},
   "outputs": [],
   "source": [
    "plt.figure(figsize=(8, 6))\n",
    "sns.histplot(df['alcohol'], bins=20, kde=True)\n",
    "plt.xlabel('Alcohol Content')\n",
    "plt.ylabel('Frequency')\n",
    "plt.title('Distribution of Alcohol Content')\n",
    "plt.show()"
   ]
  },
  {
   "cell_type": "markdown",
   "id": "20480ed4-8c2c-4af7-9818-4830c5dd226a",
   "metadata": {},
   "source": [
    "## Correlation Matirx"
   ]
  },
  {
   "cell_type": "code",
   "execution_count": null,
   "id": "27988cd5-27db-42d5-8143-09ab70e2e140",
   "metadata": {
    "scrolled": true
   },
   "outputs": [],
   "source": [
    "correlation_matrix = df.corr()\n",
    "plt.figure(figsize=(10, 8))\n",
    "sns.heatmap(correlation_matrix, annot=True, cmap='coolwarm', fmt=\".2f\")\n",
    "plt.title('Correlation Heatmap')\n",
    "plt.show()"
   ]
  },
  {
   "cell_type": "markdown",
   "id": "9e9adad8-167a-488d-a40a-6c756d3512e3",
   "metadata": {},
   "source": [
    "# Statistical Analysis"
   ]
  },
  {
   "cell_type": "markdown",
   "id": "5a74199e-6b85-476a-a09c-b3cfe385fd97",
   "metadata": {},
   "source": [
    "## Summary Statistical"
   ]
  },
  {
   "cell_type": "code",
   "execution_count": null,
   "id": "7cdce699-aa5c-4ea7-8c9f-649e00b34d92",
   "metadata": {},
   "outputs": [],
   "source": [
    "summary_stats = df.describe()\n",
    "print(\"Summary Statistics for Numerical Features:\")\n",
    "print(summary_stats)"
   ]
  },
  {
   "cell_type": "markdown",
   "id": "cc7ca3ff-cb8a-4e94-b04e-f8feae7418d6",
   "metadata": {},
   "source": [
    "### Distribution of the target variables using summary statistics"
   ]
  },
  {
   "cell_type": "markdown",
   "id": "226b6953-f5fb-48c2-be04-2c41d7a60282",
   "metadata": {},
   "source": [
    "Count: There are 1599 observations in the dataset, meaning there are 1599 samples of wine quality data.\r\n",
    "\r\n",
    "Mean: The mean (average) wine quality in the dataset is approximately 5.636, indicating that, on average, the wines in the dataset have a quality score around 5.6.\r\n",
    "\r\n",
    "Standard Deviation (Std): The standard deviation is approximately 0.807, which measures the spread or variability of wine quality scores around the mean. A higher standard deviation suggests more variability in wine quality scores.\r\n",
    "\r\n",
    "Minimum (Min): The minimum wine quality score in the dataset is 3.0, which represents the lowest quality rating in the dataset.\r\n",
    "\r\n",
    "25th Percentile (Q1): The 25th percentile (first quartile) wine quality score is approximately 5.0. This means that 25% of the wines in the dataset have a quality score of 5 or lower.\r\n",
    "\r\n",
    "Median (50th Percentile): The median (middle value when the data is sorted) wine quality score is approximately 6.0. This is the value that separates the higher half from the lower half of the quality scores.\r\n",
    "\r\n",
    "75th Percentile (Q3): The 75th percentile (third quartile) wine quality score is approximately 6.0. This means that 75% of the wines in the dataset have a quality score of 6 or lower.\r\n",
    "\r\n",
    "Maximum (Max): The maximum wine quality score in the dataset is 8.0, which represents the highest quality rating in the dataset. in the dataset."
   ]
  },
  {
   "cell_type": "markdown",
   "id": "2513fc4c-eb6d-4b3c-828e-d7a171aba16b",
   "metadata": {},
   "source": [
    "## median stats"
   ]
  },
  {
   "cell_type": "code",
   "execution_count": null,
   "id": "fc75de7a-6de5-4410-869b-ea00c5ad3031",
   "metadata": {},
   "outputs": [],
   "source": [
    "median_stats = df.median()\n",
    "print(\"Median for Numerical Features:\")\n",
    "print(median_stats)"
   ]
  },
  {
   "cell_type": "markdown",
   "id": "c64dfbc2-3b8e-479d-8027-1a3982ec13ad",
   "metadata": {},
   "source": [
    "# calculate mode for each numerical column"
   ]
  },
  {
   "cell_type": "code",
   "execution_count": null,
   "id": "fead94d9-4c0a-4414-8f9c-e21448e37e0b",
   "metadata": {},
   "outputs": [],
   "source": [
    "mode_stats = df.mode().iloc[0]\n",
    "print(\"Mode for Numerical Features:\")\n",
    "print(mode_stats)"
   ]
  },
  {
   "cell_type": "markdown",
   "id": "772cf2c6-0bb2-478f-9c9b-b9ddd4c9bcd2",
   "metadata": {},
   "source": [
    "# Variance of numerical column"
   ]
  },
  {
   "cell_type": "code",
   "execution_count": null,
   "id": "06176800-0054-4c95-b476-737f882673b9",
   "metadata": {},
   "outputs": [],
   "source": [
    "# Calculate the variance for each numerical column\n",
    "variance_stats = df.var()\n",
    "print(\"\\nVariance for Numerical Features:\")\n",
    "print(variance_stats)"
   ]
  },
  {
   "cell_type": "markdown",
   "id": "3bd0d845-6acb-415f-9aaf-fb68e872802e",
   "metadata": {},
   "source": [
    "## Correlation matrix"
   ]
  },
  {
   "cell_type": "code",
   "execution_count": null,
   "id": "6b7ea5be-2afd-4b18-a5e5-257625a38829",
   "metadata": {},
   "outputs": [],
   "source": [
    "# Calculate the correlation matrix\n",
    "correlation_matrix = df.corr()\n",
    "print(\"Correlation Matrix:\")\n",
    "print(correlation_matrix)"
   ]
  },
  {
   "cell_type": "markdown",
   "id": "d593b7c9-40be-4f66-908c-56eb6df71d09",
   "metadata": {},
   "source": [
    "### In depth Analysis of Correlation Matrixe quality.ith higher wine quality.ated with higher wine quality."
   ]
  },
  {
   "cell_type": "markdown",
   "id": "3c0f5aad-93b9-4e4b-baa3-5cbf8e212c59",
   "metadata": {},
   "source": [
    "***Fixed Acidity***: This feature has a positive correlation with Citric Acid (0.671703) and Density (0.668047), indicating that as fixed acidity increases, citric acid and density also tend to increase. It has a negative correlation with pH (-0.682978), indicating that as fixed acidity increases, pH tends to decrease.    \n",
    "\n",
    "***Volatile Acidity***: It has a strong negative correlation with Citric Acid (-0.552496), suggesting that as volatile acidity increases, citric acid tends to decrease. It also has a negative correlation with Quality (-0.390558), meaning that higher volatile acidity is associated with lower wine quality.    \n",
    "\n",
    "***Citric Acid***: It has a positive correlation with Fixed Acidity (0.671703), Density (0.364947), and Quality (0.226373). Higher citric acid is associated with higher fixed acidity, density, and wine quality.    \n",
    "\n",
    "***Residual Sugar***: It has a positive correlation with Free Sulfur Dioxide (0.187049) and Total Sulfur Dioxide (0.203028).  \n",
    "\n",
    "***Chlorides***: It has a positive correlation with Sulphates (0.371260) and a negative correlation with Alcohol (-0.221141).   \n",
    "\n",
    "***Free Sulfur Dioxide***: It has a positive correlation with Total Sulfur Dioxide (0.667666).    \n",
    "\n",
    "***Total Sulfur Dioxide***: It has a negative correlation with Alcohol (-0.205654) and Density (0.071269).    \n",
    "\n",
    "***Density***: It has a negative correlation with Fixed Acidity (-0.113181), Citric Acid (-0.541904), and pH (-0.341699).    \n",
    "\n",
    "***pH***: It has a negative correlation with Fixed Acidity (-0.682978) and a positive correlation with Volatile Acidity (0.234937).    \n",
    "\n",
    "***Sulphates***: It has a positive correlation with Chlorides (0.371260) and Quality (0.251397).    \n",
    "\n",
    "***Alcohol***: It has a positive correlation with Quality (0.476166) and a negative correlation with Density (-0.496180).     \n",
    "\n",
    "***Quality***: It has a positive correlation with Alcohol (0.476166), indicating that higher alcohol content is associated with higher wine quality.  "
   ]
  },
  {
   "cell_type": "markdown",
   "id": "7eec7029-e49d-437f-a06a-33674b339440",
   "metadata": {},
   "source": [
    "# Visualization"
   ]
  },
  {
   "cell_type": "markdown",
   "id": "b4142aff-54cf-4ea4-9fca-c812304e06e8",
   "metadata": {},
   "source": [
    "## histograms or density plots for each numerical feature to visualize their distributions"
   ]
  },
  {
   "cell_type": "code",
   "execution_count": null,
   "id": "5a5cf149-2a67-4818-a9a8-861b896adf57",
   "metadata": {},
   "outputs": [],
   "source": [
    "columns_to_visualize = ['fixed acidity', 'volatile acidity', 'citric acid', 'residual sugar', 'chlorides', 'free sulfur dioxide', 'total sulfur dioxide', 'density', 'pH', 'sulphates', 'alcohol']\n",
    "\n",
    "for column in columns_to_visualize:\n",
    "    plt.figure(figsize=(8, 4))\n",
    "    sns.histplot(data=df, x=column, kde=True)\n",
    "    plt.title(f'Distribution of {column}')\n",
    "    plt.xlabel(column)\n",
    "    plt.ylabel('Frequency')\n",
    "    plt.show()"
   ]
  },
  {
   "cell_type": "markdown",
   "id": "d56fb09d-b80c-4a81-a741-d219691ba2c4",
   "metadata": {},
   "source": [
    "##  box plots to identify outliers and visualize feature distributions:"
   ]
  },
  {
   "cell_type": "code",
   "execution_count": null,
   "id": "c2644719-1bdf-4e0a-84df-b39fee3fc79c",
   "metadata": {},
   "outputs": [],
   "source": [
    "for column in columns_to_visualize:\n",
    "    plt.figure(figsize=(8, 4))\n",
    "    sns.boxplot(data=df, x=column)\n",
    "    plt.title(f'Box Plot of {column}')\n",
    "    plt.xlabel(column)\n",
    "    plt.show()\n"
   ]
  },
  {
   "cell_type": "markdown",
   "id": "e3d85629-9a03-4a5b-8fbf-6ba344951b11",
   "metadata": {},
   "source": [
    "### Plot bar charts or count plots to visualize the distribution of wine quality ratings:"
   ]
  },
  {
   "cell_type": "code",
   "execution_count": null,
   "id": "f1d219d8-4549-4f11-92c3-1f01a5c4b221",
   "metadata": {},
   "outputs": [],
   "source": [
    "plt.figure(figsize=(8, 4))\n",
    "sns.countplot(data=df, x='quality')\n",
    "plt.title('Distribution of Wine Quality Ratings')\n",
    "plt.xlabel('Quality')\n",
    "plt.ylabel('Count')\n",
    "plt.show()"
   ]
  },
  {
   "cell_type": "markdown",
   "id": "b0fb9c83-df08-4899-ad6a-fe6e0c60d423",
   "metadata": {},
   "source": [
    "### pairwise relationships between features using scatter plots and color them by wine quality"
   ]
  },
  {
   "cell_type": "code",
   "execution_count": null,
   "id": "10aaa01c-c4ff-4930-b668-6fc77125043f",
   "metadata": {},
   "outputs": [],
   "source": [
    "sns.pairplot(data=df, hue='quality', markers=[\"o\", \"s\", \"D\", \"X\", \"P\", \"^\"], palette=\"Set1\")\n",
    "plt.title('Pairwise Relationships Between Features by Wine Quality')\n",
    "plt.show()"
   ]
  },
  {
   "cell_type": "markdown",
   "id": "43a0eac9-88dc-406c-b03a-e5992dcdc39f",
   "metadata": {},
   "source": [
    "# Rename columns"
   ]
  },
  {
   "cell_type": "code",
   "execution_count": null,
   "id": "40edba7d-7807-44fa-b6a7-d2c47cf7cdfc",
   "metadata": {},
   "outputs": [],
   "source": [
    "df.columns = ['fixed_acidity', 'volatile_acidity', 'citric_acid', 'residual_sugar',\n",
    "       'chlorides', 'free_sulfur_dioxide', 'total_sulfur dioxide', 'density',\n",
    "       'pH', 'sulphates', 'alcohol', 'quality']"
   ]
  },
  {
   "cell_type": "markdown",
   "id": "b5a16b9c-dc7d-4d44-bc52-8fa280aac336",
   "metadata": {},
   "source": [
    "# hypotheses test"
   ]
  },
  {
   "cell_type": "markdown",
   "id": "6c506d88-63c8-455f-a7f8-cb0ab8e28f2e",
   "metadata": {},
   "source": [
    "### quality ~ fixed_acidity"
   ]
  },
  {
   "cell_type": "code",
   "execution_count": null,
   "id": "4f5a071f-136b-472a-a774-948d6eab461e",
   "metadata": {},
   "outputs": [],
   "source": [
    "formula = 'quality ~ C(fixed_acidity)'\n",
    "\n",
    "# Fit the OLS model\n",
    "model = ols(formula, data=df).fit()\n",
    "\n",
    "# Perform ANOVA\n",
    "anova_table = sm.stats.anova_lm(model, typ=2)\n",
    "\n",
    "# Print the ANOVA table\n",
    "print(anova_table)\n",
    "\n",
    "# Check for significant differences\n",
    "alpha = 0.05\n",
    "p_value = anova_table['PR(>F)'][0]\n",
    "\n",
    "if p_value < alpha:\n",
    "    print(f'There are significant differences in wine quality based on fixed acidity (p-value = {p_value}).')\n",
    "else:\n",
    "    print(f'There are no significant differences in wine quality based on fixed acidity (p-value = {p_value}).')"
   ]
  },
  {
   "cell_type": "markdown",
   "id": "797b3087-8eb7-48b8-8bfd-46972935ebf5",
   "metadata": {},
   "source": [
    "### quality ~ residual sugar"
   ]
  },
  {
   "cell_type": "code",
   "execution_count": null,
   "id": "5a344e93-934a-4eb4-a210-dadae19b69d0",
   "metadata": {},
   "outputs": [],
   "source": [
    "formula = 'quality ~ C(residual_sugar)'\n",
    "\n",
    "# Fit the OLS model\n",
    "model = ols(formula, data=df).fit()\n",
    "\n",
    "# Perform ANOVA\n",
    "anova_table = sm.stats.anova_lm(model, typ=2)\n",
    "\n",
    "# Print the ANOVA table\n",
    "print(anova_table)\n",
    "\n",
    "# Check for significant differences\n",
    "alpha = 0.05\n",
    "p_value = anova_table['PR(>F)'][0]\n",
    "\n",
    "if p_value < alpha:\n",
    "    print(f'There are significant differences in wine quality based on residual sugar (p-value = {p_value}).')\n",
    "else:\n",
    "    print(f'There are no significant differences in wine quality based on residual sugar (p-value = {p_value}).')"
   ]
  },
  {
   "cell_type": "markdown",
   "id": "0df0ed68-a9bd-4243-8a88-35298d6c0286",
   "metadata": {},
   "source": [
    "### quality ~ pH"
   ]
  },
  {
   "cell_type": "code",
   "execution_count": null,
   "id": "e0dd8a47-1f89-452d-a6ee-6ba33da93132",
   "metadata": {},
   "outputs": [],
   "source": [
    "formula = 'quality ~ C(pH)'\n",
    "\n",
    "# Fit the OLS model\n",
    "model = ols(formula, data=df).fit()\n",
    "\n",
    "# Perform ANOVA\n",
    "anova_table = sm.stats.anova_lm(model, typ=2)\n",
    "\n",
    "# Print the ANOVA table\n",
    "print(anova_table)\n",
    "\n",
    "# Check for significant differences\n",
    "alpha = 0.05\n",
    "p_value = anova_table['PR(>F)'][0]\n",
    "\n",
    "if p_value < alpha:\n",
    "    print(f'There are significant differences in wine quality based on pH (p-value = {p_value}).')\n",
    "else:\n",
    "    print(f'There are no significant differences in wine quality based on pH (p-value = {p_value}).')"
   ]
  },
  {
   "cell_type": "code",
   "execution_count": null,
   "id": "d5899a01-1817-4def-a80d-c5c3b30a53d2",
   "metadata": {},
   "outputs": [],
   "source": []
  }
 ],
 "metadata": {
  "kernelspec": {
   "display_name": "Python 3 (ipykernel)",
   "language": "python",
   "name": "python3"
  },
  "language_info": {
   "codemirror_mode": {
    "name": "ipython",
    "version": 3
   },
   "file_extension": ".py",
   "mimetype": "text/x-python",
   "name": "python",
   "nbconvert_exporter": "python",
   "pygments_lexer": "ipython3",
   "version": "3.10.7"
  }
 },
 "nbformat": 4,
 "nbformat_minor": 5
}
