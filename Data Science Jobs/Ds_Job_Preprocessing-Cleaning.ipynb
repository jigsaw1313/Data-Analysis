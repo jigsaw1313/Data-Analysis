{
 "cells": [
  {
   "cell_type": "code",
   "execution_count": 1,
   "id": "cb34187b",
   "metadata": {},
   "outputs": [],
   "source": [
    "import pandas as pd\n",
    "import numpy as np"
   ]
  },
  {
   "cell_type": "code",
   "execution_count": 2,
   "id": "2be5238b",
   "metadata": {
    "scrolled": true
   },
   "outputs": [],
   "source": [
    "df = pd.read_csv(r\"C:\\Users\\mrmhm\\Desktop\\Python\\Datasets For Projects\\Uncleaned_DS_jobs.csv\")"
   ]
  },
  {
   "cell_type": "markdown",
   "id": "29351b37",
   "metadata": {},
   "source": [
    "# Handling `-1` In Columns"
   ]
  },
  {
   "cell_type": "code",
   "execution_count": 3,
   "id": "e82314c3",
   "metadata": {},
   "outputs": [],
   "source": [
    "def correctMinusOne(df, cols):\n",
    "    for col in cols:\n",
    "        df.loc[(df[col] == '-1'), col] = np.nan"
   ]
  },
  {
   "cell_type": "code",
   "execution_count": 4,
   "id": "f0490f12",
   "metadata": {},
   "outputs": [],
   "source": [
    "correctMinusOne(df, ['Headquarters', 'Size', 'Type of ownership', 'Industry', 'Sector', 'Revenue', 'Competitors'])\n",
    "df.loc[(df['Founded'] == -1), 'Founded'] = np.nan"
   ]
  },
  {
   "cell_type": "markdown",
   "id": "b0c2d1e6",
   "metadata": {},
   "source": [
    "# Drop Duplicates"
   ]
  },
  {
   "cell_type": "code",
   "execution_count": 5,
   "id": "2d5b4364",
   "metadata": {
    "scrolled": true
   },
   "outputs": [
    {
     "data": {
      "text/html": [
       "<div>\n",
       "<style scoped>\n",
       "    .dataframe tbody tr th:only-of-type {\n",
       "        vertical-align: middle;\n",
       "    }\n",
       "\n",
       "    .dataframe tbody tr th {\n",
       "        vertical-align: top;\n",
       "    }\n",
       "\n",
       "    .dataframe thead th {\n",
       "        text-align: right;\n",
       "    }\n",
       "</style>\n",
       "<table border=\"1\" class=\"dataframe\">\n",
       "  <thead>\n",
       "    <tr style=\"text-align: right;\">\n",
       "      <th></th>\n",
       "      <th>index</th>\n",
       "      <th>Job Title</th>\n",
       "      <th>Salary Estimate</th>\n",
       "      <th>Job Description</th>\n",
       "      <th>Rating</th>\n",
       "      <th>Company Name</th>\n",
       "      <th>Location</th>\n",
       "      <th>Headquarters</th>\n",
       "      <th>Size</th>\n",
       "      <th>Founded</th>\n",
       "      <th>Type of ownership</th>\n",
       "      <th>Industry</th>\n",
       "      <th>Sector</th>\n",
       "      <th>Revenue</th>\n",
       "      <th>Competitors</th>\n",
       "    </tr>\n",
       "  </thead>\n",
       "  <tbody>\n",
       "    <tr>\n",
       "      <th>0</th>\n",
       "      <td>0</td>\n",
       "      <td>Sr Data Scientist</td>\n",
       "      <td>$137K-$171K (Glassdoor est.)</td>\n",
       "      <td>Description\\n\\nThe Senior Data Scientist is re...</td>\n",
       "      <td>3.1</td>\n",
       "      <td>Healthfirst\\n3.1</td>\n",
       "      <td>New York, NY</td>\n",
       "      <td>New York, NY</td>\n",
       "      <td>1001 to 5000 employees</td>\n",
       "      <td>1993.0</td>\n",
       "      <td>Nonprofit Organization</td>\n",
       "      <td>Insurance Carriers</td>\n",
       "      <td>Insurance</td>\n",
       "      <td>Unknown / Non-Applicable</td>\n",
       "      <td>EmblemHealth, UnitedHealth Group, Aetna</td>\n",
       "    </tr>\n",
       "    <tr>\n",
       "      <th>1</th>\n",
       "      <td>1</td>\n",
       "      <td>Data Scientist</td>\n",
       "      <td>$137K-$171K (Glassdoor est.)</td>\n",
       "      <td>Secure our Nation, Ignite your Future\\n\\nJoin ...</td>\n",
       "      <td>4.2</td>\n",
       "      <td>ManTech\\n4.2</td>\n",
       "      <td>Chantilly, VA</td>\n",
       "      <td>Herndon, VA</td>\n",
       "      <td>5001 to 10000 employees</td>\n",
       "      <td>1968.0</td>\n",
       "      <td>Company - Public</td>\n",
       "      <td>Research &amp; Development</td>\n",
       "      <td>Business Services</td>\n",
       "      <td>$1 to $2 billion (USD)</td>\n",
       "      <td>NaN</td>\n",
       "    </tr>\n",
       "    <tr>\n",
       "      <th>2</th>\n",
       "      <td>2</td>\n",
       "      <td>Data Scientist</td>\n",
       "      <td>$137K-$171K (Glassdoor est.)</td>\n",
       "      <td>Overview\\n\\n\\nAnalysis Group is one of the lar...</td>\n",
       "      <td>3.8</td>\n",
       "      <td>Analysis Group\\n3.8</td>\n",
       "      <td>Boston, MA</td>\n",
       "      <td>Boston, MA</td>\n",
       "      <td>1001 to 5000 employees</td>\n",
       "      <td>1981.0</td>\n",
       "      <td>Private Practice / Firm</td>\n",
       "      <td>Consulting</td>\n",
       "      <td>Business Services</td>\n",
       "      <td>$100 to $500 million (USD)</td>\n",
       "      <td>NaN</td>\n",
       "    </tr>\n",
       "    <tr>\n",
       "      <th>3</th>\n",
       "      <td>3</td>\n",
       "      <td>Data Scientist</td>\n",
       "      <td>$137K-$171K (Glassdoor est.)</td>\n",
       "      <td>JOB DESCRIPTION:\\n\\nDo you have a passion for ...</td>\n",
       "      <td>3.5</td>\n",
       "      <td>INFICON\\n3.5</td>\n",
       "      <td>Newton, MA</td>\n",
       "      <td>Bad Ragaz, Switzerland</td>\n",
       "      <td>501 to 1000 employees</td>\n",
       "      <td>2000.0</td>\n",
       "      <td>Company - Public</td>\n",
       "      <td>Electrical &amp; Electronic Manufacturing</td>\n",
       "      <td>Manufacturing</td>\n",
       "      <td>$100 to $500 million (USD)</td>\n",
       "      <td>MKS Instruments, Pfeiffer Vacuum, Agilent Tech...</td>\n",
       "    </tr>\n",
       "    <tr>\n",
       "      <th>4</th>\n",
       "      <td>4</td>\n",
       "      <td>Data Scientist</td>\n",
       "      <td>$137K-$171K (Glassdoor est.)</td>\n",
       "      <td>Data Scientist\\nAffinity Solutions / Marketing...</td>\n",
       "      <td>2.9</td>\n",
       "      <td>Affinity Solutions\\n2.9</td>\n",
       "      <td>New York, NY</td>\n",
       "      <td>New York, NY</td>\n",
       "      <td>51 to 200 employees</td>\n",
       "      <td>1998.0</td>\n",
       "      <td>Company - Private</td>\n",
       "      <td>Advertising &amp; Marketing</td>\n",
       "      <td>Business Services</td>\n",
       "      <td>Unknown / Non-Applicable</td>\n",
       "      <td>Commerce Signals, Cardlytics, Yodlee</td>\n",
       "    </tr>\n",
       "    <tr>\n",
       "      <th>...</th>\n",
       "      <td>...</td>\n",
       "      <td>...</td>\n",
       "      <td>...</td>\n",
       "      <td>...</td>\n",
       "      <td>...</td>\n",
       "      <td>...</td>\n",
       "      <td>...</td>\n",
       "      <td>...</td>\n",
       "      <td>...</td>\n",
       "      <td>...</td>\n",
       "      <td>...</td>\n",
       "      <td>...</td>\n",
       "      <td>...</td>\n",
       "      <td>...</td>\n",
       "      <td>...</td>\n",
       "    </tr>\n",
       "    <tr>\n",
       "      <th>667</th>\n",
       "      <td>667</td>\n",
       "      <td>Data Scientist</td>\n",
       "      <td>$105K-$167K (Glassdoor est.)</td>\n",
       "      <td>Summary\\n\\nWe’re looking for a data scientist ...</td>\n",
       "      <td>3.6</td>\n",
       "      <td>TRANZACT\\n3.6</td>\n",
       "      <td>Fort Lee, NJ</td>\n",
       "      <td>Fort Lee, NJ</td>\n",
       "      <td>1001 to 5000 employees</td>\n",
       "      <td>1989.0</td>\n",
       "      <td>Company - Private</td>\n",
       "      <td>Advertising &amp; Marketing</td>\n",
       "      <td>Business Services</td>\n",
       "      <td>Unknown / Non-Applicable</td>\n",
       "      <td>NaN</td>\n",
       "    </tr>\n",
       "    <tr>\n",
       "      <th>668</th>\n",
       "      <td>668</td>\n",
       "      <td>Data Scientist</td>\n",
       "      <td>$105K-$167K (Glassdoor est.)</td>\n",
       "      <td>Job Description\\nBecome a thought leader withi...</td>\n",
       "      <td>-1.0</td>\n",
       "      <td>JKGT</td>\n",
       "      <td>San Francisco, CA</td>\n",
       "      <td>NaN</td>\n",
       "      <td>NaN</td>\n",
       "      <td>NaN</td>\n",
       "      <td>NaN</td>\n",
       "      <td>NaN</td>\n",
       "      <td>NaN</td>\n",
       "      <td>NaN</td>\n",
       "      <td>NaN</td>\n",
       "    </tr>\n",
       "    <tr>\n",
       "      <th>669</th>\n",
       "      <td>669</td>\n",
       "      <td>Data Scientist</td>\n",
       "      <td>$105K-$167K (Glassdoor est.)</td>\n",
       "      <td>Join a thriving company that is changing the w...</td>\n",
       "      <td>-1.0</td>\n",
       "      <td>AccessHope</td>\n",
       "      <td>Irwindale, CA</td>\n",
       "      <td>NaN</td>\n",
       "      <td>NaN</td>\n",
       "      <td>NaN</td>\n",
       "      <td>NaN</td>\n",
       "      <td>NaN</td>\n",
       "      <td>NaN</td>\n",
       "      <td>NaN</td>\n",
       "      <td>NaN</td>\n",
       "    </tr>\n",
       "    <tr>\n",
       "      <th>670</th>\n",
       "      <td>670</td>\n",
       "      <td>Data Scientist</td>\n",
       "      <td>$105K-$167K (Glassdoor est.)</td>\n",
       "      <td>100 Remote Opportunity As an AINLP Data Scient...</td>\n",
       "      <td>5.0</td>\n",
       "      <td>ChaTeck Incorporated\\n5.0</td>\n",
       "      <td>San Francisco, CA</td>\n",
       "      <td>Santa Clara, CA</td>\n",
       "      <td>1 to 50 employees</td>\n",
       "      <td>NaN</td>\n",
       "      <td>Company - Private</td>\n",
       "      <td>Advertising &amp; Marketing</td>\n",
       "      <td>Business Services</td>\n",
       "      <td>$1 to $5 million (USD)</td>\n",
       "      <td>NaN</td>\n",
       "    </tr>\n",
       "    <tr>\n",
       "      <th>671</th>\n",
       "      <td>671</td>\n",
       "      <td>Data Scientist</td>\n",
       "      <td>$105K-$167K (Glassdoor est.)</td>\n",
       "      <td>Description\\n\\nThe Data Scientist will be part...</td>\n",
       "      <td>2.7</td>\n",
       "      <td>1-800-Flowers\\n2.7</td>\n",
       "      <td>New York, NY</td>\n",
       "      <td>Carle Place, NY</td>\n",
       "      <td>1001 to 5000 employees</td>\n",
       "      <td>1976.0</td>\n",
       "      <td>Company - Public</td>\n",
       "      <td>Wholesale</td>\n",
       "      <td>Business Services</td>\n",
       "      <td>$1 to $2 billion (USD)</td>\n",
       "      <td>NaN</td>\n",
       "    </tr>\n",
       "  </tbody>\n",
       "</table>\n",
       "<p>672 rows × 15 columns</p>\n",
       "</div>"
      ],
      "text/plain": [
       "     index          Job Title               Salary Estimate  \\\n",
       "0        0  Sr Data Scientist  $137K-$171K (Glassdoor est.)   \n",
       "1        1     Data Scientist  $137K-$171K (Glassdoor est.)   \n",
       "2        2     Data Scientist  $137K-$171K (Glassdoor est.)   \n",
       "3        3     Data Scientist  $137K-$171K (Glassdoor est.)   \n",
       "4        4     Data Scientist  $137K-$171K (Glassdoor est.)   \n",
       "..     ...                ...                           ...   \n",
       "667    667     Data Scientist  $105K-$167K (Glassdoor est.)   \n",
       "668    668     Data Scientist  $105K-$167K (Glassdoor est.)   \n",
       "669    669     Data Scientist  $105K-$167K (Glassdoor est.)   \n",
       "670    670     Data Scientist  $105K-$167K (Glassdoor est.)   \n",
       "671    671     Data Scientist  $105K-$167K (Glassdoor est.)   \n",
       "\n",
       "                                       Job Description  Rating  \\\n",
       "0    Description\\n\\nThe Senior Data Scientist is re...     3.1   \n",
       "1    Secure our Nation, Ignite your Future\\n\\nJoin ...     4.2   \n",
       "2    Overview\\n\\n\\nAnalysis Group is one of the lar...     3.8   \n",
       "3    JOB DESCRIPTION:\\n\\nDo you have a passion for ...     3.5   \n",
       "4    Data Scientist\\nAffinity Solutions / Marketing...     2.9   \n",
       "..                                                 ...     ...   \n",
       "667  Summary\\n\\nWe’re looking for a data scientist ...     3.6   \n",
       "668  Job Description\\nBecome a thought leader withi...    -1.0   \n",
       "669  Join a thriving company that is changing the w...    -1.0   \n",
       "670  100 Remote Opportunity As an AINLP Data Scient...     5.0   \n",
       "671  Description\\n\\nThe Data Scientist will be part...     2.7   \n",
       "\n",
       "                  Company Name           Location            Headquarters  \\\n",
       "0             Healthfirst\\n3.1       New York, NY            New York, NY   \n",
       "1                 ManTech\\n4.2      Chantilly, VA             Herndon, VA   \n",
       "2          Analysis Group\\n3.8         Boston, MA              Boston, MA   \n",
       "3                 INFICON\\n3.5         Newton, MA  Bad Ragaz, Switzerland   \n",
       "4      Affinity Solutions\\n2.9       New York, NY            New York, NY   \n",
       "..                         ...                ...                     ...   \n",
       "667              TRANZACT\\n3.6       Fort Lee, NJ            Fort Lee, NJ   \n",
       "668                       JKGT  San Francisco, CA                     NaN   \n",
       "669                 AccessHope      Irwindale, CA                     NaN   \n",
       "670  ChaTeck Incorporated\\n5.0  San Francisco, CA         Santa Clara, CA   \n",
       "671         1-800-Flowers\\n2.7       New York, NY         Carle Place, NY   \n",
       "\n",
       "                        Size  Founded        Type of ownership  \\\n",
       "0     1001 to 5000 employees   1993.0   Nonprofit Organization   \n",
       "1    5001 to 10000 employees   1968.0         Company - Public   \n",
       "2     1001 to 5000 employees   1981.0  Private Practice / Firm   \n",
       "3      501 to 1000 employees   2000.0         Company - Public   \n",
       "4        51 to 200 employees   1998.0        Company - Private   \n",
       "..                       ...      ...                      ...   \n",
       "667   1001 to 5000 employees   1989.0        Company - Private   \n",
       "668                      NaN      NaN                      NaN   \n",
       "669                      NaN      NaN                      NaN   \n",
       "670        1 to 50 employees      NaN        Company - Private   \n",
       "671   1001 to 5000 employees   1976.0         Company - Public   \n",
       "\n",
       "                                  Industry             Sector  \\\n",
       "0                       Insurance Carriers          Insurance   \n",
       "1                   Research & Development  Business Services   \n",
       "2                               Consulting  Business Services   \n",
       "3    Electrical & Electronic Manufacturing      Manufacturing   \n",
       "4                  Advertising & Marketing  Business Services   \n",
       "..                                     ...                ...   \n",
       "667                Advertising & Marketing  Business Services   \n",
       "668                                    NaN                NaN   \n",
       "669                                    NaN                NaN   \n",
       "670                Advertising & Marketing  Business Services   \n",
       "671                              Wholesale  Business Services   \n",
       "\n",
       "                        Revenue  \\\n",
       "0      Unknown / Non-Applicable   \n",
       "1        $1 to $2 billion (USD)   \n",
       "2    $100 to $500 million (USD)   \n",
       "3    $100 to $500 million (USD)   \n",
       "4      Unknown / Non-Applicable   \n",
       "..                          ...   \n",
       "667    Unknown / Non-Applicable   \n",
       "668                         NaN   \n",
       "669                         NaN   \n",
       "670      $1 to $5 million (USD)   \n",
       "671      $1 to $2 billion (USD)   \n",
       "\n",
       "                                           Competitors  \n",
       "0              EmblemHealth, UnitedHealth Group, Aetna  \n",
       "1                                                  NaN  \n",
       "2                                                  NaN  \n",
       "3    MKS Instruments, Pfeiffer Vacuum, Agilent Tech...  \n",
       "4                 Commerce Signals, Cardlytics, Yodlee  \n",
       "..                                                 ...  \n",
       "667                                                NaN  \n",
       "668                                                NaN  \n",
       "669                                                NaN  \n",
       "670                                                NaN  \n",
       "671                                                NaN  \n",
       "\n",
       "[672 rows x 15 columns]"
      ]
     },
     "execution_count": 5,
     "metadata": {},
     "output_type": "execute_result"
    }
   ],
   "source": [
    "df.drop_duplicates()"
   ]
  },
  {
   "cell_type": "code",
   "execution_count": 6,
   "id": "2277fb9f",
   "metadata": {
    "scrolled": true
   },
   "outputs": [
    {
     "name": "stdout",
     "output_type": "stream",
     "text": [
      "<class 'pandas.core.frame.DataFrame'>\n",
      "RangeIndex: 672 entries, 0 to 671\n",
      "Data columns (total 15 columns):\n",
      " #   Column             Non-Null Count  Dtype  \n",
      "---  ------             --------------  -----  \n",
      " 0   index              672 non-null    int64  \n",
      " 1   Job Title          672 non-null    object \n",
      " 2   Salary Estimate    672 non-null    object \n",
      " 3   Job Description    672 non-null    object \n",
      " 4   Rating             672 non-null    float64\n",
      " 5   Company Name       672 non-null    object \n",
      " 6   Location           672 non-null    object \n",
      " 7   Headquarters       641 non-null    object \n",
      " 8   Size               645 non-null    object \n",
      " 9   Founded            554 non-null    float64\n",
      " 10  Type of ownership  645 non-null    object \n",
      " 11  Industry           601 non-null    object \n",
      " 12  Sector             601 non-null    object \n",
      " 13  Revenue            645 non-null    object \n",
      " 14  Competitors        171 non-null    object \n",
      "dtypes: float64(2), int64(1), object(12)\n",
      "memory usage: 78.9+ KB\n"
     ]
    }
   ],
   "source": [
    "df.info()"
   ]
  },
  {
   "cell_type": "markdown",
   "id": "5c176ad4",
   "metadata": {},
   "source": [
    "# Columns Evaluation"
   ]
  },
  {
   "cell_type": "markdown",
   "id": "7b76177e",
   "metadata": {},
   "source": [
    "#### Working on `Salary Estimate` Column"
   ]
  },
  {
   "cell_type": "code",
   "execution_count": 7,
   "id": "9c7dc51d",
   "metadata": {},
   "outputs": [],
   "source": [
    "import re\n",
    "def extractSalary(salary_string):\n",
    "    pattern = r'\\$(\\d+)K-\\$(\\d+)K'\n",
    "    match = re.search(pattern, salary_string)\n",
    "    if match:\n",
    "        min_salary = int(match.group(1))\n",
    "        max_salary = int(match.group(2))\n",
    "        return min_salary, max_salary\n",
    "    else:\n",
    "        return None, None"
   ]
  },
  {
   "cell_type": "code",
   "execution_count": 8,
   "id": "39af2213",
   "metadata": {},
   "outputs": [],
   "source": [
    "df[[\"Min_Salary\", \"Max_Salary\"]] = df['Salary Estimate'].apply(extractSalary).apply(pd.Series)"
   ]
  },
  {
   "cell_type": "code",
   "execution_count": 9,
   "id": "ed147888",
   "metadata": {},
   "outputs": [],
   "source": [
    "df.drop(columns=['Salary Estimate'], inplace = True)"
   ]
  },
  {
   "cell_type": "markdown",
   "id": "4af9a69e",
   "metadata": {},
   "source": [
    "#### Working on `Company Name` Column"
   ]
  },
  {
   "cell_type": "code",
   "execution_count": 10,
   "id": "a4ca5b25",
   "metadata": {},
   "outputs": [],
   "source": [
    "def companyName(co_name):\n",
    "    co_name = ''.join(filter(str.isalpha, co_name))\n",
    "    return co_name"
   ]
  },
  {
   "cell_type": "code",
   "execution_count": 11,
   "id": "a7342fa0",
   "metadata": {
    "scrolled": true
   },
   "outputs": [],
   "source": [
    "df['Company Name'] = df['Company Name'].apply(companyName).apply(pd.Series)"
   ]
  },
  {
   "cell_type": "markdown",
   "id": "31e518e1",
   "metadata": {},
   "source": [
    "#### Extract State Code In `Location` Column"
   ]
  },
  {
   "cell_type": "code",
   "execution_count": 12,
   "id": "9af1e8f6",
   "metadata": {},
   "outputs": [],
   "source": [
    "def extractLocation(loc):\n",
    "    return loc.split(',')[0].strip()"
   ]
  },
  {
   "cell_type": "code",
   "execution_count": 13,
   "id": "5b21f29a",
   "metadata": {},
   "outputs": [],
   "source": [
    "df['Location'] = df['Location'].apply(extractLocation).apply(pd.Series)"
   ]
  },
  {
   "cell_type": "markdown",
   "id": "4bcd239b",
   "metadata": {},
   "source": [
    "#### Extract Company Size:"
   ]
  },
  {
   "cell_type": "code",
   "execution_count": 14,
   "id": "ad0d5d7f",
   "metadata": {},
   "outputs": [],
   "source": [
    "def extractSize(size):\n",
    "    pattern = r'(\\d+) to (\\d+)'\n",
    "    if isinstance(size, str):\n",
    "        match = re.match(pattern, size)\n",
    "        if match :\n",
    "            min_size = int(match.group(1))\n",
    "            max_size = int(match.group(2))\n",
    "            return min_size, max_size\n",
    "        else:\n",
    "            return None, None"
   ]
  },
  {
   "cell_type": "code",
   "execution_count": 15,
   "id": "fa2b3dc7",
   "metadata": {
    "scrolled": true
   },
   "outputs": [],
   "source": [
    "df[['Min_Size', 'Max_Size']] = df['Size'].apply(extractSize).apply(pd.Series)\n"
   ]
  },
  {
   "cell_type": "markdown",
   "id": "14109f7f",
   "metadata": {},
   "source": [
    "#### Categorization on `Revenue` Column"
   ]
  },
  {
   "cell_type": "code",
   "execution_count": 16,
   "id": "f51e75e6",
   "metadata": {},
   "outputs": [
    {
     "data": {
      "text/plain": [
       "Revenue\n",
       "Unknown / Non-Applicable            213\n",
       "$100 to $500 million (USD)           94\n",
       "$10+ billion (USD)                   63\n",
       "$2 to $5 billion (USD)               45\n",
       "$10 to $25 million (USD)             41\n",
       "$1 to $2 billion (USD)               36\n",
       "$25 to $50 million (USD)             36\n",
       "$50 to $100 million (USD)            31\n",
       "$1 to $5 million (USD)               31\n",
       "$500 million to $1 billion (USD)     19\n",
       "$5 to $10 million (USD)              14\n",
       "Less than $1 million (USD)           14\n",
       "$5 to $10 billion (USD)               8\n",
       "Name: count, dtype: int64"
      ]
     },
     "execution_count": 16,
     "metadata": {},
     "output_type": "execute_result"
    }
   ],
   "source": [
    "df['Revenue'].value_counts()"
   ]
  },
  {
   "cell_type": "code",
   "execution_count": 17,
   "id": "8fb2711e",
   "metadata": {},
   "outputs": [],
   "source": [
    "def group_categories(revenue):\n",
    "    if isinstance(revenue, str):\n",
    "        if revenue == 'Unknown / Non-Applicable':\n",
    "            return 'Unknown / Non-Applicable'\n",
    "        elif 'billion' in revenue:\n",
    "            return 'High Revenue'\n",
    "        elif 'million' in revenue:\n",
    "            return 'Medium Revenue'\n",
    "        elif 'less than' in revenue:\n",
    "            return 'Low Revenue'\n",
    "        else:\n",
    "            return revenue"
   ]
  },
  {
   "cell_type": "code",
   "execution_count": 18,
   "id": "7fc8155f",
   "metadata": {},
   "outputs": [],
   "source": [
    "df['Revenue'] = df['Revenue'].apply(group_categories).apply(pd.Series)"
   ]
  },
  {
   "cell_type": "code",
   "execution_count": 19,
   "id": "41db421f",
   "metadata": {
    "scrolled": false
   },
   "outputs": [
    {
     "data": {
      "text/plain": [
       "Revenue\n",
       "Medium Revenue              261\n",
       "Unknown / Non-Applicable    213\n",
       "High Revenue                171\n",
       "Name: count, dtype: int64"
      ]
     },
     "execution_count": 19,
     "metadata": {},
     "output_type": "execute_result"
    }
   ],
   "source": [
    "df['Revenue'].value_counts()"
   ]
  },
  {
   "cell_type": "code",
   "execution_count": 20,
   "id": "8d8ef75a",
   "metadata": {},
   "outputs": [
    {
     "data": {
      "text/html": [
       "<div>\n",
       "<style scoped>\n",
       "    .dataframe tbody tr th:only-of-type {\n",
       "        vertical-align: middle;\n",
       "    }\n",
       "\n",
       "    .dataframe tbody tr th {\n",
       "        vertical-align: top;\n",
       "    }\n",
       "\n",
       "    .dataframe thead th {\n",
       "        text-align: right;\n",
       "    }\n",
       "</style>\n",
       "<table border=\"1\" class=\"dataframe\">\n",
       "  <thead>\n",
       "    <tr style=\"text-align: right;\">\n",
       "      <th></th>\n",
       "      <th>index</th>\n",
       "      <th>Job Title</th>\n",
       "      <th>Job Description</th>\n",
       "      <th>Rating</th>\n",
       "      <th>Company Name</th>\n",
       "      <th>Location</th>\n",
       "      <th>Headquarters</th>\n",
       "      <th>Size</th>\n",
       "      <th>Founded</th>\n",
       "      <th>Type of ownership</th>\n",
       "      <th>Industry</th>\n",
       "      <th>Sector</th>\n",
       "      <th>Revenue</th>\n",
       "      <th>Competitors</th>\n",
       "      <th>Min_Salary</th>\n",
       "      <th>Max_Salary</th>\n",
       "      <th>Min_Size</th>\n",
       "      <th>Max_Size</th>\n",
       "    </tr>\n",
       "  </thead>\n",
       "  <tbody>\n",
       "    <tr>\n",
       "      <th>0</th>\n",
       "      <td>0</td>\n",
       "      <td>Sr Data Scientist</td>\n",
       "      <td>Description\\n\\nThe Senior Data Scientist is re...</td>\n",
       "      <td>3.1</td>\n",
       "      <td>Healthfirst</td>\n",
       "      <td>New York</td>\n",
       "      <td>New York, NY</td>\n",
       "      <td>1001 to 5000 employees</td>\n",
       "      <td>1993.0</td>\n",
       "      <td>Nonprofit Organization</td>\n",
       "      <td>Insurance Carriers</td>\n",
       "      <td>Insurance</td>\n",
       "      <td>Unknown / Non-Applicable</td>\n",
       "      <td>EmblemHealth, UnitedHealth Group, Aetna</td>\n",
       "      <td>137</td>\n",
       "      <td>171</td>\n",
       "      <td>1001.0</td>\n",
       "      <td>5000.0</td>\n",
       "    </tr>\n",
       "    <tr>\n",
       "      <th>1</th>\n",
       "      <td>1</td>\n",
       "      <td>Data Scientist</td>\n",
       "      <td>Secure our Nation, Ignite your Future\\n\\nJoin ...</td>\n",
       "      <td>4.2</td>\n",
       "      <td>ManTech</td>\n",
       "      <td>Chantilly</td>\n",
       "      <td>Herndon, VA</td>\n",
       "      <td>5001 to 10000 employees</td>\n",
       "      <td>1968.0</td>\n",
       "      <td>Company - Public</td>\n",
       "      <td>Research &amp; Development</td>\n",
       "      <td>Business Services</td>\n",
       "      <td>High Revenue</td>\n",
       "      <td>NaN</td>\n",
       "      <td>137</td>\n",
       "      <td>171</td>\n",
       "      <td>5001.0</td>\n",
       "      <td>10000.0</td>\n",
       "    </tr>\n",
       "    <tr>\n",
       "      <th>2</th>\n",
       "      <td>2</td>\n",
       "      <td>Data Scientist</td>\n",
       "      <td>Overview\\n\\n\\nAnalysis Group is one of the lar...</td>\n",
       "      <td>3.8</td>\n",
       "      <td>AnalysisGroup</td>\n",
       "      <td>Boston</td>\n",
       "      <td>Boston, MA</td>\n",
       "      <td>1001 to 5000 employees</td>\n",
       "      <td>1981.0</td>\n",
       "      <td>Private Practice / Firm</td>\n",
       "      <td>Consulting</td>\n",
       "      <td>Business Services</td>\n",
       "      <td>Medium Revenue</td>\n",
       "      <td>NaN</td>\n",
       "      <td>137</td>\n",
       "      <td>171</td>\n",
       "      <td>1001.0</td>\n",
       "      <td>5000.0</td>\n",
       "    </tr>\n",
       "    <tr>\n",
       "      <th>3</th>\n",
       "      <td>3</td>\n",
       "      <td>Data Scientist</td>\n",
       "      <td>JOB DESCRIPTION:\\n\\nDo you have a passion for ...</td>\n",
       "      <td>3.5</td>\n",
       "      <td>INFICON</td>\n",
       "      <td>Newton</td>\n",
       "      <td>Bad Ragaz, Switzerland</td>\n",
       "      <td>501 to 1000 employees</td>\n",
       "      <td>2000.0</td>\n",
       "      <td>Company - Public</td>\n",
       "      <td>Electrical &amp; Electronic Manufacturing</td>\n",
       "      <td>Manufacturing</td>\n",
       "      <td>Medium Revenue</td>\n",
       "      <td>MKS Instruments, Pfeiffer Vacuum, Agilent Tech...</td>\n",
       "      <td>137</td>\n",
       "      <td>171</td>\n",
       "      <td>501.0</td>\n",
       "      <td>1000.0</td>\n",
       "    </tr>\n",
       "    <tr>\n",
       "      <th>4</th>\n",
       "      <td>4</td>\n",
       "      <td>Data Scientist</td>\n",
       "      <td>Data Scientist\\nAffinity Solutions / Marketing...</td>\n",
       "      <td>2.9</td>\n",
       "      <td>AffinitySolutions</td>\n",
       "      <td>New York</td>\n",
       "      <td>New York, NY</td>\n",
       "      <td>51 to 200 employees</td>\n",
       "      <td>1998.0</td>\n",
       "      <td>Company - Private</td>\n",
       "      <td>Advertising &amp; Marketing</td>\n",
       "      <td>Business Services</td>\n",
       "      <td>Unknown / Non-Applicable</td>\n",
       "      <td>Commerce Signals, Cardlytics, Yodlee</td>\n",
       "      <td>137</td>\n",
       "      <td>171</td>\n",
       "      <td>51.0</td>\n",
       "      <td>200.0</td>\n",
       "    </tr>\n",
       "  </tbody>\n",
       "</table>\n",
       "</div>"
      ],
      "text/plain": [
       "   index          Job Title  \\\n",
       "0      0  Sr Data Scientist   \n",
       "1      1     Data Scientist   \n",
       "2      2     Data Scientist   \n",
       "3      3     Data Scientist   \n",
       "4      4     Data Scientist   \n",
       "\n",
       "                                     Job Description  Rating  \\\n",
       "0  Description\\n\\nThe Senior Data Scientist is re...     3.1   \n",
       "1  Secure our Nation, Ignite your Future\\n\\nJoin ...     4.2   \n",
       "2  Overview\\n\\n\\nAnalysis Group is one of the lar...     3.8   \n",
       "3  JOB DESCRIPTION:\\n\\nDo you have a passion for ...     3.5   \n",
       "4  Data Scientist\\nAffinity Solutions / Marketing...     2.9   \n",
       "\n",
       "        Company Name   Location            Headquarters  \\\n",
       "0        Healthfirst   New York            New York, NY   \n",
       "1            ManTech  Chantilly             Herndon, VA   \n",
       "2      AnalysisGroup     Boston              Boston, MA   \n",
       "3            INFICON     Newton  Bad Ragaz, Switzerland   \n",
       "4  AffinitySolutions   New York            New York, NY   \n",
       "\n",
       "                      Size  Founded        Type of ownership  \\\n",
       "0   1001 to 5000 employees   1993.0   Nonprofit Organization   \n",
       "1  5001 to 10000 employees   1968.0         Company - Public   \n",
       "2   1001 to 5000 employees   1981.0  Private Practice / Firm   \n",
       "3    501 to 1000 employees   2000.0         Company - Public   \n",
       "4      51 to 200 employees   1998.0        Company - Private   \n",
       "\n",
       "                                Industry             Sector  \\\n",
       "0                     Insurance Carriers          Insurance   \n",
       "1                 Research & Development  Business Services   \n",
       "2                             Consulting  Business Services   \n",
       "3  Electrical & Electronic Manufacturing      Manufacturing   \n",
       "4                Advertising & Marketing  Business Services   \n",
       "\n",
       "                    Revenue  \\\n",
       "0  Unknown / Non-Applicable   \n",
       "1              High Revenue   \n",
       "2            Medium Revenue   \n",
       "3            Medium Revenue   \n",
       "4  Unknown / Non-Applicable   \n",
       "\n",
       "                                         Competitors  Min_Salary  Max_Salary  \\\n",
       "0            EmblemHealth, UnitedHealth Group, Aetna         137         171   \n",
       "1                                                NaN         137         171   \n",
       "2                                                NaN         137         171   \n",
       "3  MKS Instruments, Pfeiffer Vacuum, Agilent Tech...         137         171   \n",
       "4               Commerce Signals, Cardlytics, Yodlee         137         171   \n",
       "\n",
       "   Min_Size  Max_Size  \n",
       "0    1001.0    5000.0  \n",
       "1    5001.0   10000.0  \n",
       "2    1001.0    5000.0  \n",
       "3     501.0    1000.0  \n",
       "4      51.0     200.0  "
      ]
     },
     "execution_count": 20,
     "metadata": {},
     "output_type": "execute_result"
    }
   ],
   "source": [
    "df.head(5)"
   ]
  },
  {
   "cell_type": "markdown",
   "id": "06952dd4",
   "metadata": {},
   "source": [
    "___________________________"
   ]
  },
  {
   "cell_type": "markdown",
   "id": "9726d3bc",
   "metadata": {},
   "source": [
    "#### `Rating` Column"
   ]
  },
  {
   "cell_type": "code",
   "execution_count": 21,
   "id": "0a5ad00c",
   "metadata": {
    "scrolled": true
   },
   "outputs": [],
   "source": [
    "bin_edges = [-2, 0, 2, 3, 4, 5]  \n",
    "bin_labels = ['Very Poor', 'Poor', 'Fair', 'Good', 'Excellent']  # Define bin labels\n",
    "\n",
    "df['Rating'] = pd.cut(df['Rating'], bins=bin_edges, labels=bin_labels)\n"
   ]
  },
  {
   "cell_type": "code",
   "execution_count": 22,
   "id": "ddaf825f",
   "metadata": {},
   "outputs": [
    {
     "data": {
      "text/plain": [
       "Rating\n",
       "Good         352\n",
       "Excellent    225\n",
       "Very Poor     50\n",
       "Fair          44\n",
       "Poor           1\n",
       "Name: count, dtype: int64"
      ]
     },
     "execution_count": 22,
     "metadata": {},
     "output_type": "execute_result"
    }
   ],
   "source": [
    "df['Rating'].value_counts()"
   ]
  },
  {
   "cell_type": "markdown",
   "id": "71dffafa",
   "metadata": {},
   "source": [
    "____________________________________________"
   ]
  },
  {
   "cell_type": "markdown",
   "id": "c9e0bff7",
   "metadata": {},
   "source": [
    "#### `Type of ownership` Column"
   ]
  },
  {
   "cell_type": "code",
   "execution_count": 23,
   "id": "8cf63879",
   "metadata": {},
   "outputs": [
    {
     "data": {
      "text/plain": [
       "Type of ownership\n",
       "Company - Private                 397\n",
       "Company - Public                  153\n",
       "Nonprofit Organization             36\n",
       "Subsidiary or Business Segment     28\n",
       "Government                         10\n",
       "Other Organization                  5\n",
       "Private Practice / Firm             4\n",
       "Unknown                             4\n",
       "College / University                3\n",
       "Self-employed                       2\n",
       "Contract                            2\n",
       "Hospital                            1\n",
       "Name: count, dtype: int64"
      ]
     },
     "execution_count": 23,
     "metadata": {},
     "output_type": "execute_result"
    }
   ],
   "source": [
    "df['Type of ownership'].value_counts()"
   ]
  },
  {
   "cell_type": "code",
   "execution_count": 24,
   "id": "8e9425ea",
   "metadata": {},
   "outputs": [
    {
     "data": {
      "text/plain": [
       "Type of ownership\n",
       "False    645\n",
       "True      27\n",
       "Name: count, dtype: int64"
      ]
     },
     "execution_count": 24,
     "metadata": {},
     "output_type": "execute_result"
    }
   ],
   "source": [
    "df['Type of ownership'].isna().value_counts()"
   ]
  },
  {
   "cell_type": "code",
   "execution_count": 25,
   "id": "ddc948d7",
   "metadata": {},
   "outputs": [],
   "source": [
    "df['Type of ownership'].fillna('Other', inplace = True)"
   ]
  },
  {
   "cell_type": "code",
   "execution_count": 26,
   "id": "c64a4c92",
   "metadata": {},
   "outputs": [],
   "source": [
    "def ownership(ownership):\n",
    "    if \"Company\" in ownership:\n",
    "        return 'Corporate'\n",
    "    elif \"Nonprofit\" in ownership:\n",
    "        return 'Non-Profit'\n",
    "    elif \"Government\" in ownership :\n",
    "        return 'Goverment'\n",
    "    else:\n",
    "        return 'Other'"
   ]
  },
  {
   "cell_type": "code",
   "execution_count": 27,
   "id": "a841ac64",
   "metadata": {},
   "outputs": [],
   "source": [
    "df['Type of ownership'] = df['Type of ownership'].apply(ownership).apply(pd.Series)"
   ]
  },
  {
   "cell_type": "code",
   "execution_count": 28,
   "id": "8f9e5d7b",
   "metadata": {},
   "outputs": [
    {
     "data": {
      "text/plain": [
       "Type of ownership\n",
       "Corporate     550\n",
       "Other          76\n",
       "Non-Profit     36\n",
       "Goverment      10\n",
       "Name: count, dtype: int64"
      ]
     },
     "execution_count": 28,
     "metadata": {},
     "output_type": "execute_result"
    }
   ],
   "source": [
    "df['Type of ownership'].value_counts()"
   ]
  },
  {
   "cell_type": "markdown",
   "id": "dce2ac20",
   "metadata": {},
   "source": [
    "#### `Industry` Columns"
   ]
  },
  {
   "cell_type": "code",
   "execution_count": 29,
   "id": "52d5173e",
   "metadata": {
    "scrolled": true
   },
   "outputs": [
    {
     "data": {
      "text/plain": [
       "Industry\n",
       "Biotech & Pharmaceuticals                   66\n",
       "IT Services                                 61\n",
       "Computer Hardware & Software                57\n",
       "Aerospace & Defense                         46\n",
       "Enterprise Software & Network Solutions     43\n",
       "Consulting                                  38\n",
       "Staffing & Outsourcing                      36\n",
       "Insurance Carriers                          28\n",
       "Internet                                    27\n",
       "Advertising & Marketing                     23\n",
       "Health Care Services & Hospitals            21\n",
       "Research & Development                      17\n",
       "Federal Agencies                            16\n",
       "Investment Banking & Asset Management       13\n",
       "Banks & Credit Unions                        8\n",
       "Lending                                      8\n",
       "Energy                                       5\n",
       "Consumer Products Manufacturing              5\n",
       "Telecommunications Services                  5\n",
       "Insurance Agencies & Brokerages              4\n",
       "Food & Beverage Manufacturing                4\n",
       "Chemical Manufacturing                       3\n",
       "Electrical & Electronic Manufacturing        3\n",
       "Colleges & Universities                      3\n",
       "Other Retail Stores                          3\n",
       "Architectural & Engineering Services         3\n",
       "Utilities                                    3\n",
       "Real Estate                                  3\n",
       "Miscellaneous Manufacturing                  3\n",
       "Accounting                                   3\n",
       "Wholesale                                    3\n",
       "Industrial Manufacturing                     3\n",
       "Video Games                                  3\n",
       "Travel Agencies                              2\n",
       "Express Delivery Services                    2\n",
       "Timber Operations                            2\n",
       "Financial Transaction Processing             2\n",
       "Construction                                 2\n",
       "Health, Beauty, & Fitness                    2\n",
       "Transportation Equipment Manufacturing       2\n",
       "Oil & Gas Services                           2\n",
       "Venture Capital & Private Equity             2\n",
       "Consumer Electronics & Appliances Stores     2\n",
       "Department, Clothing, & Shoe Stores          1\n",
       "Publishing                                   1\n",
       "Social Assistance                            1\n",
       "Farm Support Services                        1\n",
       "Logistics & Supply Chain                     1\n",
       "Transportation Management                    1\n",
       "State & Regional Agencies                    1\n",
       "Hotels, Motels, & Resorts                    1\n",
       "Food & Beverage Stores                       1\n",
       "News Outlet                                  1\n",
       "Telecommunications Manufacturing             1\n",
       "Cable, Internet & Telephone Providers        1\n",
       "Shipping                                     1\n",
       "Rail                                         1\n",
       "Name: count, dtype: int64"
      ]
     },
     "execution_count": 29,
     "metadata": {},
     "output_type": "execute_result"
    }
   ],
   "source": [
    "df['Industry'].value_counts()"
   ]
  },
  {
   "cell_type": "code",
   "execution_count": 30,
   "id": "0c50e1db",
   "metadata": {},
   "outputs": [
    {
     "data": {
      "text/plain": [
       "Industry\n",
       "False    601\n",
       "True      71\n",
       "Name: count, dtype: int64"
      ]
     },
     "execution_count": 30,
     "metadata": {},
     "output_type": "execute_result"
    }
   ],
   "source": [
    "df['Industry'].isna().value_counts()"
   ]
  },
  {
   "cell_type": "markdown",
   "id": "4522530d",
   "metadata": {},
   "source": [
    "#### `Competitors` Column"
   ]
  },
  {
   "cell_type": "code",
   "execution_count": 31,
   "id": "08993794",
   "metadata": {},
   "outputs": [
    {
     "data": {
      "text/plain": [
       "Competitors\n",
       "Roche, GlaxoSmithKline, Novartis                                  10\n",
       "Los Alamos National Laboratory, Battelle, SRI International        6\n",
       "Leidos, CACI International, Booz Allen Hamilton                    6\n",
       "MIT Lincoln Laboratory, Lockheed Martin, Northrop Grumman          3\n",
       "Battelle, General Atomics, SAIC                                    3\n",
       "                                                                  ..\n",
       "Pfizer, GlaxoSmithKline                                            1\n",
       "Square, Amazon, Apple                                              1\n",
       "Lumentum Operations, Keysight Technologies, O-Net Technologies     1\n",
       "MKS Instruments, Pfeiffer Vacuum, Agilent Technologies             1\n",
       "Genomic Health, Myriad Genetics, The Broad Institute               1\n",
       "Name: count, Length: 107, dtype: int64"
      ]
     },
     "execution_count": 31,
     "metadata": {},
     "output_type": "execute_result"
    }
   ],
   "source": [
    "df['Competitors'].value_counts()"
   ]
  },
  {
   "cell_type": "code",
   "execution_count": 32,
   "id": "8d032f74",
   "metadata": {},
   "outputs": [
    {
     "data": {
      "text/plain": [
       "Competitors\n",
       "True     501\n",
       "False    171\n",
       "Name: count, dtype: int64"
      ]
     },
     "execution_count": 32,
     "metadata": {},
     "output_type": "execute_result"
    }
   ],
   "source": [
    "df['Competitors'].isna().value_counts()"
   ]
  },
  {
   "cell_type": "markdown",
   "id": "347e59e2",
   "metadata": {},
   "source": [
    "#### `Job Title` Column"
   ]
  },
  {
   "cell_type": "code",
   "execution_count": 33,
   "id": "aeea5b44",
   "metadata": {},
   "outputs": [
    {
     "data": {
      "text/plain": [
       "Job Title\n",
       "Data Scientist                                            337\n",
       "Data Engineer                                              26\n",
       "Senior Data Scientist                                      19\n",
       "Machine Learning Engineer                                  16\n",
       "Data Analyst                                               12\n",
       "                                                         ... \n",
       "Data Science Instructor                                     1\n",
       "Business Data Analyst                                       1\n",
       "Purification Scientist                                      1\n",
       "Data Engineer, Enterprise Analytics                         1\n",
       "AI/ML - Machine Learning Scientist, Siri Understanding      1\n",
       "Name: count, Length: 172, dtype: int64"
      ]
     },
     "execution_count": 33,
     "metadata": {},
     "output_type": "execute_result"
    }
   ],
   "source": [
    "df['Job Title'].value_counts()"
   ]
  },
  {
   "cell_type": "code",
   "execution_count": 34,
   "id": "707c245d",
   "metadata": {},
   "outputs": [
    {
     "data": {
      "text/plain": [
       "172"
      ]
     },
     "execution_count": 34,
     "metadata": {},
     "output_type": "execute_result"
    }
   ],
   "source": [
    "df['Job Title'].nunique()"
   ]
  },
  {
   "cell_type": "markdown",
   "id": "b15676d7",
   "metadata": {},
   "source": [
    "# Drop unuseable columns "
   ]
  },
  {
   "cell_type": "code",
   "execution_count": 36,
   "id": "e16f7399",
   "metadata": {},
   "outputs": [],
   "source": [
    "df.drop(columns= ['Headquarters', 'Competitors', 'Location', 'Company Name', 'Founded', 'Job Description', 'index' ,'Size'], inplace = True)"
   ]
  },
  {
   "cell_type": "markdown",
   "id": "e4e3c88b",
   "metadata": {},
   "source": [
    "# fill NaNs"
   ]
  },
  {
   "cell_type": "code",
   "execution_count": 37,
   "id": "7672af5c",
   "metadata": {},
   "outputs": [],
   "source": [
    "df.fillna(value={\n",
    "    'Industry' : df['Industry'].fillna(method='bfill'),\n",
    "    'Sector' : df['Sector'].fillna(method= 'bfill'),\n",
    "    'Revenue' : df['Revenue'].mode()[0],\n",
    "    'Min_Salary' : df['Min_Salary'].median(),\n",
    "    'Max_Salary' : df['Max_Salary'].median(),\n",
    "    'Min_Size' : df['Min_Size'].fillna(method = 'ffill'),\n",
    "    'Max_Size' : df['Max_Size'].fillna(method = 'ffill')\n",
    "    \n",
    "}, inplace = True)"
   ]
  },
  {
   "cell_type": "markdown",
   "id": "c5217d8f",
   "metadata": {},
   "source": [
    "# Rename the Columns"
   ]
  },
  {
   "cell_type": "code",
   "execution_count": 38,
   "id": "caf0bfe7",
   "metadata": {},
   "outputs": [],
   "source": [
    "df.rename(columns= {\n",
    "    'Job Title' : 'Title',\n",
    "    'Type of ownership' : 'Ownership_Type',\n",
    "}, inplace = True)"
   ]
  },
  {
   "cell_type": "markdown",
   "id": "48b6acaf",
   "metadata": {},
   "source": [
    "# Save to CSV"
   ]
  },
  {
   "cell_type": "code",
   "execution_count": 39,
   "id": "bf35769c",
   "metadata": {},
   "outputs": [
    {
     "data": {
      "text/html": [
       "<div>\n",
       "<style scoped>\n",
       "    .dataframe tbody tr th:only-of-type {\n",
       "        vertical-align: middle;\n",
       "    }\n",
       "\n",
       "    .dataframe tbody tr th {\n",
       "        vertical-align: top;\n",
       "    }\n",
       "\n",
       "    .dataframe thead th {\n",
       "        text-align: right;\n",
       "    }\n",
       "</style>\n",
       "<table border=\"1\" class=\"dataframe\">\n",
       "  <thead>\n",
       "    <tr style=\"text-align: right;\">\n",
       "      <th></th>\n",
       "      <th>Title</th>\n",
       "      <th>Rating</th>\n",
       "      <th>Ownership_Type</th>\n",
       "      <th>Industry</th>\n",
       "      <th>Sector</th>\n",
       "      <th>Revenue</th>\n",
       "      <th>Min_Salary</th>\n",
       "      <th>Max_Salary</th>\n",
       "      <th>Min_Size</th>\n",
       "      <th>Max_Size</th>\n",
       "    </tr>\n",
       "  </thead>\n",
       "  <tbody>\n",
       "    <tr>\n",
       "      <th>0</th>\n",
       "      <td>Sr Data Scientist</td>\n",
       "      <td>Good</td>\n",
       "      <td>Non-Profit</td>\n",
       "      <td>Insurance Carriers</td>\n",
       "      <td>Insurance</td>\n",
       "      <td>Unknown / Non-Applicable</td>\n",
       "      <td>137</td>\n",
       "      <td>171</td>\n",
       "      <td>1001.0</td>\n",
       "      <td>5000.0</td>\n",
       "    </tr>\n",
       "    <tr>\n",
       "      <th>1</th>\n",
       "      <td>Data Scientist</td>\n",
       "      <td>Excellent</td>\n",
       "      <td>Corporate</td>\n",
       "      <td>Research &amp; Development</td>\n",
       "      <td>Business Services</td>\n",
       "      <td>High Revenue</td>\n",
       "      <td>137</td>\n",
       "      <td>171</td>\n",
       "      <td>5001.0</td>\n",
       "      <td>10000.0</td>\n",
       "    </tr>\n",
       "    <tr>\n",
       "      <th>2</th>\n",
       "      <td>Data Scientist</td>\n",
       "      <td>Good</td>\n",
       "      <td>Other</td>\n",
       "      <td>Consulting</td>\n",
       "      <td>Business Services</td>\n",
       "      <td>Medium Revenue</td>\n",
       "      <td>137</td>\n",
       "      <td>171</td>\n",
       "      <td>1001.0</td>\n",
       "      <td>5000.0</td>\n",
       "    </tr>\n",
       "    <tr>\n",
       "      <th>3</th>\n",
       "      <td>Data Scientist</td>\n",
       "      <td>Good</td>\n",
       "      <td>Corporate</td>\n",
       "      <td>Electrical &amp; Electronic Manufacturing</td>\n",
       "      <td>Manufacturing</td>\n",
       "      <td>Medium Revenue</td>\n",
       "      <td>137</td>\n",
       "      <td>171</td>\n",
       "      <td>501.0</td>\n",
       "      <td>1000.0</td>\n",
       "    </tr>\n",
       "    <tr>\n",
       "      <th>4</th>\n",
       "      <td>Data Scientist</td>\n",
       "      <td>Fair</td>\n",
       "      <td>Corporate</td>\n",
       "      <td>Advertising &amp; Marketing</td>\n",
       "      <td>Business Services</td>\n",
       "      <td>Unknown / Non-Applicable</td>\n",
       "      <td>137</td>\n",
       "      <td>171</td>\n",
       "      <td>51.0</td>\n",
       "      <td>200.0</td>\n",
       "    </tr>\n",
       "    <tr>\n",
       "      <th>...</th>\n",
       "      <td>...</td>\n",
       "      <td>...</td>\n",
       "      <td>...</td>\n",
       "      <td>...</td>\n",
       "      <td>...</td>\n",
       "      <td>...</td>\n",
       "      <td>...</td>\n",
       "      <td>...</td>\n",
       "      <td>...</td>\n",
       "      <td>...</td>\n",
       "    </tr>\n",
       "    <tr>\n",
       "      <th>667</th>\n",
       "      <td>Data Scientist</td>\n",
       "      <td>Good</td>\n",
       "      <td>Corporate</td>\n",
       "      <td>Advertising &amp; Marketing</td>\n",
       "      <td>Business Services</td>\n",
       "      <td>Unknown / Non-Applicable</td>\n",
       "      <td>105</td>\n",
       "      <td>167</td>\n",
       "      <td>1001.0</td>\n",
       "      <td>5000.0</td>\n",
       "    </tr>\n",
       "    <tr>\n",
       "      <th>668</th>\n",
       "      <td>Data Scientist</td>\n",
       "      <td>Very Poor</td>\n",
       "      <td>Other</td>\n",
       "      <td>Advertising &amp; Marketing</td>\n",
       "      <td>Business Services</td>\n",
       "      <td>Medium Revenue</td>\n",
       "      <td>105</td>\n",
       "      <td>167</td>\n",
       "      <td>1001.0</td>\n",
       "      <td>5000.0</td>\n",
       "    </tr>\n",
       "    <tr>\n",
       "      <th>669</th>\n",
       "      <td>Data Scientist</td>\n",
       "      <td>Very Poor</td>\n",
       "      <td>Other</td>\n",
       "      <td>Advertising &amp; Marketing</td>\n",
       "      <td>Business Services</td>\n",
       "      <td>Medium Revenue</td>\n",
       "      <td>105</td>\n",
       "      <td>167</td>\n",
       "      <td>1001.0</td>\n",
       "      <td>5000.0</td>\n",
       "    </tr>\n",
       "    <tr>\n",
       "      <th>670</th>\n",
       "      <td>Data Scientist</td>\n",
       "      <td>Excellent</td>\n",
       "      <td>Corporate</td>\n",
       "      <td>Advertising &amp; Marketing</td>\n",
       "      <td>Business Services</td>\n",
       "      <td>Medium Revenue</td>\n",
       "      <td>105</td>\n",
       "      <td>167</td>\n",
       "      <td>1.0</td>\n",
       "      <td>50.0</td>\n",
       "    </tr>\n",
       "    <tr>\n",
       "      <th>671</th>\n",
       "      <td>Data Scientist</td>\n",
       "      <td>Fair</td>\n",
       "      <td>Corporate</td>\n",
       "      <td>Wholesale</td>\n",
       "      <td>Business Services</td>\n",
       "      <td>High Revenue</td>\n",
       "      <td>105</td>\n",
       "      <td>167</td>\n",
       "      <td>1001.0</td>\n",
       "      <td>5000.0</td>\n",
       "    </tr>\n",
       "  </tbody>\n",
       "</table>\n",
       "<p>672 rows × 10 columns</p>\n",
       "</div>"
      ],
      "text/plain": [
       "                 Title     Rating Ownership_Type  \\\n",
       "0    Sr Data Scientist       Good     Non-Profit   \n",
       "1       Data Scientist  Excellent      Corporate   \n",
       "2       Data Scientist       Good          Other   \n",
       "3       Data Scientist       Good      Corporate   \n",
       "4       Data Scientist       Fair      Corporate   \n",
       "..                 ...        ...            ...   \n",
       "667     Data Scientist       Good      Corporate   \n",
       "668     Data Scientist  Very Poor          Other   \n",
       "669     Data Scientist  Very Poor          Other   \n",
       "670     Data Scientist  Excellent      Corporate   \n",
       "671     Data Scientist       Fair      Corporate   \n",
       "\n",
       "                                  Industry             Sector  \\\n",
       "0                       Insurance Carriers          Insurance   \n",
       "1                   Research & Development  Business Services   \n",
       "2                               Consulting  Business Services   \n",
       "3    Electrical & Electronic Manufacturing      Manufacturing   \n",
       "4                  Advertising & Marketing  Business Services   \n",
       "..                                     ...                ...   \n",
       "667                Advertising & Marketing  Business Services   \n",
       "668                Advertising & Marketing  Business Services   \n",
       "669                Advertising & Marketing  Business Services   \n",
       "670                Advertising & Marketing  Business Services   \n",
       "671                              Wholesale  Business Services   \n",
       "\n",
       "                      Revenue  Min_Salary  Max_Salary  Min_Size  Max_Size  \n",
       "0    Unknown / Non-Applicable         137         171    1001.0    5000.0  \n",
       "1                High Revenue         137         171    5001.0   10000.0  \n",
       "2              Medium Revenue         137         171    1001.0    5000.0  \n",
       "3              Medium Revenue         137         171     501.0    1000.0  \n",
       "4    Unknown / Non-Applicable         137         171      51.0     200.0  \n",
       "..                        ...         ...         ...       ...       ...  \n",
       "667  Unknown / Non-Applicable         105         167    1001.0    5000.0  \n",
       "668            Medium Revenue         105         167    1001.0    5000.0  \n",
       "669            Medium Revenue         105         167    1001.0    5000.0  \n",
       "670            Medium Revenue         105         167       1.0      50.0  \n",
       "671              High Revenue         105         167    1001.0    5000.0  \n",
       "\n",
       "[672 rows x 10 columns]"
      ]
     },
     "execution_count": 39,
     "metadata": {},
     "output_type": "execute_result"
    }
   ],
   "source": [
    "df"
   ]
  },
  {
   "cell_type": "code",
   "execution_count": 40,
   "id": "2534611f",
   "metadata": {},
   "outputs": [],
   "source": [
    "df.to_csv('preprocessed.csv', index = False)"
   ]
  },
  {
   "cell_type": "code",
   "execution_count": null,
   "id": "387efbd7",
   "metadata": {},
   "outputs": [],
   "source": []
  }
 ],
 "metadata": {
  "kernelspec": {
   "display_name": "Python 3 (ipykernel)",
   "language": "python",
   "name": "python3"
  },
  "language_info": {
   "codemirror_mode": {
    "name": "ipython",
    "version": 3
   },
   "file_extension": ".py",
   "mimetype": "text/x-python",
   "name": "python",
   "nbconvert_exporter": "python",
   "pygments_lexer": "ipython3",
   "version": "3.10.7"
  }
 },
 "nbformat": 4,
 "nbformat_minor": 5
}
