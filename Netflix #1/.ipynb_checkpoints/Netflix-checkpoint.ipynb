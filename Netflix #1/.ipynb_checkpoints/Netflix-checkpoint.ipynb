{
 "cells": [
  {
   "cell_type": "code",
   "execution_count": 1,
   "id": "0ac381ba-23b6-417c-818c-ad58dd41f741",
   "metadata": {},
   "outputs": [],
   "source": [
    "import pandas as pd\n",
    "import numpy as np\n",
    "import matplotlib.pyplot as plt\n",
    "import seaborn as sns"
   ]
  },
  {
   "cell_type": "markdown",
   "id": "c3152ad2-a14c-4b73-9b7d-dd689ec8e60e",
   "metadata": {},
   "source": [
    "# Import `Netflix` dataset\n",
    "### And getting some basic information about daraframe and its structure"
   ]
  },
  {
   "cell_type": "code",
   "execution_count": 2,
   "id": "9d745165-10f0-4cfb-a1fb-109cafe09f7e",
   "metadata": {},
   "outputs": [
    {
     "data": {
      "text/html": [
       "<div>\n",
       "<style scoped>\n",
       "    .dataframe tbody tr th:only-of-type {\n",
       "        vertical-align: middle;\n",
       "    }\n",
       "\n",
       "    .dataframe tbody tr th {\n",
       "        vertical-align: top;\n",
       "    }\n",
       "\n",
       "    .dataframe thead th {\n",
       "        text-align: right;\n",
       "    }\n",
       "</style>\n",
       "<table border=\"1\" class=\"dataframe\">\n",
       "  <thead>\n",
       "    <tr style=\"text-align: right;\">\n",
       "      <th></th>\n",
       "      <th>Show_Id</th>\n",
       "      <th>Category</th>\n",
       "      <th>Title</th>\n",
       "      <th>Director</th>\n",
       "      <th>Cast</th>\n",
       "      <th>Country</th>\n",
       "      <th>Release_Date</th>\n",
       "      <th>Rating</th>\n",
       "      <th>Duration</th>\n",
       "      <th>Type</th>\n",
       "      <th>Description</th>\n",
       "    </tr>\n",
       "  </thead>\n",
       "  <tbody>\n",
       "    <tr>\n",
       "      <th>0</th>\n",
       "      <td>s1</td>\n",
       "      <td>TV Show</td>\n",
       "      <td>3%</td>\n",
       "      <td>NaN</td>\n",
       "      <td>João Miguel, Bianca Comparato, Michel Gomes, R...</td>\n",
       "      <td>Brazil</td>\n",
       "      <td>August 14, 2020</td>\n",
       "      <td>TV-MA</td>\n",
       "      <td>4 Seasons</td>\n",
       "      <td>International TV Shows, TV Dramas, TV Sci-Fi &amp;...</td>\n",
       "      <td>In a future where the elite inhabit an island ...</td>\n",
       "    </tr>\n",
       "    <tr>\n",
       "      <th>1</th>\n",
       "      <td>s2</td>\n",
       "      <td>Movie</td>\n",
       "      <td>07:19</td>\n",
       "      <td>Jorge Michel Grau</td>\n",
       "      <td>Demián Bichir, Héctor Bonilla, Oscar Serrano, ...</td>\n",
       "      <td>Mexico</td>\n",
       "      <td>December 23, 2016</td>\n",
       "      <td>TV-MA</td>\n",
       "      <td>93 min</td>\n",
       "      <td>Dramas, International Movies</td>\n",
       "      <td>After a devastating earthquake hits Mexico Cit...</td>\n",
       "    </tr>\n",
       "    <tr>\n",
       "      <th>2</th>\n",
       "      <td>s3</td>\n",
       "      <td>Movie</td>\n",
       "      <td>23:59</td>\n",
       "      <td>Gilbert Chan</td>\n",
       "      <td>Tedd Chan, Stella Chung, Henley Hii, Lawrence ...</td>\n",
       "      <td>Singapore</td>\n",
       "      <td>December 20, 2018</td>\n",
       "      <td>R</td>\n",
       "      <td>78 min</td>\n",
       "      <td>Horror Movies, International Movies</td>\n",
       "      <td>When an army recruit is found dead, his fellow...</td>\n",
       "    </tr>\n",
       "    <tr>\n",
       "      <th>3</th>\n",
       "      <td>s4</td>\n",
       "      <td>Movie</td>\n",
       "      <td>9</td>\n",
       "      <td>Shane Acker</td>\n",
       "      <td>Elijah Wood, John C. Reilly, Jennifer Connelly...</td>\n",
       "      <td>United States</td>\n",
       "      <td>November 16, 2017</td>\n",
       "      <td>PG-13</td>\n",
       "      <td>80 min</td>\n",
       "      <td>Action &amp; Adventure, Independent Movies, Sci-Fi...</td>\n",
       "      <td>In a postapocalyptic world, rag-doll robots hi...</td>\n",
       "    </tr>\n",
       "    <tr>\n",
       "      <th>4</th>\n",
       "      <td>s5</td>\n",
       "      <td>Movie</td>\n",
       "      <td>21</td>\n",
       "      <td>Robert Luketic</td>\n",
       "      <td>Jim Sturgess, Kevin Spacey, Kate Bosworth, Aar...</td>\n",
       "      <td>United States</td>\n",
       "      <td>January 1, 2020</td>\n",
       "      <td>PG-13</td>\n",
       "      <td>123 min</td>\n",
       "      <td>Dramas</td>\n",
       "      <td>A brilliant group of students become card-coun...</td>\n",
       "    </tr>\n",
       "  </tbody>\n",
       "</table>\n",
       "</div>"
      ],
      "text/plain": [
       "  Show_Id Category  Title           Director  \\\n",
       "0      s1  TV Show     3%                NaN   \n",
       "1      s2    Movie  07:19  Jorge Michel Grau   \n",
       "2      s3    Movie  23:59       Gilbert Chan   \n",
       "3      s4    Movie      9        Shane Acker   \n",
       "4      s5    Movie     21     Robert Luketic   \n",
       "\n",
       "                                                Cast        Country  \\\n",
       "0  João Miguel, Bianca Comparato, Michel Gomes, R...         Brazil   \n",
       "1  Demián Bichir, Héctor Bonilla, Oscar Serrano, ...         Mexico   \n",
       "2  Tedd Chan, Stella Chung, Henley Hii, Lawrence ...      Singapore   \n",
       "3  Elijah Wood, John C. Reilly, Jennifer Connelly...  United States   \n",
       "4  Jim Sturgess, Kevin Spacey, Kate Bosworth, Aar...  United States   \n",
       "\n",
       "        Release_Date Rating   Duration  \\\n",
       "0    August 14, 2020  TV-MA  4 Seasons   \n",
       "1  December 23, 2016  TV-MA     93 min   \n",
       "2  December 20, 2018      R     78 min   \n",
       "3  November 16, 2017  PG-13     80 min   \n",
       "4    January 1, 2020  PG-13    123 min   \n",
       "\n",
       "                                                Type  \\\n",
       "0  International TV Shows, TV Dramas, TV Sci-Fi &...   \n",
       "1                       Dramas, International Movies   \n",
       "2                Horror Movies, International Movies   \n",
       "3  Action & Adventure, Independent Movies, Sci-Fi...   \n",
       "4                                             Dramas   \n",
       "\n",
       "                                         Description  \n",
       "0  In a future where the elite inhabit an island ...  \n",
       "1  After a devastating earthquake hits Mexico Cit...  \n",
       "2  When an army recruit is found dead, his fellow...  \n",
       "3  In a postapocalyptic world, rag-doll robots hi...  \n",
       "4  A brilliant group of students become card-coun...  "
      ]
     },
     "execution_count": 2,
     "metadata": {},
     "output_type": "execute_result"
    }
   ],
   "source": [
    "df = pd.read_csv('Netflix-Dataset.csv')\n",
    "df.head()"
   ]
  },
  {
   "cell_type": "code",
   "execution_count": 3,
   "id": "85ea7e8f-7878-4f89-acc7-42a3f410babd",
   "metadata": {},
   "outputs": [
    {
     "data": {
      "text/html": [
       "<div>\n",
       "<style scoped>\n",
       "    .dataframe tbody tr th:only-of-type {\n",
       "        vertical-align: middle;\n",
       "    }\n",
       "\n",
       "    .dataframe tbody tr th {\n",
       "        vertical-align: top;\n",
       "    }\n",
       "\n",
       "    .dataframe thead th {\n",
       "        text-align: right;\n",
       "    }\n",
       "</style>\n",
       "<table border=\"1\" class=\"dataframe\">\n",
       "  <thead>\n",
       "    <tr style=\"text-align: right;\">\n",
       "      <th></th>\n",
       "      <th>Show_Id</th>\n",
       "      <th>Category</th>\n",
       "      <th>Title</th>\n",
       "      <th>Director</th>\n",
       "      <th>Cast</th>\n",
       "      <th>Country</th>\n",
       "      <th>Release_Date</th>\n",
       "      <th>Rating</th>\n",
       "      <th>Duration</th>\n",
       "      <th>Type</th>\n",
       "      <th>Description</th>\n",
       "    </tr>\n",
       "  </thead>\n",
       "  <tbody>\n",
       "    <tr>\n",
       "      <th>7784</th>\n",
       "      <td>s7783</td>\n",
       "      <td>Movie</td>\n",
       "      <td>Zozo</td>\n",
       "      <td>Josef Fares</td>\n",
       "      <td>Imad Creidi, Antoinette Turk, Elias Gergi, Car...</td>\n",
       "      <td>Sweden, Czech Republic, United Kingdom, Denmar...</td>\n",
       "      <td>October 19, 2020</td>\n",
       "      <td>TV-MA</td>\n",
       "      <td>99 min</td>\n",
       "      <td>Dramas, International Movies</td>\n",
       "      <td>When Lebanon's Civil War deprives Zozo of his ...</td>\n",
       "    </tr>\n",
       "    <tr>\n",
       "      <th>7785</th>\n",
       "      <td>s7784</td>\n",
       "      <td>Movie</td>\n",
       "      <td>Zubaan</td>\n",
       "      <td>Mozez Singh</td>\n",
       "      <td>Vicky Kaushal, Sarah-Jane Dias, Raaghav Chanan...</td>\n",
       "      <td>India</td>\n",
       "      <td>March 2, 2019</td>\n",
       "      <td>TV-14</td>\n",
       "      <td>111 min</td>\n",
       "      <td>Dramas, International Movies, Music &amp; Musicals</td>\n",
       "      <td>A scrappy but poor boy worms his way into a ty...</td>\n",
       "    </tr>\n",
       "    <tr>\n",
       "      <th>7786</th>\n",
       "      <td>s7785</td>\n",
       "      <td>Movie</td>\n",
       "      <td>Zulu Man in Japan</td>\n",
       "      <td>NaN</td>\n",
       "      <td>Nasty C</td>\n",
       "      <td>NaN</td>\n",
       "      <td>September 25, 2020</td>\n",
       "      <td>TV-MA</td>\n",
       "      <td>44 min</td>\n",
       "      <td>Documentaries, International Movies, Music &amp; M...</td>\n",
       "      <td>In this documentary, South African rapper Nast...</td>\n",
       "    </tr>\n",
       "    <tr>\n",
       "      <th>7787</th>\n",
       "      <td>s7786</td>\n",
       "      <td>TV Show</td>\n",
       "      <td>Zumbo's Just Desserts</td>\n",
       "      <td>NaN</td>\n",
       "      <td>Adriano Zumbo, Rachel Khoo</td>\n",
       "      <td>Australia</td>\n",
       "      <td>October 31, 2020</td>\n",
       "      <td>TV-PG</td>\n",
       "      <td>1 Season</td>\n",
       "      <td>International TV Shows, Reality TV</td>\n",
       "      <td>Dessert wizard Adriano Zumbo looks for the nex...</td>\n",
       "    </tr>\n",
       "    <tr>\n",
       "      <th>7788</th>\n",
       "      <td>s7787</td>\n",
       "      <td>Movie</td>\n",
       "      <td>ZZ TOP: THAT LITTLE OL' BAND FROM TEXAS</td>\n",
       "      <td>Sam Dunn</td>\n",
       "      <td>NaN</td>\n",
       "      <td>United Kingdom, Canada, United States</td>\n",
       "      <td>March 1, 2020</td>\n",
       "      <td>TV-MA</td>\n",
       "      <td>90 min</td>\n",
       "      <td>Documentaries, Music &amp; Musicals</td>\n",
       "      <td>This documentary delves into the mystique behi...</td>\n",
       "    </tr>\n",
       "  </tbody>\n",
       "</table>\n",
       "</div>"
      ],
      "text/plain": [
       "     Show_Id Category                                    Title     Director  \\\n",
       "7784   s7783    Movie                                     Zozo  Josef Fares   \n",
       "7785   s7784    Movie                                   Zubaan  Mozez Singh   \n",
       "7786   s7785    Movie                        Zulu Man in Japan          NaN   \n",
       "7787   s7786  TV Show                    Zumbo's Just Desserts          NaN   \n",
       "7788   s7787    Movie  ZZ TOP: THAT LITTLE OL' BAND FROM TEXAS     Sam Dunn   \n",
       "\n",
       "                                                   Cast  \\\n",
       "7784  Imad Creidi, Antoinette Turk, Elias Gergi, Car...   \n",
       "7785  Vicky Kaushal, Sarah-Jane Dias, Raaghav Chanan...   \n",
       "7786                                            Nasty C   \n",
       "7787                         Adriano Zumbo, Rachel Khoo   \n",
       "7788                                                NaN   \n",
       "\n",
       "                                                Country        Release_Date  \\\n",
       "7784  Sweden, Czech Republic, United Kingdom, Denmar...    October 19, 2020   \n",
       "7785                                              India       March 2, 2019   \n",
       "7786                                                NaN  September 25, 2020   \n",
       "7787                                          Australia    October 31, 2020   \n",
       "7788              United Kingdom, Canada, United States       March 1, 2020   \n",
       "\n",
       "     Rating  Duration                                               Type  \\\n",
       "7784  TV-MA    99 min                       Dramas, International Movies   \n",
       "7785  TV-14   111 min     Dramas, International Movies, Music & Musicals   \n",
       "7786  TV-MA    44 min  Documentaries, International Movies, Music & M...   \n",
       "7787  TV-PG  1 Season                 International TV Shows, Reality TV   \n",
       "7788  TV-MA    90 min                    Documentaries, Music & Musicals   \n",
       "\n",
       "                                            Description  \n",
       "7784  When Lebanon's Civil War deprives Zozo of his ...  \n",
       "7785  A scrappy but poor boy worms his way into a ty...  \n",
       "7786  In this documentary, South African rapper Nast...  \n",
       "7787  Dessert wizard Adriano Zumbo looks for the nex...  \n",
       "7788  This documentary delves into the mystique behi...  "
      ]
     },
     "execution_count": 3,
     "metadata": {},
     "output_type": "execute_result"
    }
   ],
   "source": [
    "# check tail\n",
    "df.tail()"
   ]
  },
  {
   "cell_type": "code",
   "execution_count": 4,
   "id": "78efa1dd-e8a8-4ca6-b282-2588c88e64f4",
   "metadata": {
    "scrolled": true
   },
   "outputs": [
    {
     "name": "stdout",
     "output_type": "stream",
     "text": [
      "<class 'pandas.core.frame.DataFrame'>\n",
      "RangeIndex: 7789 entries, 0 to 7788\n",
      "Data columns (total 11 columns):\n",
      " #   Column        Non-Null Count  Dtype \n",
      "---  ------        --------------  ----- \n",
      " 0   Show_Id       7789 non-null   object\n",
      " 1   Category      7789 non-null   object\n",
      " 2   Title         7789 non-null   object\n",
      " 3   Director      5401 non-null   object\n",
      " 4   Cast          7071 non-null   object\n",
      " 5   Country       7282 non-null   object\n",
      " 6   Release_Date  7779 non-null   object\n",
      " 7   Rating        7782 non-null   object\n",
      " 8   Duration      7789 non-null   object\n",
      " 9   Type          7789 non-null   object\n",
      " 10  Description   7789 non-null   object\n",
      "dtypes: object(11)\n",
      "memory usage: 669.5+ KB\n"
     ]
    }
   ],
   "source": [
    "# check datafram structure using df.info()\n",
    "df.info()"
   ]
  },
  {
   "cell_type": "markdown",
   "id": "528a7a77-5823-4091-87da-7532483bb7ff",
   "metadata": {},
   "source": [
    "_____________________________\n",
    "* Number of Entries:\n",
    "1. The DataFrame has a total of 7,789 entries (rows).\n",
    "\n",
    "* Columns and Data Types:\n",
    "1. There are 11 columns in the DataFrame.\n",
    "2. All columns have the data type of object.\n",
    "3. This suggests that the majority of the data is stored as text (strings).\n",
    "\n",
    "* Non-Null Counts:\n",
    "1. The Show_Id, Category, Title, Duration, and Type columns have non-null values for all entries (7789 non-null).\n",
    "2. Other columns have some missing values, indicated by counts less than 7789.\n",
    "\n",
    "* Missing Values:\n",
    "1. Director, Cast, Country, Release_Date, Rating: These columns have missing values, and the count of non-null entries is less than 7789.\n"
   ]
  },
  {
   "cell_type": "code",
   "execution_count": 5,
   "id": "9a3cae5d-ed40-459a-b1bd-791d34704b8b",
   "metadata": {},
   "outputs": [
    {
     "data": {
      "text/plain": [
       "Show_Id            0\n",
       "Category           0\n",
       "Title              0\n",
       "Director        2388\n",
       "Cast             718\n",
       "Country          507\n",
       "Release_Date      10\n",
       "Rating             7\n",
       "Duration           0\n",
       "Type               0\n",
       "Description        0\n",
       "dtype: int64"
      ]
     },
     "execution_count": 5,
     "metadata": {},
     "output_type": "execute_result"
    }
   ],
   "source": [
    "# number of nan in each columns\n",
    "df.isnull().sum()"
   ]
  },
  {
   "cell_type": "code",
   "execution_count": 6,
   "id": "b36ebd8c-8ae9-4f0b-ba5e-4a30a262e3b4",
   "metadata": {},
   "outputs": [
    {
     "data": {
      "text/plain": [
       "(7789, 11)"
      ]
     },
     "execution_count": 6,
     "metadata": {},
     "output_type": "execute_result"
    }
   ],
   "source": [
    "df.shape"
   ]
  },
  {
   "cell_type": "code",
   "execution_count": 7,
   "id": "f5ebeb48-8a1a-480a-8fd2-318b6943aec0",
   "metadata": {},
   "outputs": [
    {
     "data": {
      "text/plain": [
       "85679"
      ]
     },
     "execution_count": 7,
     "metadata": {},
     "output_type": "execute_result"
    }
   ],
   "source": [
    "df.size # size of datafram is : columns * rows which is 7789 * 11 : 85679"
   ]
  },
  {
   "cell_type": "code",
   "execution_count": 8,
   "id": "9ffd5b57-f465-44be-9a77-7f5abceeb51f",
   "metadata": {},
   "outputs": [
    {
     "data": {
      "text/plain": [
       "Index(['Show_Id', 'Category', 'Title', 'Director', 'Cast', 'Country',\n",
       "       'Release_Date', 'Rating', 'Duration', 'Type', 'Description'],\n",
       "      dtype='object')"
      ]
     },
     "execution_count": 8,
     "metadata": {},
     "output_type": "execute_result"
    }
   ],
   "source": [
    "# check columns names\n",
    "df.columns"
   ]
  },
  {
   "cell_type": "code",
   "execution_count": 9,
   "id": "90354490-6fad-4a1a-a720-80d5ff0c89b2",
   "metadata": {},
   "outputs": [
    {
     "data": {
      "text/html": [
       "<div>\n",
       "<style scoped>\n",
       "    .dataframe tbody tr th:only-of-type {\n",
       "        vertical-align: middle;\n",
       "    }\n",
       "\n",
       "    .dataframe tbody tr th {\n",
       "        vertical-align: top;\n",
       "    }\n",
       "\n",
       "    .dataframe thead th {\n",
       "        text-align: right;\n",
       "    }\n",
       "</style>\n",
       "<table border=\"1\" class=\"dataframe\">\n",
       "  <thead>\n",
       "    <tr style=\"text-align: right;\">\n",
       "      <th></th>\n",
       "      <th>Show_Id</th>\n",
       "      <th>Category</th>\n",
       "      <th>Title</th>\n",
       "      <th>Director</th>\n",
       "      <th>Cast</th>\n",
       "      <th>Country</th>\n",
       "      <th>Release_Date</th>\n",
       "      <th>Rating</th>\n",
       "      <th>Duration</th>\n",
       "      <th>Type</th>\n",
       "      <th>Description</th>\n",
       "    </tr>\n",
       "  </thead>\n",
       "  <tbody>\n",
       "    <tr>\n",
       "      <th>count</th>\n",
       "      <td>7789</td>\n",
       "      <td>7789</td>\n",
       "      <td>7789</td>\n",
       "      <td>5401</td>\n",
       "      <td>7071</td>\n",
       "      <td>7282</td>\n",
       "      <td>7779</td>\n",
       "      <td>7782</td>\n",
       "      <td>7789</td>\n",
       "      <td>7789</td>\n",
       "      <td>7789</td>\n",
       "    </tr>\n",
       "    <tr>\n",
       "      <th>unique</th>\n",
       "      <td>7787</td>\n",
       "      <td>2</td>\n",
       "      <td>7787</td>\n",
       "      <td>4050</td>\n",
       "      <td>6831</td>\n",
       "      <td>681</td>\n",
       "      <td>1565</td>\n",
       "      <td>14</td>\n",
       "      <td>216</td>\n",
       "      <td>492</td>\n",
       "      <td>7769</td>\n",
       "    </tr>\n",
       "    <tr>\n",
       "      <th>top</th>\n",
       "      <td>s6621</td>\n",
       "      <td>Movie</td>\n",
       "      <td>The Lost Okoroshi</td>\n",
       "      <td>Raúl Campos, Jan Suter</td>\n",
       "      <td>David Attenborough</td>\n",
       "      <td>United States</td>\n",
       "      <td>January 1, 2020</td>\n",
       "      <td>TV-MA</td>\n",
       "      <td>1 Season</td>\n",
       "      <td>Documentaries</td>\n",
       "      <td>Multiple women report their husbands as missin...</td>\n",
       "    </tr>\n",
       "    <tr>\n",
       "      <th>freq</th>\n",
       "      <td>2</td>\n",
       "      <td>5379</td>\n",
       "      <td>2</td>\n",
       "      <td>18</td>\n",
       "      <td>18</td>\n",
       "      <td>2556</td>\n",
       "      <td>118</td>\n",
       "      <td>2865</td>\n",
       "      <td>1608</td>\n",
       "      <td>334</td>\n",
       "      <td>3</td>\n",
       "    </tr>\n",
       "  </tbody>\n",
       "</table>\n",
       "</div>"
      ],
      "text/plain": [
       "       Show_Id Category              Title                Director  \\\n",
       "count     7789     7789               7789                    5401   \n",
       "unique    7787        2               7787                    4050   \n",
       "top      s6621    Movie  The Lost Okoroshi  Raúl Campos, Jan Suter   \n",
       "freq         2     5379                  2                      18   \n",
       "\n",
       "                      Cast        Country     Release_Date Rating  Duration  \\\n",
       "count                 7071           7282             7779   7782      7789   \n",
       "unique                6831            681             1565     14       216   \n",
       "top     David Attenborough  United States  January 1, 2020  TV-MA  1 Season   \n",
       "freq                    18           2556              118   2865      1608   \n",
       "\n",
       "                 Type                                        Description  \n",
       "count            7789                                               7789  \n",
       "unique            492                                               7769  \n",
       "top     Documentaries  Multiple women report their husbands as missin...  \n",
       "freq              334                                                  3  "
      ]
     },
     "execution_count": 9,
     "metadata": {},
     "output_type": "execute_result"
    }
   ],
   "source": [
    "df.describe(include='object')"
   ]
  },
  {
   "cell_type": "markdown",
   "id": "45e0a463-23f8-4ad0-92c1-b88135ddb82a",
   "metadata": {},
   "source": [
    "# Data Cleaning "
   ]
  },
  {
   "cell_type": "code",
   "execution_count": 10,
   "id": "3f878e38-17af-43b8-9a68-d59c2d479063",
   "metadata": {},
   "outputs": [
    {
     "data": {
      "text/plain": [
       "Show_Id            0\n",
       "Category           0\n",
       "Title              0\n",
       "Director        2388\n",
       "Cast             718\n",
       "Country          507\n",
       "Release_Date      10\n",
       "Rating             7\n",
       "Duration           0\n",
       "Type               0\n",
       "Description        0\n",
       "dtype: int64"
      ]
     },
     "execution_count": 10,
     "metadata": {},
     "output_type": "execute_result"
    }
   ],
   "source": [
    "# check number of missing values of each columns to determine if it is necessary to filling them or no.\n",
    "df.isnull().sum()"
   ]
  },
  {
   "cell_type": "markdown",
   "id": "21c4964f-043d-4417-991b-0033e6561a69",
   "metadata": {},
   "source": [
    "### Drop duplicated values"
   ]
  },
  {
   "cell_type": "code",
   "execution_count": 11,
   "id": "cbdc7715-26a4-4ad2-8670-189eec782215",
   "metadata": {},
   "outputs": [
    {
     "data": {
      "text/plain": [
       "2"
      ]
     },
     "execution_count": 11,
     "metadata": {},
     "output_type": "execute_result"
    }
   ],
   "source": [
    "# check for duplicates rows\n",
    "df.duplicated().sum()"
   ]
  },
  {
   "cell_type": "code",
   "execution_count": 12,
   "id": "ac890103-963b-4d76-8951-71a9559928b8",
   "metadata": {},
   "outputs": [
    {
     "data": {
      "text/html": [
       "<div>\n",
       "<style scoped>\n",
       "    .dataframe tbody tr th:only-of-type {\n",
       "        vertical-align: middle;\n",
       "    }\n",
       "\n",
       "    .dataframe tbody tr th {\n",
       "        vertical-align: top;\n",
       "    }\n",
       "\n",
       "    .dataframe thead th {\n",
       "        text-align: right;\n",
       "    }\n",
       "</style>\n",
       "<table border=\"1\" class=\"dataframe\">\n",
       "  <thead>\n",
       "    <tr style=\"text-align: right;\">\n",
       "      <th></th>\n",
       "      <th>Show_Id</th>\n",
       "      <th>Category</th>\n",
       "      <th>Title</th>\n",
       "      <th>Director</th>\n",
       "      <th>Cast</th>\n",
       "      <th>Country</th>\n",
       "      <th>Release_Date</th>\n",
       "      <th>Rating</th>\n",
       "      <th>Duration</th>\n",
       "      <th>Type</th>\n",
       "      <th>Description</th>\n",
       "    </tr>\n",
       "  </thead>\n",
       "  <tbody>\n",
       "    <tr>\n",
       "      <th>6300</th>\n",
       "      <td>s684</td>\n",
       "      <td>Movie</td>\n",
       "      <td>Backfire</td>\n",
       "      <td>Dave Patten</td>\n",
       "      <td>Black Deniro, Byron \"Squally\" Vinson, Dominic ...</td>\n",
       "      <td>United States</td>\n",
       "      <td>April 5, 2019</td>\n",
       "      <td>TV-MA</td>\n",
       "      <td>97 min</td>\n",
       "      <td>Dramas, Independent Movies, Thrillers</td>\n",
       "      <td>When two would-be robbers accidentally kill a ...</td>\n",
       "    </tr>\n",
       "    <tr>\n",
       "      <th>6622</th>\n",
       "      <td>s6621</td>\n",
       "      <td>Movie</td>\n",
       "      <td>The Lost Okoroshi</td>\n",
       "      <td>Abba T. Makama</td>\n",
       "      <td>Seun Ajayi, Judith Audu, Tope Tedela, Ifu Enna...</td>\n",
       "      <td>Nigeria</td>\n",
       "      <td>September 4, 2020</td>\n",
       "      <td>TV-MA</td>\n",
       "      <td>94 min</td>\n",
       "      <td>Comedies, Dramas, Independent Movies</td>\n",
       "      <td>A disillusioned security guard transforms into...</td>\n",
       "    </tr>\n",
       "  </tbody>\n",
       "</table>\n",
       "</div>"
      ],
      "text/plain": [
       "     Show_Id Category              Title        Director  \\\n",
       "6300    s684    Movie           Backfire     Dave Patten   \n",
       "6622   s6621    Movie  The Lost Okoroshi  Abba T. Makama   \n",
       "\n",
       "                                                   Cast        Country  \\\n",
       "6300  Black Deniro, Byron \"Squally\" Vinson, Dominic ...  United States   \n",
       "6622  Seun Ajayi, Judith Audu, Tope Tedela, Ifu Enna...        Nigeria   \n",
       "\n",
       "           Release_Date Rating Duration  \\\n",
       "6300      April 5, 2019  TV-MA   97 min   \n",
       "6622  September 4, 2020  TV-MA   94 min   \n",
       "\n",
       "                                       Type  \\\n",
       "6300  Dramas, Independent Movies, Thrillers   \n",
       "6622   Comedies, Dramas, Independent Movies   \n",
       "\n",
       "                                            Description  \n",
       "6300  When two would-be robbers accidentally kill a ...  \n",
       "6622  A disillusioned security guard transforms into...  "
      ]
     },
     "execution_count": 12,
     "metadata": {},
     "output_type": "execute_result"
    }
   ],
   "source": [
    "df[df.duplicated()]"
   ]
  },
  {
   "cell_type": "code",
   "execution_count": 13,
   "id": "4db53e12-6a5f-4342-b28c-e67797f24783",
   "metadata": {},
   "outputs": [],
   "source": [
    "# droping duplicate records\n",
    "df.drop_duplicates(inplace = True)"
   ]
  },
  {
   "cell_type": "code",
   "execution_count": 14,
   "id": "78410cfb-27a0-4895-88b7-6f238104ef04",
   "metadata": {},
   "outputs": [
    {
     "data": {
      "text/html": [
       "<div>\n",
       "<style scoped>\n",
       "    .dataframe tbody tr th:only-of-type {\n",
       "        vertical-align: middle;\n",
       "    }\n",
       "\n",
       "    .dataframe tbody tr th {\n",
       "        vertical-align: top;\n",
       "    }\n",
       "\n",
       "    .dataframe thead th {\n",
       "        text-align: right;\n",
       "    }\n",
       "</style>\n",
       "<table border=\"1\" class=\"dataframe\">\n",
       "  <thead>\n",
       "    <tr style=\"text-align: right;\">\n",
       "      <th></th>\n",
       "      <th>Show_Id</th>\n",
       "      <th>Category</th>\n",
       "      <th>Title</th>\n",
       "      <th>Director</th>\n",
       "      <th>Cast</th>\n",
       "      <th>Country</th>\n",
       "      <th>Release_Date</th>\n",
       "      <th>Rating</th>\n",
       "      <th>Duration</th>\n",
       "      <th>Type</th>\n",
       "      <th>Description</th>\n",
       "    </tr>\n",
       "  </thead>\n",
       "  <tbody>\n",
       "  </tbody>\n",
       "</table>\n",
       "</div>"
      ],
      "text/plain": [
       "Empty DataFrame\n",
       "Columns: [Show_Id, Category, Title, Director, Cast, Country, Release_Date, Rating, Duration, Type, Description]\n",
       "Index: []"
      ]
     },
     "execution_count": 14,
     "metadata": {},
     "output_type": "execute_result"
    }
   ],
   "source": [
    "df[df.duplicated()]\n",
    "# there are no duplicate values anymore"
   ]
  },
  {
   "cell_type": "markdown",
   "id": "5766fd32-43e1-4bee-b129-dd0f59adb1cc",
   "metadata": {},
   "source": [
    "### Change `Release_Date`'s dtype to datatime dtype"
   ]
  },
  {
   "cell_type": "code",
   "execution_count": 15,
   "id": "e923fef0-d915-4960-abec-3fbbe7476518",
   "metadata": {},
   "outputs": [],
   "source": [
    "df['Release_Date'] = pd.to_datetime(df['Release_Date'], format='mixed')"
   ]
  },
  {
   "cell_type": "code",
   "execution_count": 16,
   "id": "4a536a66-67f7-4753-a37e-562d7877491a",
   "metadata": {},
   "outputs": [
    {
     "data": {
      "text/plain": [
       "10"
      ]
     },
     "execution_count": 16,
     "metadata": {},
     "output_type": "execute_result"
    }
   ],
   "source": [
    "df['Release_Date'].isnull().sum()\n",
    "# there 10 NaNs for Date(Release_Date) column"
   ]
  },
  {
   "cell_type": "code",
   "execution_count": 17,
   "id": "df372f3f-9379-4b28-b87c-3595b74e5db6",
   "metadata": {},
   "outputs": [
    {
     "data": {
      "text/plain": [
       "Show_Id                 object\n",
       "Category                object\n",
       "Title                   object\n",
       "Director                object\n",
       "Cast                    object\n",
       "Country                 object\n",
       "Release_Date    datetime64[ns]\n",
       "Rating                  object\n",
       "Duration                object\n",
       "Type                    object\n",
       "Description             object\n",
       "dtype: object"
      ]
     },
     "execution_count": 17,
     "metadata": {},
     "output_type": "execute_result"
    }
   ],
   "source": [
    "df.dtypes\n",
    "# to be sure that dtype of Release_Date has been changed sucessfully"
   ]
  },
  {
   "cell_type": "markdown",
   "id": "5fea3d54-a0b5-4334-a9ef-5b4973e4e46f",
   "metadata": {},
   "source": [
    "### Filling missing values of `Release_Date`"
   ]
  },
  {
   "cell_type": "markdown",
   "id": "003559ab-8042-4fa5-b1ba-48d310cbab83",
   "metadata": {},
   "source": [
    "___The mode represents the central tendency for categorical data and is a common choice for imputing missing values in such cases.___"
   ]
  },
  {
   "cell_type": "code",
   "execution_count": 18,
   "id": "12d11606-ae8d-44a0-a6aa-0e0079178e4d",
   "metadata": {},
   "outputs": [],
   "source": [
    "df['Release_Date'] = df['Release_Date'].fillna(df['Release_Date'].mode()[0])"
   ]
  },
  {
   "cell_type": "code",
   "execution_count": 19,
   "id": "145b9153-c8f5-45ac-befd-7b441d263ca4",
   "metadata": {},
   "outputs": [
    {
     "data": {
      "text/plain": [
       "Show_Id            0\n",
       "Category           0\n",
       "Title              0\n",
       "Director        2388\n",
       "Cast             718\n",
       "Country          507\n",
       "Release_Date       0\n",
       "Rating             7\n",
       "Duration           0\n",
       "Type               0\n",
       "Description        0\n",
       "dtype: int64"
      ]
     },
     "execution_count": 19,
     "metadata": {},
     "output_type": "execute_result"
    }
   ],
   "source": [
    "df.isnull().sum()"
   ]
  },
  {
   "cell_type": "code",
   "execution_count": null,
   "id": "bb6793e8-98a4-4800-bbf3-9bec1311b408",
   "metadata": {},
   "outputs": [],
   "source": []
  },
  {
   "cell_type": "markdown",
   "id": "92ad9e7b-9fed-44cb-a70b-c0206e2731a2",
   "metadata": {},
   "source": [
    "### Filling missing values of `Rating` column using statistical measurement"
   ]
  },
  {
   "cell_type": "code",
   "execution_count": 20,
   "id": "8b9db2c1-96c0-4c95-baed-e0002b3f7d99",
   "metadata": {},
   "outputs": [
    {
     "data": {
      "text/plain": [
       "7"
      ]
     },
     "execution_count": 20,
     "metadata": {},
     "output_type": "execute_result"
    }
   ],
   "source": [
    "# number of missing values in Rating column\n",
    "df['Rating'].isnull().sum()"
   ]
  },
  {
   "cell_type": "code",
   "execution_count": 21,
   "id": "8f2644a8-787c-41ea-ad71-2b8c22bd96c1",
   "metadata": {},
   "outputs": [
    {
     "data": {
      "text/plain": [
       "array(['TV-MA', 'R', 'PG-13', 'TV-14', 'TV-PG', 'NR', 'TV-G', 'TV-Y', nan,\n",
       "       'TV-Y7', 'PG', 'G', 'NC-17', 'TV-Y7-FV', 'UR'], dtype=object)"
      ]
     },
     "execution_count": 21,
     "metadata": {},
     "output_type": "execute_result"
    }
   ],
   "source": [
    "# check unique values of Rating column\n",
    "df['Rating'].unique()"
   ]
  },
  {
   "cell_type": "code",
   "execution_count": 22,
   "id": "9542aff4-dd4f-4b58-ad9a-c40727ca7212",
   "metadata": {},
   "outputs": [],
   "source": [
    "# there are 7 rows which have missing values for Rating column\n",
    "# filling missing values of Rating columns using mode\n",
    "df['Rating'] = df['Rating'].fillna(df['Rating'].mode()[0])"
   ]
  },
  {
   "cell_type": "markdown",
   "id": "10c3232a-5d83-4b75-a298-9b3db32927d2",
   "metadata": {},
   "source": [
    "### Handling missing values of `Director`, `Country`, `Cast`"
   ]
  },
  {
   "cell_type": "markdown",
   "id": "3bfb2b1b-7803-493b-ba33-3fcd34b70a1c",
   "metadata": {},
   "source": [
    "___It doesnt make sense to fill out missing values of these columns using statistical measurement, because their dtype is `Object` so it is not possible to fill them using mean, median.___\n",
    "___Also using mode is not good approach to fill them as mode will use most frequent value to fill NaNs and it will causes the accuracy and precision of the data to decrease and not be correct___\n",
    "___So i will add `Unknown` value for these missing values to show that value of them are not known___ "
   ]
  },
  {
   "cell_type": "code",
   "execution_count": 23,
   "id": "e799403b-3df5-409f-9b34-a216c6fe26a9",
   "metadata": {},
   "outputs": [],
   "source": [
    "df[['Director', 'Cast', 'Country']] = df[['Director', 'Cast', 'Country']].fillna('Unknown')"
   ]
  },
  {
   "cell_type": "code",
   "execution_count": 24,
   "id": "28e4b72f-5144-404d-8d22-290edc323bf2",
   "metadata": {},
   "outputs": [
    {
     "data": {
      "text/plain": [
       "Show_Id         0\n",
       "Category        0\n",
       "Title           0\n",
       "Director        0\n",
       "Cast            0\n",
       "Country         0\n",
       "Release_Date    0\n",
       "Rating          0\n",
       "Duration        0\n",
       "Type            0\n",
       "Description     0\n",
       "dtype: int64"
      ]
     },
     "execution_count": 24,
     "metadata": {},
     "output_type": "execute_result"
    }
   ],
   "source": [
    "df.isnull().sum()"
   ]
  },
  {
   "cell_type": "code",
   "execution_count": null,
   "id": "f954da50-e856-45b3-a293-6879073b4843",
   "metadata": {},
   "outputs": [],
   "source": []
  },
  {
   "cell_type": "markdown",
   "id": "71ca28d8-512a-4526-bea0-c726181677f3",
   "metadata": {},
   "source": [
    "# Analysis"
   ]
  },
  {
   "cell_type": "markdown",
   "id": "9d7e527e-16ec-4985-abf7-c0513aaf5f81",
   "metadata": {},
   "source": [
    "### ___Get `show_id` and `director` of specific movie or tv show___:"
   ]
  },
  {
   "cell_type": "code",
   "execution_count": 25,
   "id": "1a0762cd-be4d-403b-950d-06d241ebacf0",
   "metadata": {},
   "outputs": [
    {
     "data": {
      "text/html": [
       "<div>\n",
       "<style scoped>\n",
       "    .dataframe tbody tr th:only-of-type {\n",
       "        vertical-align: middle;\n",
       "    }\n",
       "\n",
       "    .dataframe tbody tr th {\n",
       "        vertical-align: top;\n",
       "    }\n",
       "\n",
       "    .dataframe thead th {\n",
       "        text-align: right;\n",
       "    }\n",
       "</style>\n",
       "<table border=\"1\" class=\"dataframe\">\n",
       "  <thead>\n",
       "    <tr style=\"text-align: right;\">\n",
       "      <th></th>\n",
       "      <th>Show_Id</th>\n",
       "      <th>Category</th>\n",
       "      <th>Title</th>\n",
       "      <th>Director</th>\n",
       "      <th>Cast</th>\n",
       "      <th>Country</th>\n",
       "      <th>Release_Date</th>\n",
       "      <th>Rating</th>\n",
       "      <th>Duration</th>\n",
       "      <th>Type</th>\n",
       "      <th>Description</th>\n",
       "    </tr>\n",
       "  </thead>\n",
       "  <tbody>\n",
       "    <tr>\n",
       "      <th>2832</th>\n",
       "      <td>s2833</td>\n",
       "      <td>TV Show</td>\n",
       "      <td>House of Cards</td>\n",
       "      <td>Robin Wright, David Fincher, Gerald McRaney, J...</td>\n",
       "      <td>Kevin Spacey, Robin Wright, Kate Mara, Corey S...</td>\n",
       "      <td>United States</td>\n",
       "      <td>2018-11-02</td>\n",
       "      <td>TV-MA</td>\n",
       "      <td>6 Seasons</td>\n",
       "      <td>TV Dramas, TV Thrillers</td>\n",
       "      <td>A ruthless politician will stop at nothing to ...</td>\n",
       "    </tr>\n",
       "  </tbody>\n",
       "</table>\n",
       "</div>"
      ],
      "text/plain": [
       "     Show_Id Category           Title  \\\n",
       "2832   s2833  TV Show  House of Cards   \n",
       "\n",
       "                                               Director  \\\n",
       "2832  Robin Wright, David Fincher, Gerald McRaney, J...   \n",
       "\n",
       "                                                   Cast        Country  \\\n",
       "2832  Kevin Spacey, Robin Wright, Kate Mara, Corey S...  United States   \n",
       "\n",
       "     Release_Date Rating   Duration                     Type  \\\n",
       "2832   2018-11-02  TV-MA  6 Seasons  TV Dramas, TV Thrillers   \n",
       "\n",
       "                                            Description  \n",
       "2832  A ruthless politician will stop at nothing to ...  "
      ]
     },
     "execution_count": 25,
     "metadata": {},
     "output_type": "execute_result"
    }
   ],
   "source": [
    "df[(df['Title'] == 'House of Cards')]"
   ]
  },
  {
   "cell_type": "markdown",
   "id": "784b58ce-d00f-4a06-9722-c3e6b947b091",
   "metadata": {},
   "source": [
    "### ___Filter Movies/Series by Year, Category___"
   ]
  },
  {
   "cell_type": "code",
   "execution_count": 26,
   "id": "dd100e47-57cc-45f8-9865-8a4646f5bc7a",
   "metadata": {},
   "outputs": [],
   "source": [
    "def filter_by_year(year, n, category = 'Movie'):\n",
    "    # n :is number of movies\n",
    "    return df[(df['Release_Date'].dt.year == year) & (df['Category'] == category)][['Title', 'Director', 'Country', 'Type', 'Rating']].set_index('Title').head(n)"
   ]
  },
  {
   "cell_type": "code",
   "execution_count": 27,
   "id": "3075a5cc-7a23-4068-b34e-f059421bac1e",
   "metadata": {},
   "outputs": [
    {
     "data": {
      "text/html": [
       "<div>\n",
       "<style scoped>\n",
       "    .dataframe tbody tr th:only-of-type {\n",
       "        vertical-align: middle;\n",
       "    }\n",
       "\n",
       "    .dataframe tbody tr th {\n",
       "        vertical-align: top;\n",
       "    }\n",
       "\n",
       "    .dataframe thead th {\n",
       "        text-align: right;\n",
       "    }\n",
       "</style>\n",
       "<table border=\"1\" class=\"dataframe\">\n",
       "  <thead>\n",
       "    <tr style=\"text-align: right;\">\n",
       "      <th></th>\n",
       "      <th>Director</th>\n",
       "      <th>Country</th>\n",
       "      <th>Type</th>\n",
       "      <th>Rating</th>\n",
       "    </tr>\n",
       "    <tr>\n",
       "      <th>Title</th>\n",
       "      <th></th>\n",
       "      <th></th>\n",
       "      <th></th>\n",
       "      <th></th>\n",
       "    </tr>\n",
       "  </thead>\n",
       "  <tbody>\n",
       "    <tr>\n",
       "      <th>46</th>\n",
       "      <td>Serdar Akar</td>\n",
       "      <td>Turkey</td>\n",
       "      <td>International TV Shows, TV Dramas, TV Mysteries</td>\n",
       "      <td>TV-MA</td>\n",
       "    </tr>\n",
       "    <tr>\n",
       "      <th>Şubat</th>\n",
       "      <td>Unknown</td>\n",
       "      <td>Turkey</td>\n",
       "      <td>Crime TV Shows, International TV Shows, TV Dramas</td>\n",
       "      <td>TV-MA</td>\n",
       "    </tr>\n",
       "    <tr>\n",
       "      <th>12 Years Promise</th>\n",
       "      <td>Unknown</td>\n",
       "      <td>South Korea</td>\n",
       "      <td>International TV Shows, Korean TV Shows, Roman...</td>\n",
       "      <td>TV-14</td>\n",
       "    </tr>\n",
       "    <tr>\n",
       "      <th>20 Minutes</th>\n",
       "      <td>Unknown</td>\n",
       "      <td>Turkey</td>\n",
       "      <td>Crime TV Shows, International TV Shows, TV Dramas</td>\n",
       "      <td>TV-MA</td>\n",
       "    </tr>\n",
       "    <tr>\n",
       "      <th>28 Moons</th>\n",
       "      <td>Unknown</td>\n",
       "      <td>South Korea</td>\n",
       "      <td>International TV Shows, Korean TV Shows, Roman...</td>\n",
       "      <td>TV-PG</td>\n",
       "    </tr>\n",
       "  </tbody>\n",
       "</table>\n",
       "</div>"
      ],
      "text/plain": [
       "                     Director      Country  \\\n",
       "Title                                        \n",
       "46                Serdar Akar       Turkey   \n",
       "Şubat                 Unknown       Turkey   \n",
       "12 Years Promise      Unknown  South Korea   \n",
       "20 Minutes            Unknown       Turkey   \n",
       "28 Moons              Unknown  South Korea   \n",
       "\n",
       "                                                               Type Rating  \n",
       "Title                                                                       \n",
       "46                  International TV Shows, TV Dramas, TV Mysteries  TV-MA  \n",
       "Şubat             Crime TV Shows, International TV Shows, TV Dramas  TV-MA  \n",
       "12 Years Promise  International TV Shows, Korean TV Shows, Roman...  TV-14  \n",
       "20 Minutes        Crime TV Shows, International TV Shows, TV Dramas  TV-MA  \n",
       "28 Moons          International TV Shows, Korean TV Shows, Roman...  TV-PG  "
      ]
     },
     "execution_count": 27,
     "metadata": {},
     "output_type": "execute_result"
    }
   ],
   "source": [
    "filter_by_year(2017, 5, 'TV Show')"
   ]
  },
  {
   "cell_type": "code",
   "execution_count": 28,
   "id": "c71b202a-b225-4e4a-a052-b4f5e106a100",
   "metadata": {},
   "outputs": [
    {
     "data": {
      "text/html": [
       "<div>\n",
       "<style scoped>\n",
       "    .dataframe tbody tr th:only-of-type {\n",
       "        vertical-align: middle;\n",
       "    }\n",
       "\n",
       "    .dataframe tbody tr th {\n",
       "        vertical-align: top;\n",
       "    }\n",
       "\n",
       "    .dataframe thead th {\n",
       "        text-align: right;\n",
       "    }\n",
       "</style>\n",
       "<table border=\"1\" class=\"dataframe\">\n",
       "  <thead>\n",
       "    <tr style=\"text-align: right;\">\n",
       "      <th></th>\n",
       "      <th>Director</th>\n",
       "      <th>Country</th>\n",
       "      <th>Type</th>\n",
       "      <th>Rating</th>\n",
       "    </tr>\n",
       "    <tr>\n",
       "      <th>Title</th>\n",
       "      <th></th>\n",
       "      <th></th>\n",
       "      <th></th>\n",
       "      <th></th>\n",
       "    </tr>\n",
       "  </thead>\n",
       "  <tbody>\n",
       "    <tr>\n",
       "      <th>A Stoning in Fulham County</th>\n",
       "      <td>Larry Elikann</td>\n",
       "      <td>United States</td>\n",
       "      <td>Dramas</td>\n",
       "      <td>TV-14</td>\n",
       "    </tr>\n",
       "    <tr>\n",
       "      <th>Adam: His Song Continues</th>\n",
       "      <td>Robert Markowitz</td>\n",
       "      <td>United States</td>\n",
       "      <td>Dramas</td>\n",
       "      <td>TV-MA</td>\n",
       "    </tr>\n",
       "    <tr>\n",
       "      <th>Even the Rain</th>\n",
       "      <td>Icíar Bollaín</td>\n",
       "      <td>Spain, Mexico, France</td>\n",
       "      <td>Dramas, International Movies</td>\n",
       "      <td>TV-MA</td>\n",
       "    </tr>\n",
       "    <tr>\n",
       "      <th>Hard Lessons</th>\n",
       "      <td>Eric Laneuville</td>\n",
       "      <td>United States</td>\n",
       "      <td>Dramas</td>\n",
       "      <td>TV-14</td>\n",
       "    </tr>\n",
       "    <tr>\n",
       "      <th>In Defense of a Married Man</th>\n",
       "      <td>Joel Oliansky</td>\n",
       "      <td>United States</td>\n",
       "      <td>Dramas</td>\n",
       "      <td>TV-14</td>\n",
       "    </tr>\n",
       "  </tbody>\n",
       "</table>\n",
       "</div>"
      ],
      "text/plain": [
       "                                     Director                Country  \\\n",
       "Title                                                                  \n",
       "A Stoning in Fulham County      Larry Elikann          United States   \n",
       "Adam: His Song Continues     Robert Markowitz          United States   \n",
       "Even the Rain                   Icíar Bollaín  Spain, Mexico, France   \n",
       "Hard Lessons                  Eric Laneuville          United States   \n",
       "In Defense of a Married Man     Joel Oliansky          United States   \n",
       "\n",
       "                                                     Type Rating  \n",
       "Title                                                             \n",
       "A Stoning in Fulham County                         Dramas  TV-14  \n",
       "Adam: His Song Continues                           Dramas  TV-MA  \n",
       "Even the Rain                Dramas, International Movies  TV-MA  \n",
       "Hard Lessons                                       Dramas  TV-14  \n",
       "In Defense of a Married Man                        Dramas  TV-14  "
      ]
     },
     "execution_count": 28,
     "metadata": {},
     "output_type": "execute_result"
    }
   ],
   "source": [
    "filter_by_year(2011, 5)"
   ]
  },
  {
   "cell_type": "markdown",
   "id": "8a1742b7-c1be-449a-91a6-8433e02d2c1f",
   "metadata": {},
   "source": [
    "### ___Filter Movies/Series by Country___"
   ]
  },
  {
   "cell_type": "markdown",
   "id": "8912cb3f-d211-4330-89b9-74ebb908a099",
   "metadata": {},
   "source": [
    "___This function will provide an analysis of shows and movies for a specific country.___"
   ]
  },
  {
   "cell_type": "code",
   "execution_count": 29,
   "id": "bf7f7c13-657a-465e-8d05-2aafe2d131e4",
   "metadata": {},
   "outputs": [],
   "source": [
    "def filter_by_country(country, n):\n",
    "    # n :is number of movies\n",
    "    return df[(df['Country'] == country)][['Category','Title', 'Director', 'Country', 'Type', 'Rating']].set_index('Title').head(n)"
   ]
  },
  {
   "cell_type": "code",
   "execution_count": 30,
   "id": "02d85c3c-3b74-45a1-9aca-29b2b4a473a1",
   "metadata": {},
   "outputs": [
    {
     "data": {
      "text/html": [
       "<div>\n",
       "<style scoped>\n",
       "    .dataframe tbody tr th:only-of-type {\n",
       "        vertical-align: middle;\n",
       "    }\n",
       "\n",
       "    .dataframe tbody tr th {\n",
       "        vertical-align: top;\n",
       "    }\n",
       "\n",
       "    .dataframe thead th {\n",
       "        text-align: right;\n",
       "    }\n",
       "</style>\n",
       "<table border=\"1\" class=\"dataframe\">\n",
       "  <thead>\n",
       "    <tr style=\"text-align: right;\">\n",
       "      <th></th>\n",
       "      <th>Category</th>\n",
       "      <th>Director</th>\n",
       "      <th>Country</th>\n",
       "      <th>Type</th>\n",
       "      <th>Rating</th>\n",
       "    </tr>\n",
       "    <tr>\n",
       "      <th>Title</th>\n",
       "      <th></th>\n",
       "      <th></th>\n",
       "      <th></th>\n",
       "      <th></th>\n",
       "      <th></th>\n",
       "    </tr>\n",
       "  </thead>\n",
       "  <tbody>\n",
       "  </tbody>\n",
       "</table>\n",
       "</div>"
      ],
      "text/plain": [
       "Empty DataFrame\n",
       "Columns: [Category, Director, Country, Type, Rating]\n",
       "Index: []"
      ]
     },
     "execution_count": 30,
     "metadata": {},
     "output_type": "execute_result"
    }
   ],
   "source": [
    "filter_by_country('Iran', 5)"
   ]
  },
  {
   "cell_type": "code",
   "execution_count": 31,
   "id": "4c57d48b-ac1c-42cd-a9a9-244af29f6449",
   "metadata": {},
   "outputs": [
    {
     "data": {
      "text/html": [
       "<div>\n",
       "<style scoped>\n",
       "    .dataframe tbody tr th:only-of-type {\n",
       "        vertical-align: middle;\n",
       "    }\n",
       "\n",
       "    .dataframe tbody tr th {\n",
       "        vertical-align: top;\n",
       "    }\n",
       "\n",
       "    .dataframe thead th {\n",
       "        text-align: right;\n",
       "    }\n",
       "</style>\n",
       "<table border=\"1\" class=\"dataframe\">\n",
       "  <thead>\n",
       "    <tr style=\"text-align: right;\">\n",
       "      <th></th>\n",
       "      <th>Category</th>\n",
       "      <th>Director</th>\n",
       "      <th>Country</th>\n",
       "      <th>Type</th>\n",
       "      <th>Rating</th>\n",
       "    </tr>\n",
       "    <tr>\n",
       "      <th>Title</th>\n",
       "      <th></th>\n",
       "      <th></th>\n",
       "      <th></th>\n",
       "      <th></th>\n",
       "      <th></th>\n",
       "    </tr>\n",
       "  </thead>\n",
       "  <tbody>\n",
       "    <tr>\n",
       "      <th>3 Türken &amp; ein Baby</th>\n",
       "      <td>Movie</td>\n",
       "      <td>Sinan Akkuş</td>\n",
       "      <td>Germany</td>\n",
       "      <td>Comedies, International Movies</td>\n",
       "      <td>TV-MA</td>\n",
       "    </tr>\n",
       "    <tr>\n",
       "      <th>A Heavy Heart</th>\n",
       "      <td>Movie</td>\n",
       "      <td>Thomas Stuber</td>\n",
       "      <td>Germany</td>\n",
       "      <td>Dramas, Independent Movies, International Movies</td>\n",
       "      <td>TV-MA</td>\n",
       "    </tr>\n",
       "    <tr>\n",
       "      <th>A Perfect Crime</th>\n",
       "      <td>TV Show</td>\n",
       "      <td>Unknown</td>\n",
       "      <td>Germany</td>\n",
       "      <td>Crime TV Shows, Docuseries, International TV S...</td>\n",
       "      <td>TV-14</td>\n",
       "    </tr>\n",
       "    <tr>\n",
       "      <th>Alles ist gut</th>\n",
       "      <td>Movie</td>\n",
       "      <td>Eva Trobisch</td>\n",
       "      <td>Germany</td>\n",
       "      <td>Dramas, International Movies</td>\n",
       "      <td>TV-MA</td>\n",
       "    </tr>\n",
       "    <tr>\n",
       "      <th>Babylon Berlin</th>\n",
       "      <td>TV Show</td>\n",
       "      <td>Unknown</td>\n",
       "      <td>Germany</td>\n",
       "      <td>Crime TV Shows, International TV Shows, TV Dramas</td>\n",
       "      <td>TV-MA</td>\n",
       "    </tr>\n",
       "    <tr>\n",
       "      <th>Barbarians</th>\n",
       "      <td>TV Show</td>\n",
       "      <td>Unknown</td>\n",
       "      <td>Germany</td>\n",
       "      <td>International TV Shows, TV Action &amp; Adventure,...</td>\n",
       "      <td>TV-MA</td>\n",
       "    </tr>\n",
       "    <tr>\n",
       "      <th>Beak &amp; Brain: Genius Birds From Down Under</th>\n",
       "      <td>Movie</td>\n",
       "      <td>Volker Arzt, Angelika Sigl</td>\n",
       "      <td>Germany</td>\n",
       "      <td>Documentaries, International Movies</td>\n",
       "      <td>TV-G</td>\n",
       "    </tr>\n",
       "    <tr>\n",
       "      <th>Berlin Calling</th>\n",
       "      <td>Movie</td>\n",
       "      <td>Hannes Stöhr</td>\n",
       "      <td>Germany</td>\n",
       "      <td>Dramas, International Movies, Music &amp; Musicals</td>\n",
       "      <td>TV-MA</td>\n",
       "    </tr>\n",
       "  </tbody>\n",
       "</table>\n",
       "</div>"
      ],
      "text/plain": [
       "                                           Category  \\\n",
       "Title                                                 \n",
       "3 Türken & ein Baby                           Movie   \n",
       "A Heavy Heart                                 Movie   \n",
       "A Perfect Crime                             TV Show   \n",
       "Alles ist gut                                 Movie   \n",
       "Babylon Berlin                              TV Show   \n",
       "Barbarians                                  TV Show   \n",
       "Beak & Brain: Genius Birds From Down Under    Movie   \n",
       "Berlin Calling                                Movie   \n",
       "\n",
       "                                                              Director  \\\n",
       "Title                                                                    \n",
       "3 Türken & ein Baby                                        Sinan Akkuş   \n",
       "A Heavy Heart                                            Thomas Stuber   \n",
       "A Perfect Crime                                                Unknown   \n",
       "Alles ist gut                                             Eva Trobisch   \n",
       "Babylon Berlin                                                 Unknown   \n",
       "Barbarians                                                     Unknown   \n",
       "Beak & Brain: Genius Birds From Down Under  Volker Arzt, Angelika Sigl   \n",
       "Berlin Calling                                            Hannes Stöhr   \n",
       "\n",
       "                                            Country  \\\n",
       "Title                                                 \n",
       "3 Türken & ein Baby                         Germany   \n",
       "A Heavy Heart                               Germany   \n",
       "A Perfect Crime                             Germany   \n",
       "Alles ist gut                               Germany   \n",
       "Babylon Berlin                              Germany   \n",
       "Barbarians                                  Germany   \n",
       "Beak & Brain: Genius Birds From Down Under  Germany   \n",
       "Berlin Calling                              Germany   \n",
       "\n",
       "                                                                                         Type  \\\n",
       "Title                                                                                           \n",
       "3 Türken & ein Baby                                            Comedies, International Movies   \n",
       "A Heavy Heart                                Dramas, Independent Movies, International Movies   \n",
       "A Perfect Crime                             Crime TV Shows, Docuseries, International TV S...   \n",
       "Alles ist gut                                                    Dramas, International Movies   \n",
       "Babylon Berlin                              Crime TV Shows, International TV Shows, TV Dramas   \n",
       "Barbarians                                  International TV Shows, TV Action & Adventure,...   \n",
       "Beak & Brain: Genius Birds From Down Under                Documentaries, International Movies   \n",
       "Berlin Calling                                 Dramas, International Movies, Music & Musicals   \n",
       "\n",
       "                                           Rating  \n",
       "Title                                              \n",
       "3 Türken & ein Baby                         TV-MA  \n",
       "A Heavy Heart                               TV-MA  \n",
       "A Perfect Crime                             TV-14  \n",
       "Alles ist gut                               TV-MA  \n",
       "Babylon Berlin                              TV-MA  \n",
       "Barbarians                                  TV-MA  \n",
       "Beak & Brain: Genius Birds From Down Under   TV-G  \n",
       "Berlin Calling                              TV-MA  "
      ]
     },
     "execution_count": 31,
     "metadata": {},
     "output_type": "execute_result"
    }
   ],
   "source": [
    "filter_by_country('Germany', 8)"
   ]
  },
  {
   "cell_type": "markdown",
   "id": "a2072bea-a29b-45d1-809f-346540318870",
   "metadata": {},
   "source": [
    "### ___Top Directors___"
   ]
  },
  {
   "cell_type": "markdown",
   "id": "b05a456f-18b0-40a3-9364-512684fde805",
   "metadata": {},
   "source": [
    "___This function will return the top directors based on the number of shows or movies they have in the dataset.___"
   ]
  },
  {
   "cell_type": "code",
   "execution_count": 32,
   "id": "72139dc0-fffd-4383-a1ea-4d591dd0fc7a",
   "metadata": {},
   "outputs": [],
   "source": [
    "def top_directors(df, n=5):\n",
    "    return df['Director'].value_counts().head(n)"
   ]
  },
  {
   "cell_type": "code",
   "execution_count": 33,
   "id": "759a3f44-7d86-4d6e-99e9-7fb019af070e",
   "metadata": {},
   "outputs": [
    {
     "data": {
      "text/plain": [
       "Director\n",
       "Unknown                   2388\n",
       "Raúl Campos, Jan Suter      18\n",
       "Marcus Raboy                16\n",
       "Jay Karas                   14\n",
       "Cathy Garcia-Molina         13\n",
       "Name: count, dtype: int64"
      ]
     },
     "execution_count": 33,
     "metadata": {},
     "output_type": "execute_result"
    }
   ],
   "source": [
    "top_directors(df)"
   ]
  },
  {
   "cell_type": "markdown",
   "id": "aec49f1e-699e-439f-9fff-ae90879e1de2",
   "metadata": {},
   "source": [
    "### ___Number of Moves/Tv Shows release per year___"
   ]
  },
  {
   "cell_type": "code",
   "execution_count": 34,
   "id": "bb5cd5c2-c66e-4454-99a3-bef449adb7fc",
   "metadata": {},
   "outputs": [],
   "source": [
    "def release_year_analysis(df):\n",
    "    df['Release_Year'] = df['Release_Date'].dt.year\n",
    "    return df['Release_Year'].value_counts().sort_index()"
   ]
  },
  {
   "cell_type": "code",
   "execution_count": 35,
   "id": "dca8b7e9-41f6-4eea-b993-6be80a0a8088",
   "metadata": {},
   "outputs": [
    {
     "data": {
      "text/plain": [
       "Release_Year\n",
       "2008       2\n",
       "2009       2\n",
       "2010       1\n",
       "2011      13\n",
       "2012       3\n",
       "2013      11\n",
       "2014      25\n",
       "2015      88\n",
       "2016     443\n",
       "2017    1225\n",
       "2018    1685\n",
       "2019    2153\n",
       "2020    2019\n",
       "2021     117\n",
       "Name: count, dtype: int64"
      ]
     },
     "execution_count": 35,
     "metadata": {},
     "output_type": "execute_result"
    }
   ],
   "source": [
    "release_year_analysis(df)"
   ]
  },
  {
   "cell_type": "markdown",
   "id": "fb45f172-69f0-4552-b164-5a7e7dbe70d8",
   "metadata": {},
   "source": [
    "### ___`Cast` Analysis by creating new df of Casts and show number of Movies/Tv Shows that they have participated___"
   ]
  },
  {
   "cell_type": "markdown",
   "id": "7e87da7b-1a77-4e77-ac4a-a3a48c756df4",
   "metadata": {},
   "source": [
    "___The cast_counts DataFrame will show the count of movies and tv shows for each cast member.___"
   ]
  },
  {
   "cell_type": "code",
   "execution_count": 36,
   "id": "25991c7a-b205-4bbc-ad07-b3a4d3d6bafb",
   "metadata": {},
   "outputs": [],
   "source": [
    "def cast_analysis(df):\n",
    "    # Create a DataFrame with individual cast members\n",
    "    cast_df = pd.DataFrame(df['Cast'].apply(lambda x: str(x).split(',')).explode().str.strip())\n",
    "    cast_df[['Name', 'Family']] = cast_df['Cast'].str.split(n=1, expand=True)     # Split name and family into separate columns\n",
    "    cast_df = cast_df.drop_duplicates()          # Drop duplicates\n",
    "\n",
    "    # Merge cast_df with the original DataFrame 'df' to get the Type (Movie/TV Show) for each cast member\n",
    "    cast_df = cast_df.merge(df[['Cast']], left_on='Cast', right_on='Cast', how='left')\n",
    "\n",
    "    # Group by name, family, count occurrences, and reset index\n",
    "    cast_counts = cast_df.groupby(['Name', 'Family']).size().reset_index(name='Count').set_index(['Name', 'Family'])\n",
    "\n",
    "    return cast_counts.sort_values(by = 'Count', ascending = False)\n",
    "    \"\"\"\n",
    "    director_df.groupby('Director'): groups the DataFrame cast_df by the 'Name', 'Family'. It creates a group for each unique cast.\n",
    "    ----------------------------------------------------------------------------------\n",
    "    .size(): This method calculates the size (number of occurrences) of each group.\n",
    "    ----------------------------------------------------------------------------------\n",
    "    .reset_index(name='Count'): This part resets the index of the resulting DataFrame and gives a name ('Count') to the column that represents the size of each group. \n",
    "    ----------------------------------------------------------------------------------\n",
    "    .set_index('Director'): This code sets the 'Director' column as the new index of the DataFrame. \n",
    "    \"\"\""
   ]
  },
  {
   "cell_type": "code",
   "execution_count": 37,
   "id": "e76faac6-04c9-498f-ad86-67bf59af3e3e",
   "metadata": {},
   "outputs": [
    {
     "data": {
      "text/html": [
       "<div>\n",
       "<style scoped>\n",
       "    .dataframe tbody tr th:only-of-type {\n",
       "        vertical-align: middle;\n",
       "    }\n",
       "\n",
       "    .dataframe tbody tr th {\n",
       "        vertical-align: top;\n",
       "    }\n",
       "\n",
       "    .dataframe thead th {\n",
       "        text-align: right;\n",
       "    }\n",
       "</style>\n",
       "<table border=\"1\" class=\"dataframe\">\n",
       "  <thead>\n",
       "    <tr style=\"text-align: right;\">\n",
       "      <th></th>\n",
       "      <th></th>\n",
       "      <th>Count</th>\n",
       "    </tr>\n",
       "    <tr>\n",
       "      <th>Name</th>\n",
       "      <th>Family</th>\n",
       "      <th></th>\n",
       "    </tr>\n",
       "  </thead>\n",
       "  <tbody>\n",
       "    <tr>\n",
       "      <th>David</th>\n",
       "      <th>Attenborough</th>\n",
       "      <td>18</td>\n",
       "    </tr>\n",
       "    <tr>\n",
       "      <th>Samuel</th>\n",
       "      <th>West</th>\n",
       "      <td>10</td>\n",
       "    </tr>\n",
       "    <tr>\n",
       "      <th>Jeff</th>\n",
       "      <th>Dunham</th>\n",
       "      <td>7</td>\n",
       "    </tr>\n",
       "    <tr>\n",
       "      <th>Kevin</th>\n",
       "      <th>Hart</th>\n",
       "      <td>6</td>\n",
       "    </tr>\n",
       "    <tr>\n",
       "      <th>Craig</th>\n",
       "      <th>Sechler</th>\n",
       "      <td>6</td>\n",
       "    </tr>\n",
       "    <tr>\n",
       "      <th>...</th>\n",
       "      <th>...</th>\n",
       "      <td>...</td>\n",
       "    </tr>\n",
       "    <tr>\n",
       "      <th rowspan=\"3\" valign=\"top\">Hakan</th>\n",
       "      <th>Eke</th>\n",
       "      <td>1</td>\n",
       "    </tr>\n",
       "    <tr>\n",
       "      <th>Boyav</th>\n",
       "      <td>1</td>\n",
       "    </tr>\n",
       "    <tr>\n",
       "      <th>Akın</th>\n",
       "      <td>1</td>\n",
       "    </tr>\n",
       "    <tr>\n",
       "      <th>Hak</th>\n",
       "      <th>Jin</th>\n",
       "      <td>1</td>\n",
       "    </tr>\n",
       "    <tr>\n",
       "      <th>Ṣọpẹ́</th>\n",
       "      <th>Dìrísù</th>\n",
       "      <td>1</td>\n",
       "    </tr>\n",
       "  </tbody>\n",
       "</table>\n",
       "<p>32268 rows × 1 columns</p>\n",
       "</div>"
      ],
      "text/plain": [
       "                     Count\n",
       "Name   Family             \n",
       "David  Attenborough     18\n",
       "Samuel West             10\n",
       "Jeff   Dunham            7\n",
       "Kevin  Hart              6\n",
       "Craig  Sechler           6\n",
       "...                    ...\n",
       "Hakan  Eke               1\n",
       "       Boyav             1\n",
       "       Akın              1\n",
       "Hak    Jin               1\n",
       "Ṣọpẹ́  Dìrísù            1\n",
       "\n",
       "[32268 rows x 1 columns]"
      ]
     },
     "execution_count": 37,
     "metadata": {},
     "output_type": "execute_result"
    }
   ],
   "source": [
    "cast_analysis(df)"
   ]
  },
  {
   "cell_type": "markdown",
   "id": "2a3a3876-b8f4-408a-9ea6-b690cfb9245c",
   "metadata": {},
   "source": [
    "### ___Creating new dataframe by using `cast_analysis` function___"
   ]
  },
  {
   "cell_type": "code",
   "execution_count": 38,
   "id": "67ab4dca-aadf-47a0-8a7b-9cdbbb6fccd2",
   "metadata": {},
   "outputs": [],
   "source": [
    "cast_counts = cast_analysis(df)"
   ]
  },
  {
   "cell_type": "code",
   "execution_count": 39,
   "id": "e24ef2d1-e71f-4d35-8d90-547b63ee0ef7",
   "metadata": {},
   "outputs": [
    {
     "data": {
      "text/html": [
       "<div>\n",
       "<style scoped>\n",
       "    .dataframe tbody tr th:only-of-type {\n",
       "        vertical-align: middle;\n",
       "    }\n",
       "\n",
       "    .dataframe tbody tr th {\n",
       "        vertical-align: top;\n",
       "    }\n",
       "\n",
       "    .dataframe thead th {\n",
       "        text-align: right;\n",
       "    }\n",
       "</style>\n",
       "<table border=\"1\" class=\"dataframe\">\n",
       "  <thead>\n",
       "    <tr style=\"text-align: right;\">\n",
       "      <th></th>\n",
       "      <th></th>\n",
       "      <th>Count</th>\n",
       "    </tr>\n",
       "    <tr>\n",
       "      <th>Name</th>\n",
       "      <th>Family</th>\n",
       "      <th></th>\n",
       "    </tr>\n",
       "  </thead>\n",
       "  <tbody>\n",
       "    <tr>\n",
       "      <th>David</th>\n",
       "      <th>Attenborough</th>\n",
       "      <td>18</td>\n",
       "    </tr>\n",
       "    <tr>\n",
       "      <th>Samuel</th>\n",
       "      <th>West</th>\n",
       "      <td>10</td>\n",
       "    </tr>\n",
       "    <tr>\n",
       "      <th>Jeff</th>\n",
       "      <th>Dunham</th>\n",
       "      <td>7</td>\n",
       "    </tr>\n",
       "    <tr>\n",
       "      <th>Kevin</th>\n",
       "      <th>Hart</th>\n",
       "      <td>6</td>\n",
       "    </tr>\n",
       "    <tr>\n",
       "      <th>Craig</th>\n",
       "      <th>Sechler</th>\n",
       "      <td>6</td>\n",
       "    </tr>\n",
       "    <tr>\n",
       "      <th>Jim</th>\n",
       "      <th>Gaffigan</th>\n",
       "      <td>5</td>\n",
       "    </tr>\n",
       "    <tr>\n",
       "      <th>Bill</th>\n",
       "      <th>Burr</th>\n",
       "      <td>5</td>\n",
       "    </tr>\n",
       "    <tr>\n",
       "      <th>Iliza</th>\n",
       "      <th>Shlesinger</th>\n",
       "      <td>5</td>\n",
       "    </tr>\n",
       "    <tr>\n",
       "      <th>Jim</th>\n",
       "      <th>Jefferies</th>\n",
       "      <td>4</td>\n",
       "    </tr>\n",
       "    <tr>\n",
       "      <th>Jerry</th>\n",
       "      <th>Seinfeld</th>\n",
       "      <td>4</td>\n",
       "    </tr>\n",
       "  </tbody>\n",
       "</table>\n",
       "</div>"
      ],
      "text/plain": [
       "                     Count\n",
       "Name   Family             \n",
       "David  Attenborough     18\n",
       "Samuel West             10\n",
       "Jeff   Dunham            7\n",
       "Kevin  Hart              6\n",
       "Craig  Sechler           6\n",
       "Jim    Gaffigan          5\n",
       "Bill   Burr              5\n",
       "Iliza  Shlesinger        5\n",
       "Jim    Jefferies         4\n",
       "Jerry  Seinfeld          4"
      ]
     },
     "execution_count": 39,
     "metadata": {},
     "output_type": "execute_result"
    }
   ],
   "source": [
    "cast_counts.head(10)"
   ]
  },
  {
   "cell_type": "markdown",
   "id": "d47f7bca-6bb2-4d31-ad74-809709fd3c92",
   "metadata": {},
   "source": [
    "### ___`Director` Analysis by showing number of Movies/TV Shows that they have produced___"
   ]
  },
  {
   "cell_type": "markdown",
   "id": "f21231a8-7910-4a64-9be4-a76fbf82abe7",
   "metadata": {},
   "source": [
    "___This function counts the total number of movies and TV shows produced by each individual director by disregarding those records where director is Unknown___"
   ]
  },
  {
   "cell_type": "code",
   "execution_count": 40,
   "id": "1748705d-10b3-4965-bb7f-403e9ad5cdbe",
   "metadata": {},
   "outputs": [],
   "source": [
    "def director_production_count(df):\n",
    "    # Filter out entries with 'Unknown' directors\n",
    "    filtered_df = df[df['Director'] != 'Unknown']\n",
    "    # Create a DataFrame with each unique directors\n",
    "    director_df = pd.DataFrame(filtered_df['Director'].apply(lambda x: str(x).split(',')).explode().str.strip())\n",
    "    # Count the total number of movie and TV show produced by each director\n",
    "    director_production_counts = director_df.groupby('Director').size().reset_index(name='Count').set_index('Director')\n",
    "\n",
    "    return director_production_counts.sort_values(by = 'Count', ascending = False)\n",
    "    \"\"\"\n",
    "    director_df.groupby('Director'): groups the DataFrame director_df by the 'Director' column. It creates a group for each unique director.\n",
    "    ----------------------------------------------------------------------------------\n",
    "    .size(): This method calculates the size (number of occurrences) of each group.\n",
    "    ----------------------------------------------------------------------------------\n",
    "    .reset_index(name='Count'): This part resets the index of the resulting DataFrame and gives a name ('Count') to the column that represents the size of each group. \n",
    "    ----------------------------------------------------------------------------------\n",
    "    .set_index('Director'): This code sets the 'Director' column as the new index of the DataFrame. \n",
    "    \"\"\""
   ]
  },
  {
   "cell_type": "code",
   "execution_count": 41,
   "id": "edfc1521-fbda-4d40-b1bb-50dbd9537258",
   "metadata": {},
   "outputs": [
    {
     "data": {
      "text/html": [
       "<div>\n",
       "<style scoped>\n",
       "    .dataframe tbody tr th:only-of-type {\n",
       "        vertical-align: middle;\n",
       "    }\n",
       "\n",
       "    .dataframe tbody tr th {\n",
       "        vertical-align: top;\n",
       "    }\n",
       "\n",
       "    .dataframe thead th {\n",
       "        text-align: right;\n",
       "    }\n",
       "</style>\n",
       "<table border=\"1\" class=\"dataframe\">\n",
       "  <thead>\n",
       "    <tr style=\"text-align: right;\">\n",
       "      <th></th>\n",
       "      <th>Count</th>\n",
       "    </tr>\n",
       "    <tr>\n",
       "      <th>Director</th>\n",
       "      <th></th>\n",
       "    </tr>\n",
       "  </thead>\n",
       "  <tbody>\n",
       "    <tr>\n",
       "      <th>Jan Suter</th>\n",
       "      <td>21</td>\n",
       "    </tr>\n",
       "    <tr>\n",
       "      <th>Raúl Campos</th>\n",
       "      <td>19</td>\n",
       "    </tr>\n",
       "    <tr>\n",
       "      <th>Marcus Raboy</th>\n",
       "      <td>16</td>\n",
       "    </tr>\n",
       "    <tr>\n",
       "      <th>Jay Karas</th>\n",
       "      <td>15</td>\n",
       "    </tr>\n",
       "    <tr>\n",
       "      <th>Cathy Garcia-Molina</th>\n",
       "      <td>13</td>\n",
       "    </tr>\n",
       "    <tr>\n",
       "      <th>...</th>\n",
       "      <td>...</td>\n",
       "    </tr>\n",
       "    <tr>\n",
       "      <th>Jorge Blanco</th>\n",
       "      <td>1</td>\n",
       "    </tr>\n",
       "    <tr>\n",
       "      <th>Jorge Granier</th>\n",
       "      <td>1</td>\n",
       "    </tr>\n",
       "    <tr>\n",
       "      <th>Jorge Hernandez Aldana</th>\n",
       "      <td>1</td>\n",
       "    </tr>\n",
       "    <tr>\n",
       "      <th>Jorge M. Fontana</th>\n",
       "      <td>1</td>\n",
       "    </tr>\n",
       "    <tr>\n",
       "      <th>Kevin Pang</th>\n",
       "      <td>1</td>\n",
       "    </tr>\n",
       "  </tbody>\n",
       "</table>\n",
       "<p>4482 rows × 1 columns</p>\n",
       "</div>"
      ],
      "text/plain": [
       "                        Count\n",
       "Director                     \n",
       "Jan Suter                  21\n",
       "Raúl Campos                19\n",
       "Marcus Raboy               16\n",
       "Jay Karas                  15\n",
       "Cathy Garcia-Molina        13\n",
       "...                       ...\n",
       "Jorge Blanco                1\n",
       "Jorge Granier               1\n",
       "Jorge Hernandez Aldana      1\n",
       "Jorge M. Fontana            1\n",
       "Kevin Pang                  1\n",
       "\n",
       "[4482 rows x 1 columns]"
      ]
     },
     "execution_count": 41,
     "metadata": {},
     "output_type": "execute_result"
    }
   ],
   "source": [
    "director_production_count(df)"
   ]
  },
  {
   "cell_type": "markdown",
   "id": "2817b9a6-8f98-41d5-a503-53d17d6d7b75",
   "metadata": {},
   "source": [
    "### ___Creating new dataframe by using `director_production_count` function___"
   ]
  },
  {
   "cell_type": "code",
   "execution_count": 42,
   "id": "ed61cb7a-fcc5-4b17-bc05-4d46012ea0a4",
   "metadata": {},
   "outputs": [
    {
     "data": {
      "text/html": [
       "<div>\n",
       "<style scoped>\n",
       "    .dataframe tbody tr th:only-of-type {\n",
       "        vertical-align: middle;\n",
       "    }\n",
       "\n",
       "    .dataframe tbody tr th {\n",
       "        vertical-align: top;\n",
       "    }\n",
       "\n",
       "    .dataframe thead th {\n",
       "        text-align: right;\n",
       "    }\n",
       "</style>\n",
       "<table border=\"1\" class=\"dataframe\">\n",
       "  <thead>\n",
       "    <tr style=\"text-align: right;\">\n",
       "      <th></th>\n",
       "      <th>Count</th>\n",
       "    </tr>\n",
       "    <tr>\n",
       "      <th>Director</th>\n",
       "      <th></th>\n",
       "    </tr>\n",
       "  </thead>\n",
       "  <tbody>\n",
       "    <tr>\n",
       "      <th>Jan Suter</th>\n",
       "      <td>21</td>\n",
       "    </tr>\n",
       "    <tr>\n",
       "      <th>Raúl Campos</th>\n",
       "      <td>19</td>\n",
       "    </tr>\n",
       "    <tr>\n",
       "      <th>Marcus Raboy</th>\n",
       "      <td>16</td>\n",
       "    </tr>\n",
       "    <tr>\n",
       "      <th>Jay Karas</th>\n",
       "      <td>15</td>\n",
       "    </tr>\n",
       "    <tr>\n",
       "      <th>Cathy Garcia-Molina</th>\n",
       "      <td>13</td>\n",
       "    </tr>\n",
       "    <tr>\n",
       "      <th>Martin Scorsese</th>\n",
       "      <td>12</td>\n",
       "    </tr>\n",
       "    <tr>\n",
       "      <th>Jay Chapman</th>\n",
       "      <td>12</td>\n",
       "    </tr>\n",
       "    <tr>\n",
       "      <th>Youssef Chahine</th>\n",
       "      <td>12</td>\n",
       "    </tr>\n",
       "    <tr>\n",
       "      <th>Steven Spielberg</th>\n",
       "      <td>10</td>\n",
       "    </tr>\n",
       "    <tr>\n",
       "      <th>David Dhawan</th>\n",
       "      <td>9</td>\n",
       "    </tr>\n",
       "  </tbody>\n",
       "</table>\n",
       "</div>"
      ],
      "text/plain": [
       "                     Count\n",
       "Director                  \n",
       "Jan Suter               21\n",
       "Raúl Campos             19\n",
       "Marcus Raboy            16\n",
       "Jay Karas               15\n",
       "Cathy Garcia-Molina     13\n",
       "Martin Scorsese         12\n",
       "Jay Chapman             12\n",
       "Youssef Chahine         12\n",
       "Steven Spielberg        10\n",
       "David Dhawan             9"
      ]
     },
     "execution_count": 42,
     "metadata": {},
     "output_type": "execute_result"
    }
   ],
   "source": [
    "director_production_count = director_production_count(df)\n",
    "director_production_count.head(10)"
   ]
  },
  {
   "cell_type": "markdown",
   "id": "dc338d9d-8619-4ded-b6c8-f3fd2896aebe",
   "metadata": {},
   "source": [
    "### ___`Type` Analysis by showing number of each type(genre)___"
   ]
  },
  {
   "cell_type": "code",
   "execution_count": 43,
   "id": "272beebf-540c-4160-b679-cf2ccc465cf4",
   "metadata": {},
   "outputs": [],
   "source": [
    "def type_count(df):\n",
    "    # Creating new df by spliting genres in Type column\n",
    "    type_df = pd.DataFrame(df['Type'].apply(lambda x: str(x).split(',')).explode().str.strip()) \n",
    "    type_df = type_df.drop_duplicates() # to drop duplicate genres\n",
    "    type_df = type_df.merge(df['Type'], left_on = 'Type', right_on='Type', how = 'left') # merge \n",
    "    type_count = type_df.groupby('Type').size().reset_index(name = 'Count').set_index('Type')\n",
    "    return type_count.sort_values(by = 'Count', ascending = False)\n",
    "    \"\"\"\n",
    "    director_df.groupby('Director'): groups the DataFrame type_df by the 'Director' column. It creates a group for each unique type.\n",
    "    ----------------------------------------------------------------------------------\n",
    "    .size(): This method calculates the size (number of occurrences) of each group.\n",
    "    ----------------------------------------------------------------------------------\n",
    "    .reset_index(name='Count'): This part resets the index of the resulting DataFrame and gives a name ('Count') to the column that represents the size of each group. \n",
    "    ----------------------------------------------------------------------------------\n",
    "    .set_index('Director'): This code sets the 'Director' column as the new index of the DataFrame. \n",
    "    \"\"\""
   ]
  },
  {
   "cell_type": "code",
   "execution_count": 44,
   "id": "c23eff17-c296-4e5c-b0bc-643130a8f648",
   "metadata": {},
   "outputs": [
    {
     "data": {
      "text/html": [
       "<div>\n",
       "<style scoped>\n",
       "    .dataframe tbody tr th:only-of-type {\n",
       "        vertical-align: middle;\n",
       "    }\n",
       "\n",
       "    .dataframe tbody tr th {\n",
       "        vertical-align: top;\n",
       "    }\n",
       "\n",
       "    .dataframe thead th {\n",
       "        text-align: right;\n",
       "    }\n",
       "</style>\n",
       "<table border=\"1\" class=\"dataframe\">\n",
       "  <thead>\n",
       "    <tr style=\"text-align: right;\">\n",
       "      <th></th>\n",
       "      <th>Count</th>\n",
       "    </tr>\n",
       "    <tr>\n",
       "      <th>Type</th>\n",
       "      <th></th>\n",
       "    </tr>\n",
       "  </thead>\n",
       "  <tbody>\n",
       "    <tr>\n",
       "      <th>Documentaries</th>\n",
       "      <td>334</td>\n",
       "    </tr>\n",
       "    <tr>\n",
       "      <th>Stand-Up Comedy</th>\n",
       "      <td>321</td>\n",
       "    </tr>\n",
       "    <tr>\n",
       "      <th>Kids' TV</th>\n",
       "      <td>205</td>\n",
       "    </tr>\n",
       "    <tr>\n",
       "      <th>Children &amp; Family Movies</th>\n",
       "      <td>177</td>\n",
       "    </tr>\n",
       "    <tr>\n",
       "      <th>Dramas</th>\n",
       "      <td>117</td>\n",
       "    </tr>\n",
       "    <tr>\n",
       "      <th>Action &amp; Adventure</th>\n",
       "      <td>99</td>\n",
       "    </tr>\n",
       "    <tr>\n",
       "      <th>Comedies</th>\n",
       "      <td>97</td>\n",
       "    </tr>\n",
       "    <tr>\n",
       "      <th>Reality TV</th>\n",
       "      <td>83</td>\n",
       "    </tr>\n",
       "    <tr>\n",
       "      <th>Docuseries</th>\n",
       "      <td>74</td>\n",
       "    </tr>\n",
       "    <tr>\n",
       "      <th>TV Comedies</th>\n",
       "      <td>62</td>\n",
       "    </tr>\n",
       "    <tr>\n",
       "      <th>Movies</th>\n",
       "      <td>56</td>\n",
       "    </tr>\n",
       "    <tr>\n",
       "      <th>Thrillers</th>\n",
       "      <td>49</td>\n",
       "    </tr>\n",
       "    <tr>\n",
       "      <th>Horror Movies</th>\n",
       "      <td>43</td>\n",
       "    </tr>\n",
       "    <tr>\n",
       "      <th>TV Dramas</th>\n",
       "      <td>34</td>\n",
       "    </tr>\n",
       "    <tr>\n",
       "      <th>TV Shows</th>\n",
       "      <td>12</td>\n",
       "    </tr>\n",
       "    <tr>\n",
       "      <th>Music &amp; Musicals</th>\n",
       "      <td>10</td>\n",
       "    </tr>\n",
       "    <tr>\n",
       "      <th>Anime Series</th>\n",
       "      <td>8</td>\n",
       "    </tr>\n",
       "    <tr>\n",
       "      <th>Stand-Up Comedy &amp; Talk Shows</th>\n",
       "      <td>6</td>\n",
       "    </tr>\n",
       "    <tr>\n",
       "      <th>International Movies</th>\n",
       "      <td>3</td>\n",
       "    </tr>\n",
       "    <tr>\n",
       "      <th>Romantic Movies</th>\n",
       "      <td>3</td>\n",
       "    </tr>\n",
       "    <tr>\n",
       "      <th>International TV Shows</th>\n",
       "      <td>2</td>\n",
       "    </tr>\n",
       "    <tr>\n",
       "      <th>Anime Features</th>\n",
       "      <td>2</td>\n",
       "    </tr>\n",
       "    <tr>\n",
       "      <th>TV Sci-Fi &amp; Fantasy</th>\n",
       "      <td>1</td>\n",
       "    </tr>\n",
       "    <tr>\n",
       "      <th>British TV Shows</th>\n",
       "      <td>1</td>\n",
       "    </tr>\n",
       "    <tr>\n",
       "      <th>TV Horror</th>\n",
       "      <td>1</td>\n",
       "    </tr>\n",
       "    <tr>\n",
       "      <th>TV Thrillers</th>\n",
       "      <td>1</td>\n",
       "    </tr>\n",
       "    <tr>\n",
       "      <th>Teen TV Shows</th>\n",
       "      <td>1</td>\n",
       "    </tr>\n",
       "    <tr>\n",
       "      <th>TV Action &amp; Adventure</th>\n",
       "      <td>1</td>\n",
       "    </tr>\n",
       "    <tr>\n",
       "      <th>TV Mysteries</th>\n",
       "      <td>1</td>\n",
       "    </tr>\n",
       "    <tr>\n",
       "      <th>Cult Movies</th>\n",
       "      <td>1</td>\n",
       "    </tr>\n",
       "    <tr>\n",
       "      <th>Sports Movies</th>\n",
       "      <td>1</td>\n",
       "    </tr>\n",
       "    <tr>\n",
       "      <th>Spanish-Language TV Shows</th>\n",
       "      <td>1</td>\n",
       "    </tr>\n",
       "    <tr>\n",
       "      <th>Science &amp; Nature TV</th>\n",
       "      <td>1</td>\n",
       "    </tr>\n",
       "    <tr>\n",
       "      <th>Crime TV Shows</th>\n",
       "      <td>1</td>\n",
       "    </tr>\n",
       "    <tr>\n",
       "      <th>Romantic TV Shows</th>\n",
       "      <td>1</td>\n",
       "    </tr>\n",
       "    <tr>\n",
       "      <th>Classic &amp; Cult TV</th>\n",
       "      <td>1</td>\n",
       "    </tr>\n",
       "    <tr>\n",
       "      <th>LGBTQ Movies</th>\n",
       "      <td>1</td>\n",
       "    </tr>\n",
       "    <tr>\n",
       "      <th>Korean TV Shows</th>\n",
       "      <td>1</td>\n",
       "    </tr>\n",
       "    <tr>\n",
       "      <th>Classic Movies</th>\n",
       "      <td>1</td>\n",
       "    </tr>\n",
       "    <tr>\n",
       "      <th>Independent Movies</th>\n",
       "      <td>1</td>\n",
       "    </tr>\n",
       "    <tr>\n",
       "      <th>Faith &amp; Spirituality</th>\n",
       "      <td>1</td>\n",
       "    </tr>\n",
       "    <tr>\n",
       "      <th>Sci-Fi &amp; Fantasy</th>\n",
       "      <td>1</td>\n",
       "    </tr>\n",
       "  </tbody>\n",
       "</table>\n",
       "</div>"
      ],
      "text/plain": [
       "                              Count\n",
       "Type                               \n",
       "Documentaries                   334\n",
       "Stand-Up Comedy                 321\n",
       "Kids' TV                        205\n",
       "Children & Family Movies        177\n",
       "Dramas                          117\n",
       "Action & Adventure               99\n",
       "Comedies                         97\n",
       "Reality TV                       83\n",
       "Docuseries                       74\n",
       "TV Comedies                      62\n",
       "Movies                           56\n",
       "Thrillers                        49\n",
       "Horror Movies                    43\n",
       "TV Dramas                        34\n",
       "TV Shows                         12\n",
       "Music & Musicals                 10\n",
       "Anime Series                      8\n",
       "Stand-Up Comedy & Talk Shows      6\n",
       "International Movies              3\n",
       "Romantic Movies                   3\n",
       "International TV Shows            2\n",
       "Anime Features                    2\n",
       "TV Sci-Fi & Fantasy               1\n",
       "British TV Shows                  1\n",
       "TV Horror                         1\n",
       "TV Thrillers                      1\n",
       "Teen TV Shows                     1\n",
       "TV Action & Adventure             1\n",
       "TV Mysteries                      1\n",
       "Cult Movies                       1\n",
       "Sports Movies                     1\n",
       "Spanish-Language TV Shows         1\n",
       "Science & Nature TV               1\n",
       "Crime TV Shows                    1\n",
       "Romantic TV Shows                 1\n",
       "Classic & Cult TV                 1\n",
       "LGBTQ Movies                      1\n",
       "Korean TV Shows                   1\n",
       "Classic Movies                    1\n",
       "Independent Movies                1\n",
       "Faith & Spirituality              1\n",
       "Sci-Fi & Fantasy                  1"
      ]
     },
     "execution_count": 44,
     "metadata": {},
     "output_type": "execute_result"
    }
   ],
   "source": [
    "type_count(df)"
   ]
  },
  {
   "cell_type": "markdown",
   "id": "2bac22d2-a8a3-46a7-bfdc-1d849579225c",
   "metadata": {},
   "source": [
    "### ___Creating new dataframe by using `type_count` function___"
   ]
  },
  {
   "cell_type": "code",
   "execution_count": 45,
   "id": "8bc72885-abeb-4431-b157-1493b876aad3",
   "metadata": {},
   "outputs": [
    {
     "data": {
      "text/html": [
       "<div>\n",
       "<style scoped>\n",
       "    .dataframe tbody tr th:only-of-type {\n",
       "        vertical-align: middle;\n",
       "    }\n",
       "\n",
       "    .dataframe tbody tr th {\n",
       "        vertical-align: top;\n",
       "    }\n",
       "\n",
       "    .dataframe thead th {\n",
       "        text-align: right;\n",
       "    }\n",
       "</style>\n",
       "<table border=\"1\" class=\"dataframe\">\n",
       "  <thead>\n",
       "    <tr style=\"text-align: right;\">\n",
       "      <th></th>\n",
       "      <th>Count</th>\n",
       "    </tr>\n",
       "    <tr>\n",
       "      <th>Type</th>\n",
       "      <th></th>\n",
       "    </tr>\n",
       "  </thead>\n",
       "  <tbody>\n",
       "    <tr>\n",
       "      <th>Documentaries</th>\n",
       "      <td>334</td>\n",
       "    </tr>\n",
       "    <tr>\n",
       "      <th>Stand-Up Comedy</th>\n",
       "      <td>321</td>\n",
       "    </tr>\n",
       "    <tr>\n",
       "      <th>Kids' TV</th>\n",
       "      <td>205</td>\n",
       "    </tr>\n",
       "    <tr>\n",
       "      <th>Children &amp; Family Movies</th>\n",
       "      <td>177</td>\n",
       "    </tr>\n",
       "    <tr>\n",
       "      <th>Dramas</th>\n",
       "      <td>117</td>\n",
       "    </tr>\n",
       "    <tr>\n",
       "      <th>Action &amp; Adventure</th>\n",
       "      <td>99</td>\n",
       "    </tr>\n",
       "    <tr>\n",
       "      <th>Comedies</th>\n",
       "      <td>97</td>\n",
       "    </tr>\n",
       "    <tr>\n",
       "      <th>Reality TV</th>\n",
       "      <td>83</td>\n",
       "    </tr>\n",
       "    <tr>\n",
       "      <th>Docuseries</th>\n",
       "      <td>74</td>\n",
       "    </tr>\n",
       "    <tr>\n",
       "      <th>TV Comedies</th>\n",
       "      <td>62</td>\n",
       "    </tr>\n",
       "  </tbody>\n",
       "</table>\n",
       "</div>"
      ],
      "text/plain": [
       "                          Count\n",
       "Type                           \n",
       "Documentaries               334\n",
       "Stand-Up Comedy             321\n",
       "Kids' TV                    205\n",
       "Children & Family Movies    177\n",
       "Dramas                      117\n",
       "Action & Adventure           99\n",
       "Comedies                     97\n",
       "Reality TV                   83\n",
       "Docuseries                   74\n",
       "TV Comedies                  62"
      ]
     },
     "execution_count": 45,
     "metadata": {},
     "output_type": "execute_result"
    }
   ],
   "source": [
    "type_count = type_count(df)\n",
    "type_count.head(10)"
   ]
  },
  {
   "cell_type": "markdown",
   "id": "5f8d7866-7d66-466f-a845-5c59caed50e4",
   "metadata": {},
   "source": [
    "### ___Seperating Movies & TV Shows___"
   ]
  },
  {
   "cell_type": "code",
   "execution_count": 46,
   "id": "8cd077bd-668d-4fb2-9786-6327a6b79e61",
   "metadata": {},
   "outputs": [
    {
     "data": {
      "text/html": [
       "<div>\n",
       "<style scoped>\n",
       "    .dataframe tbody tr th:only-of-type {\n",
       "        vertical-align: middle;\n",
       "    }\n",
       "\n",
       "    .dataframe tbody tr th {\n",
       "        vertical-align: top;\n",
       "    }\n",
       "\n",
       "    .dataframe thead th {\n",
       "        text-align: right;\n",
       "    }\n",
       "</style>\n",
       "<table border=\"1\" class=\"dataframe\">\n",
       "  <thead>\n",
       "    <tr style=\"text-align: right;\">\n",
       "      <th></th>\n",
       "      <th>Show_Id</th>\n",
       "      <th>Category</th>\n",
       "      <th>Title</th>\n",
       "      <th>Director</th>\n",
       "      <th>Cast</th>\n",
       "      <th>Country</th>\n",
       "      <th>Release_Date</th>\n",
       "      <th>Rating</th>\n",
       "      <th>Duration</th>\n",
       "      <th>Type</th>\n",
       "      <th>Description</th>\n",
       "      <th>Release_Year</th>\n",
       "    </tr>\n",
       "  </thead>\n",
       "  <tbody>\n",
       "    <tr>\n",
       "      <th>1</th>\n",
       "      <td>s2</td>\n",
       "      <td>Movie</td>\n",
       "      <td>07:19</td>\n",
       "      <td>Jorge Michel Grau</td>\n",
       "      <td>Demián Bichir, Héctor Bonilla, Oscar Serrano, ...</td>\n",
       "      <td>Mexico</td>\n",
       "      <td>2016-12-23</td>\n",
       "      <td>TV-MA</td>\n",
       "      <td>93 min</td>\n",
       "      <td>Dramas, International Movies</td>\n",
       "      <td>After a devastating earthquake hits Mexico Cit...</td>\n",
       "      <td>2016</td>\n",
       "    </tr>\n",
       "    <tr>\n",
       "      <th>2</th>\n",
       "      <td>s3</td>\n",
       "      <td>Movie</td>\n",
       "      <td>23:59</td>\n",
       "      <td>Gilbert Chan</td>\n",
       "      <td>Tedd Chan, Stella Chung, Henley Hii, Lawrence ...</td>\n",
       "      <td>Singapore</td>\n",
       "      <td>2018-12-20</td>\n",
       "      <td>R</td>\n",
       "      <td>78 min</td>\n",
       "      <td>Horror Movies, International Movies</td>\n",
       "      <td>When an army recruit is found dead, his fellow...</td>\n",
       "      <td>2018</td>\n",
       "    </tr>\n",
       "    <tr>\n",
       "      <th>3</th>\n",
       "      <td>s4</td>\n",
       "      <td>Movie</td>\n",
       "      <td>9</td>\n",
       "      <td>Shane Acker</td>\n",
       "      <td>Elijah Wood, John C. Reilly, Jennifer Connelly...</td>\n",
       "      <td>United States</td>\n",
       "      <td>2017-11-16</td>\n",
       "      <td>PG-13</td>\n",
       "      <td>80 min</td>\n",
       "      <td>Action &amp; Adventure, Independent Movies, Sci-Fi...</td>\n",
       "      <td>In a postapocalyptic world, rag-doll robots hi...</td>\n",
       "      <td>2017</td>\n",
       "    </tr>\n",
       "    <tr>\n",
       "      <th>4</th>\n",
       "      <td>s5</td>\n",
       "      <td>Movie</td>\n",
       "      <td>21</td>\n",
       "      <td>Robert Luketic</td>\n",
       "      <td>Jim Sturgess, Kevin Spacey, Kate Bosworth, Aar...</td>\n",
       "      <td>United States</td>\n",
       "      <td>2020-01-01</td>\n",
       "      <td>PG-13</td>\n",
       "      <td>123 min</td>\n",
       "      <td>Dramas</td>\n",
       "      <td>A brilliant group of students become card-coun...</td>\n",
       "      <td>2020</td>\n",
       "    </tr>\n",
       "    <tr>\n",
       "      <th>6</th>\n",
       "      <td>s7</td>\n",
       "      <td>Movie</td>\n",
       "      <td>122</td>\n",
       "      <td>Yasir Al Yasiri</td>\n",
       "      <td>Amina Khalil, Ahmed Dawood, Tarek Lotfy, Ahmed...</td>\n",
       "      <td>Egypt</td>\n",
       "      <td>2020-06-01</td>\n",
       "      <td>TV-MA</td>\n",
       "      <td>95 min</td>\n",
       "      <td>Horror Movies, International Movies</td>\n",
       "      <td>After an awful accident, a couple admitted to ...</td>\n",
       "      <td>2020</td>\n",
       "    </tr>\n",
       "  </tbody>\n",
       "</table>\n",
       "</div>"
      ],
      "text/plain": [
       "  Show_Id Category  Title           Director  \\\n",
       "1      s2    Movie  07:19  Jorge Michel Grau   \n",
       "2      s3    Movie  23:59       Gilbert Chan   \n",
       "3      s4    Movie      9        Shane Acker   \n",
       "4      s5    Movie     21     Robert Luketic   \n",
       "6      s7    Movie    122    Yasir Al Yasiri   \n",
       "\n",
       "                                                Cast        Country  \\\n",
       "1  Demián Bichir, Héctor Bonilla, Oscar Serrano, ...         Mexico   \n",
       "2  Tedd Chan, Stella Chung, Henley Hii, Lawrence ...      Singapore   \n",
       "3  Elijah Wood, John C. Reilly, Jennifer Connelly...  United States   \n",
       "4  Jim Sturgess, Kevin Spacey, Kate Bosworth, Aar...  United States   \n",
       "6  Amina Khalil, Ahmed Dawood, Tarek Lotfy, Ahmed...          Egypt   \n",
       "\n",
       "  Release_Date Rating Duration  \\\n",
       "1   2016-12-23  TV-MA   93 min   \n",
       "2   2018-12-20      R   78 min   \n",
       "3   2017-11-16  PG-13   80 min   \n",
       "4   2020-01-01  PG-13  123 min   \n",
       "6   2020-06-01  TV-MA   95 min   \n",
       "\n",
       "                                                Type  \\\n",
       "1                       Dramas, International Movies   \n",
       "2                Horror Movies, International Movies   \n",
       "3  Action & Adventure, Independent Movies, Sci-Fi...   \n",
       "4                                             Dramas   \n",
       "6                Horror Movies, International Movies   \n",
       "\n",
       "                                         Description  Release_Year  \n",
       "1  After a devastating earthquake hits Mexico Cit...          2016  \n",
       "2  When an army recruit is found dead, his fellow...          2018  \n",
       "3  In a postapocalyptic world, rag-doll robots hi...          2017  \n",
       "4  A brilliant group of students become card-coun...          2020  \n",
       "6  After an awful accident, a couple admitted to ...          2020  "
      ]
     },
     "execution_count": 46,
     "metadata": {},
     "output_type": "execute_result"
    }
   ],
   "source": [
    "movies = df[(df['Category'] == 'Movie')] # filtering by category\n",
    "movies.reset_index(drop=-1) # dropping original index to set new index \n",
    "movies.head() # show head of movies dataframe"
   ]
  },
  {
   "cell_type": "code",
   "execution_count": 47,
   "id": "2c1356f5-0ce0-4a96-8893-a8d36ca93625",
   "metadata": {},
   "outputs": [
    {
     "name": "stdout",
     "output_type": "stream",
     "text": [
      "<class 'pandas.core.frame.DataFrame'>\n",
      "Index: 5377 entries, 1 to 7788\n",
      "Data columns (total 12 columns):\n",
      " #   Column        Non-Null Count  Dtype         \n",
      "---  ------        --------------  -----         \n",
      " 0   Show_Id       5377 non-null   object        \n",
      " 1   Category      5377 non-null   object        \n",
      " 2   Title         5377 non-null   object        \n",
      " 3   Director      5377 non-null   object        \n",
      " 4   Cast          5377 non-null   object        \n",
      " 5   Country       5377 non-null   object        \n",
      " 6   Release_Date  5377 non-null   datetime64[ns]\n",
      " 7   Rating        5377 non-null   object        \n",
      " 8   Duration      5377 non-null   object        \n",
      " 9   Type          5377 non-null   object        \n",
      " 10  Description   5377 non-null   object        \n",
      " 11  Release_Year  5377 non-null   int32         \n",
      "dtypes: datetime64[ns](1), int32(1), object(10)\n",
      "memory usage: 525.1+ KB\n"
     ]
    }
   ],
   "source": [
    "movies.info()"
   ]
  },
  {
   "cell_type": "code",
   "execution_count": 48,
   "id": "c4f0cbde-144a-40bc-af4f-d78198bc8e44",
   "metadata": {},
   "outputs": [
    {
     "data": {
      "text/plain": [
       "(5377, 12)"
      ]
     },
     "execution_count": 48,
     "metadata": {},
     "output_type": "execute_result"
    }
   ],
   "source": [
    "movies.shape"
   ]
  },
  {
   "cell_type": "markdown",
   "id": "702e808f-c15a-4728-9634-56c68af51eed",
   "metadata": {},
   "source": [
    "#### __Series__"
   ]
  },
  {
   "cell_type": "code",
   "execution_count": 49,
   "id": "d36b4349-3784-47da-9b93-dc1532c14981",
   "metadata": {},
   "outputs": [
    {
     "data": {
      "text/html": [
       "<div>\n",
       "<style scoped>\n",
       "    .dataframe tbody tr th:only-of-type {\n",
       "        vertical-align: middle;\n",
       "    }\n",
       "\n",
       "    .dataframe tbody tr th {\n",
       "        vertical-align: top;\n",
       "    }\n",
       "\n",
       "    .dataframe thead th {\n",
       "        text-align: right;\n",
       "    }\n",
       "</style>\n",
       "<table border=\"1\" class=\"dataframe\">\n",
       "  <thead>\n",
       "    <tr style=\"text-align: right;\">\n",
       "      <th></th>\n",
       "      <th>Show_Id</th>\n",
       "      <th>Category</th>\n",
       "      <th>Title</th>\n",
       "      <th>Director</th>\n",
       "      <th>Cast</th>\n",
       "      <th>Country</th>\n",
       "      <th>Release_Date</th>\n",
       "      <th>Rating</th>\n",
       "      <th>Duration</th>\n",
       "      <th>Type</th>\n",
       "      <th>Description</th>\n",
       "      <th>Release_Year</th>\n",
       "    </tr>\n",
       "  </thead>\n",
       "  <tbody>\n",
       "    <tr>\n",
       "      <th>0</th>\n",
       "      <td>s1</td>\n",
       "      <td>TV Show</td>\n",
       "      <td>3%</td>\n",
       "      <td>Unknown</td>\n",
       "      <td>João Miguel, Bianca Comparato, Michel Gomes, R...</td>\n",
       "      <td>Brazil</td>\n",
       "      <td>2020-08-14</td>\n",
       "      <td>TV-MA</td>\n",
       "      <td>4 Seasons</td>\n",
       "      <td>International TV Shows, TV Dramas, TV Sci-Fi &amp;...</td>\n",
       "      <td>In a future where the elite inhabit an island ...</td>\n",
       "      <td>2020</td>\n",
       "    </tr>\n",
       "    <tr>\n",
       "      <th>5</th>\n",
       "      <td>s6</td>\n",
       "      <td>TV Show</td>\n",
       "      <td>46</td>\n",
       "      <td>Serdar Akar</td>\n",
       "      <td>Erdal Beşikçioğlu, Yasemin Allen, Melis Birkan...</td>\n",
       "      <td>Turkey</td>\n",
       "      <td>2017-07-01</td>\n",
       "      <td>TV-MA</td>\n",
       "      <td>1 Season</td>\n",
       "      <td>International TV Shows, TV Dramas, TV Mysteries</td>\n",
       "      <td>A genetics professor experiments with a treatm...</td>\n",
       "      <td>2017</td>\n",
       "    </tr>\n",
       "    <tr>\n",
       "      <th>11</th>\n",
       "      <td>s12</td>\n",
       "      <td>TV Show</td>\n",
       "      <td>1983</td>\n",
       "      <td>Unknown</td>\n",
       "      <td>Robert Więckiewicz, Maciej Musiał, Michalina O...</td>\n",
       "      <td>Poland, United States</td>\n",
       "      <td>2018-11-30</td>\n",
       "      <td>TV-MA</td>\n",
       "      <td>1 Season</td>\n",
       "      <td>Crime TV Shows, International TV Shows, TV Dramas</td>\n",
       "      <td>In this dark alt-history thriller, a naïve law...</td>\n",
       "      <td>2018</td>\n",
       "    </tr>\n",
       "    <tr>\n",
       "      <th>12</th>\n",
       "      <td>s13</td>\n",
       "      <td>TV Show</td>\n",
       "      <td>1994</td>\n",
       "      <td>Diego Enrique Osorno</td>\n",
       "      <td>Unknown</td>\n",
       "      <td>Mexico</td>\n",
       "      <td>2019-05-17</td>\n",
       "      <td>TV-MA</td>\n",
       "      <td>1 Season</td>\n",
       "      <td>Crime TV Shows, Docuseries, International TV S...</td>\n",
       "      <td>Archival video and new interviews examine Mexi...</td>\n",
       "      <td>2019</td>\n",
       "    </tr>\n",
       "    <tr>\n",
       "      <th>16</th>\n",
       "      <td>s17</td>\n",
       "      <td>TV Show</td>\n",
       "      <td>Feb-09</td>\n",
       "      <td>Unknown</td>\n",
       "      <td>Shahd El Yaseen, Shaila Sabt, Hala, Hanadi Al-...</td>\n",
       "      <td>Unknown</td>\n",
       "      <td>2019-03-20</td>\n",
       "      <td>TV-14</td>\n",
       "      <td>1 Season</td>\n",
       "      <td>International TV Shows, TV Dramas</td>\n",
       "      <td>As a psychology professor faces Alzheimer's, h...</td>\n",
       "      <td>2019</td>\n",
       "    </tr>\n",
       "  </tbody>\n",
       "</table>\n",
       "</div>"
      ],
      "text/plain": [
       "   Show_Id Category   Title              Director  \\\n",
       "0       s1  TV Show      3%               Unknown   \n",
       "5       s6  TV Show      46           Serdar Akar   \n",
       "11     s12  TV Show    1983               Unknown   \n",
       "12     s13  TV Show    1994  Diego Enrique Osorno   \n",
       "16     s17  TV Show  Feb-09               Unknown   \n",
       "\n",
       "                                                 Cast                Country  \\\n",
       "0   João Miguel, Bianca Comparato, Michel Gomes, R...                 Brazil   \n",
       "5   Erdal Beşikçioğlu, Yasemin Allen, Melis Birkan...                 Turkey   \n",
       "11  Robert Więckiewicz, Maciej Musiał, Michalina O...  Poland, United States   \n",
       "12                                            Unknown                 Mexico   \n",
       "16  Shahd El Yaseen, Shaila Sabt, Hala, Hanadi Al-...                Unknown   \n",
       "\n",
       "   Release_Date Rating   Duration  \\\n",
       "0    2020-08-14  TV-MA  4 Seasons   \n",
       "5    2017-07-01  TV-MA   1 Season   \n",
       "11   2018-11-30  TV-MA   1 Season   \n",
       "12   2019-05-17  TV-MA   1 Season   \n",
       "16   2019-03-20  TV-14   1 Season   \n",
       "\n",
       "                                                 Type  \\\n",
       "0   International TV Shows, TV Dramas, TV Sci-Fi &...   \n",
       "5     International TV Shows, TV Dramas, TV Mysteries   \n",
       "11  Crime TV Shows, International TV Shows, TV Dramas   \n",
       "12  Crime TV Shows, Docuseries, International TV S...   \n",
       "16                  International TV Shows, TV Dramas   \n",
       "\n",
       "                                          Description  Release_Year  \n",
       "0   In a future where the elite inhabit an island ...          2020  \n",
       "5   A genetics professor experiments with a treatm...          2017  \n",
       "11  In this dark alt-history thriller, a naïve law...          2018  \n",
       "12  Archival video and new interviews examine Mexi...          2019  \n",
       "16  As a psychology professor faces Alzheimer's, h...          2019  "
      ]
     },
     "execution_count": 49,
     "metadata": {},
     "output_type": "execute_result"
    }
   ],
   "source": [
    "series = df[(df['Category'] == 'TV Show')]\n",
    "series.reset_index(drop = -1)\n",
    "series.head()"
   ]
  },
  {
   "cell_type": "code",
   "execution_count": 50,
   "id": "65149f3c-8fc2-4dad-989e-0060710ea750",
   "metadata": {},
   "outputs": [
    {
     "name": "stdout",
     "output_type": "stream",
     "text": [
      "<class 'pandas.core.frame.DataFrame'>\n",
      "Index: 2410 entries, 0 to 7787\n",
      "Data columns (total 12 columns):\n",
      " #   Column        Non-Null Count  Dtype         \n",
      "---  ------        --------------  -----         \n",
      " 0   Show_Id       2410 non-null   object        \n",
      " 1   Category      2410 non-null   object        \n",
      " 2   Title         2410 non-null   object        \n",
      " 3   Director      2410 non-null   object        \n",
      " 4   Cast          2410 non-null   object        \n",
      " 5   Country       2410 non-null   object        \n",
      " 6   Release_Date  2410 non-null   datetime64[ns]\n",
      " 7   Rating        2410 non-null   object        \n",
      " 8   Duration      2410 non-null   object        \n",
      " 9   Type          2410 non-null   object        \n",
      " 10  Description   2410 non-null   object        \n",
      " 11  Release_Year  2410 non-null   int32         \n",
      "dtypes: datetime64[ns](1), int32(1), object(10)\n",
      "memory usage: 235.4+ KB\n"
     ]
    }
   ],
   "source": [
    "series.info()"
   ]
  },
  {
   "cell_type": "code",
   "execution_count": 51,
   "id": "9f17a7bc-74c5-4bd1-b7f8-0f965b034a81",
   "metadata": {},
   "outputs": [
    {
     "data": {
      "text/plain": [
       "(2410, 12)"
      ]
     },
     "execution_count": 51,
     "metadata": {},
     "output_type": "execute_result"
    }
   ],
   "source": [
    "series.shape"
   ]
  },
  {
   "cell_type": "markdown",
   "id": "df277261-2507-4817-b648-64ecd4dedf6f",
   "metadata": {},
   "source": [
    "# Visualization"
   ]
  },
  {
   "cell_type": "markdown",
   "id": "9bb6198c-e20a-4b52-bf4c-782c2ab0594e",
   "metadata": {},
   "source": [
    "### ___Number of Movies/Series Per Year___"
   ]
  },
  {
   "cell_type": "code",
   "execution_count": 52,
   "id": "65a3a535-a1e3-4bd3-bc1c-5f3fe6bfd13f",
   "metadata": {},
   "outputs": [],
   "source": [
    "show_per_year = df.groupby(df['Release_Date'].dt.year).agg({'Show_Id': 'count'}).sort_values(by = 'Show_Id', ascending=False)"
   ]
  },
  {
   "cell_type": "code",
   "execution_count": 53,
   "id": "58a626df-696b-42b5-89f9-08d3a4517a33",
   "metadata": {},
   "outputs": [
    {
     "data": {
      "text/html": [
       "<div>\n",
       "<style scoped>\n",
       "    .dataframe tbody tr th:only-of-type {\n",
       "        vertical-align: middle;\n",
       "    }\n",
       "\n",
       "    .dataframe tbody tr th {\n",
       "        vertical-align: top;\n",
       "    }\n",
       "\n",
       "    .dataframe thead th {\n",
       "        text-align: right;\n",
       "    }\n",
       "</style>\n",
       "<table border=\"1\" class=\"dataframe\">\n",
       "  <thead>\n",
       "    <tr style=\"text-align: right;\">\n",
       "      <th></th>\n",
       "      <th>Show_Id</th>\n",
       "    </tr>\n",
       "    <tr>\n",
       "      <th>Release_Date</th>\n",
       "      <th></th>\n",
       "    </tr>\n",
       "  </thead>\n",
       "  <tbody>\n",
       "    <tr>\n",
       "      <th>2019</th>\n",
       "      <td>2153</td>\n",
       "    </tr>\n",
       "    <tr>\n",
       "      <th>2020</th>\n",
       "      <td>2019</td>\n",
       "    </tr>\n",
       "    <tr>\n",
       "      <th>2018</th>\n",
       "      <td>1685</td>\n",
       "    </tr>\n",
       "    <tr>\n",
       "      <th>2017</th>\n",
       "      <td>1225</td>\n",
       "    </tr>\n",
       "    <tr>\n",
       "      <th>2016</th>\n",
       "      <td>443</td>\n",
       "    </tr>\n",
       "    <tr>\n",
       "      <th>2021</th>\n",
       "      <td>117</td>\n",
       "    </tr>\n",
       "    <tr>\n",
       "      <th>2015</th>\n",
       "      <td>88</td>\n",
       "    </tr>\n",
       "    <tr>\n",
       "      <th>2014</th>\n",
       "      <td>25</td>\n",
       "    </tr>\n",
       "    <tr>\n",
       "      <th>2011</th>\n",
       "      <td>13</td>\n",
       "    </tr>\n",
       "    <tr>\n",
       "      <th>2013</th>\n",
       "      <td>11</td>\n",
       "    </tr>\n",
       "    <tr>\n",
       "      <th>2012</th>\n",
       "      <td>3</td>\n",
       "    </tr>\n",
       "    <tr>\n",
       "      <th>2008</th>\n",
       "      <td>2</td>\n",
       "    </tr>\n",
       "    <tr>\n",
       "      <th>2009</th>\n",
       "      <td>2</td>\n",
       "    </tr>\n",
       "    <tr>\n",
       "      <th>2010</th>\n",
       "      <td>1</td>\n",
       "    </tr>\n",
       "  </tbody>\n",
       "</table>\n",
       "</div>"
      ],
      "text/plain": [
       "              Show_Id\n",
       "Release_Date         \n",
       "2019             2153\n",
       "2020             2019\n",
       "2018             1685\n",
       "2017             1225\n",
       "2016              443\n",
       "2021              117\n",
       "2015               88\n",
       "2014               25\n",
       "2011               13\n",
       "2013               11\n",
       "2012                3\n",
       "2008                2\n",
       "2009                2\n",
       "2010                1"
      ]
     },
     "execution_count": 53,
     "metadata": {},
     "output_type": "execute_result"
    }
   ],
   "source": [
    "show_per_year"
   ]
  },
  {
   "cell_type": "code",
   "execution_count": 54,
   "id": "5696ca5d-7013-4015-af53-29df7aadc87a",
   "metadata": {},
   "outputs": [
    {
     "data": {
      "image/png": "[encoded data removed]",
      "text/plain": [
       "<Figure size 1200x800 with 1 Axes>"
      ]
     },
     "metadata": {},
     "output_type": "display_data"
    }
   ],
   "source": [
    "show_per_year.plot(kind = 'bar', figsize=(12, 8))\n",
    "plt.title(\"Movies/Series Produced Per Year\")\n",
    "plt.xlabel(\"Year\")\n",
    "plt.ylabel(\"Number\")\n",
    "plt.show()"
   ]
  },
  {
   "cell_type": "code",
   "execution_count": 55,
   "id": "8047d567-ff18-4a79-8433-e7bf4c181438",
   "metadata": {},
   "outputs": [],
   "source": [
    "# Another way to show number of Movies/Series produced per year:\n",
    "# df['Release_Date'].dt.year.value_counts().to_frame()"
   ]
  },
  {
   "cell_type": "markdown",
   "id": "2b5319ab-147f-4620-bbba-f60ea62104d9",
   "metadata": {},
   "source": [
    "### ___Number of Movies/Series in dataframe___"
   ]
  },
  {
   "cell_type": "code",
   "execution_count": 56,
   "id": "ae72372f-79ee-420e-b708-6d3dac69b537",
   "metadata": {},
   "outputs": [
    {
     "data": {
      "text/html": [
       "<div>\n",
       "<style scoped>\n",
       "    .dataframe tbody tr th:only-of-type {\n",
       "        vertical-align: middle;\n",
       "    }\n",
       "\n",
       "    .dataframe tbody tr th {\n",
       "        vertical-align: top;\n",
       "    }\n",
       "\n",
       "    .dataframe thead th {\n",
       "        text-align: right;\n",
       "    }\n",
       "</style>\n",
       "<table border=\"1\" class=\"dataframe\">\n",
       "  <thead>\n",
       "    <tr style=\"text-align: right;\">\n",
       "      <th></th>\n",
       "      <th>Category</th>\n",
       "    </tr>\n",
       "    <tr>\n",
       "      <th>Category</th>\n",
       "      <th></th>\n",
       "    </tr>\n",
       "  </thead>\n",
       "  <tbody>\n",
       "    <tr>\n",
       "      <th>Movie</th>\n",
       "      <td>5377</td>\n",
       "    </tr>\n",
       "    <tr>\n",
       "      <th>TV Show</th>\n",
       "      <td>2410</td>\n",
       "    </tr>\n",
       "  </tbody>\n",
       "</table>\n",
       "</div>"
      ],
      "text/plain": [
       "          Category\n",
       "Category          \n",
       "Movie         5377\n",
       "TV Show       2410"
      ]
     },
     "execution_count": 56,
     "metadata": {},
     "output_type": "execute_result"
    }
   ],
   "source": [
    "df.groupby('Category')['Category'].count().to_frame()"
   ]
  },
  {
   "cell_type": "code",
   "execution_count": 57,
   "id": "6aa219c6-467b-480e-a88a-69c5307ad785",
   "metadata": {},
   "outputs": [
    {
     "data": {
      "image/png": "[encoded data removed]",
      "text/plain": [
       "<Figure size 1200x800 with 1 Axes>"
      ]
     },
     "metadata": {},
     "output_type": "display_data"
    }
   ],
   "source": [
    "plt.figure(figsize=(12, 8))\n",
    "sns.countplot(x=df['Category'], palette='Set2')\n",
    "plt.title('Number of Series/Movies in Dataset', fontsize = 20)\n",
    "plt.xlabel(\"Movie/Serie\", fontsize = 15)\n",
    "plt.ylabel(\"Count\", fontsize = 15)\n",
    "plt.show()"
   ]
  },
  {
   "cell_type": "markdown",
   "id": "3e512d00-33f5-476b-aef9-6edf10ca171a",
   "metadata": {},
   "source": [
    "### Top 10 types (Genre) based on `type_count`"
   ]
  },
  {
   "cell_type": "code",
   "execution_count": 58,
   "id": "e02a4f3d-3b6f-4c34-b317-c2d2b04e1103",
   "metadata": {},
   "outputs": [
    {
     "data": {
      "text/plain": [
       "<Figure size 1200x1200 with 0 Axes>"
      ]
     },
     "metadata": {},
     "output_type": "display_data"
    },
    {
     "data": {
      "image/png": "[encoded data removed]",
      "text/plain": [
       "<Figure size 640x480 with 1 Axes>"
      ]
     },
     "metadata": {},
     "output_type": "display_data"
    }
   ],
   "source": [
    "plt.figure(figsize = (12, 12))\n",
    "type_count.head(10).plot(kind = 'bar')\n",
    "plt.title(\"Number of Genres\", fontsize = 15)\n",
    "plt.xlabel(\"Types (Genres)\", fontsize = 10)\n",
    "plt.ylabel(\"Frequency\", fontsize = 10)\n",
    "plt.show()"
   ]
  },
  {
   "cell_type": "markdown",
   "id": "ef3548f0-0f20-42e9-ae46-281739a5332f",
   "metadata": {},
   "source": [
    "### Top 10 Directors based on `director_production_count`"
   ]
  },
  {
   "cell_type": "code",
   "execution_count": 82,
   "id": "ac3e8636-d8b0-4dec-821f-d3935d648d54",
   "metadata": {},
   "outputs": [
    {
     "data": {
      "text/plain": [
       "<Figure size 1600x1200 with 0 Axes>"
      ]
     },
     "metadata": {},
     "output_type": "display_data"
    },
    {
     "data": {
      "image/png": "[encoded data removed]",
      "text/plain": [
       "<Figure size 640x480 with 1 Axes>"
      ]
     },
     "metadata": {},
     "output_type": "display_data"
    }
   ],
   "source": [
    "plt.figure(figsize = (16, 12))\n",
    "director_production_count.head(10).plot(kind = 'bar')\n",
    "plt.title(\"Top 10 Directors\", fontsize = 15)\n",
    "plt.xlabel(\"Director\", fontsize = 10)\n",
    "plt.ylabel('Frequency', fontsize = 10)\n",
    "plt.show()"
   ]
  },
  {
   "cell_type": "markdown",
   "id": "11d1e141-08dd-4963-b159-983545cb788e",
   "metadata": {},
   "source": [
    "### Top 10 Actors based on `casts_count`"
   ]
  },
  {
   "cell_type": "code",
   "execution_count": 81,
   "id": "02eda74c-6e0c-43e3-9957-439045a461cf",
   "metadata": {},
   "outputs": [
    {
     "data": {
      "text/plain": [
       "<Figure size 1600x1200 with 0 Axes>"
      ]
     },
     "metadata": {},
     "output_type": "display_data"
    },
    {
     "data": {
      "image/png": "[encoded data removed]",
      "text/plain": [
       "<Figure size 640x480 with 1 Axes>"
      ]
     },
     "metadata": {},
     "output_type": "display_data"
    }
   ],
   "source": [
    "plt.figure(figsize = (16, 12))\n",
    "ax = cast_counts.head(10).plot(kind='bar', color='skyblue', rot=45, fontsize=10, legend=True)\n",
    "ax.bar_label(ax.containers[0], fontsize=10, color='black')\n",
    "plt.title(\"Top 10 Actors\", fontsize = 15)\n",
    "plt.xlabel(\"Actor\", fontsize = 10)\n",
    "plt.ylabel('Frequency', fontsize = 10)\n",
    "plt.grid(axis='y', linestyle='--', alpha=0.7)\n",
    "plt.tight_layout()\n",
    "plt.show()"
   ]
  },
  {
   "cell_type": "markdown",
   "id": "5138f64b-4c58-46ad-87ab-71dcbcfedecb",
   "metadata": {},
   "source": [
    "### Distribution of `Rating` column "
   ]
  },
  {
   "cell_type": "markdown",
   "id": "75b1757c-fd56-423c-b7c5-11ba3a1fca78",
   "metadata": {},
   "source": [
    "___Pie Chart___"
   ]
  },
  {
   "cell_type": "code",
   "execution_count": 61,
   "id": "7c56559c-2f88-4fb6-afbb-ab3d8ee1ff25",
   "metadata": {},
   "outputs": [
    {
     "data": {
      "image/png": "[encoded data removed]",
      "text/plain": [
       "<Figure size 1200x1200 with 1 Axes>"
      ]
     },
     "metadata": {},
     "output_type": "display_data"
    }
   ],
   "source": [
    "plt.figure(figsize=(12, 12))\n",
    "df['Rating'].value_counts().plot(kind='pie', autopct='%1.1f%%', startangle=90, cmap='viridis')\n",
    "plt.title('Distribution of Ratings')\n",
    "plt.show()"
   ]
  },
  {
   "cell_type": "markdown",
   "id": "57d92959-430d-4519-9f20-5e5516dd7c09",
   "metadata": {},
   "source": [
    "___Line Chart___"
   ]
  },
  {
   "cell_type": "code",
   "execution_count": 62,
   "id": "79b4c936-b4c1-4a90-9b9d-5fed45a0d242",
   "metadata": {},
   "outputs": [
    {
     "data": {
      "image/png": "[encoded data removed]",
      "text/plain": [
       "<Figure size 1200x600 with 1 Axes>"
      ]
     },
     "metadata": {},
     "output_type": "display_data"
    }
   ],
   "source": [
    "plt.figure(figsize = (12, 6))\n",
    "ax = df['Rating'].value_counts().plot(kind = 'bar', color = 'green', rot = 45)\n",
    "ax.bar_label(ax.containers[0], fontsize=10, color='black')\n",
    "plt.title(\"Distribution of Rating\", fontsize = 15)\n",
    "plt.xlabel('Rating', fontsize = 10)\n",
    "plt.ylabel(\"Frequency\", fontsize = 10)\n",
    "plt.grid(axis = 'y', linestyle = '--', alpha = 0.6)\n",
    "plt.tight_layout()\n",
    "plt.show()"
   ]
  },
  {
   "cell_type": "markdown",
   "id": "b167bc50-206a-4b58-8415-312d6893ad35",
   "metadata": {},
   "source": [
    "### Line chart of `Release_Date` over time "
   ]
  },
  {
   "cell_type": "code",
   "execution_count": 63,
   "id": "7082595e-4f22-4413-b8af-8c357fedd593",
   "metadata": {},
   "outputs": [
    {
     "data": {
      "image/png": "[encoded data removed]",
      "text/plain": [
       "<Figure size 1200x600 with 1 Axes>"
      ]
     },
     "metadata": {},
     "output_type": "display_data"
    }
   ],
   "source": [
    "plt.figure(figsize=(12, 6))\n",
    "counts_by_year = df['Release_Year'].value_counts().sort_index()\n",
    "counts_by_year.plot(kind='line', marker='o', color='orange')\n",
    "plt.title('Number of Releases Over Time', fontsize = 15)\n",
    "plt.xlabel('Year', fontsize =10)\n",
    "plt.ylabel('Count', fontsize =10)\n",
    "plt.yticks(range(1, counts_by_year.max(), 200))\n",
    "plt.show()"
   ]
  },
  {
   "cell_type": "markdown",
   "id": "0f3ea360-9233-46a0-9d78-2addcd24bb65",
   "metadata": {},
   "source": [
    "### ___Top 10 Countries Distribution___"
   ]
  },
  {
   "cell_type": "code",
   "execution_count": 64,
   "id": "1f05eb89-576d-409a-9133-628e931461b1",
   "metadata": {},
   "outputs": [
    {
     "data": {
      "image/png": "[encoded data removed]",
      "text/plain": [
       "<Figure size 1200x800 with 1 Axes>"
      ]
     },
     "metadata": {},
     "output_type": "display_data"
    }
   ],
   "source": [
    "plt.figure(figsize = (12, 8))\n",
    "sns.countplot(x = 'Country', data = df, order = df['Country'].value_counts().index[:10],palette='Set2')\n",
    "plt.title(\"Top 10 Countries Distribution\")\n",
    "plt.xlabel(\"Country\")\n",
    "plt.ylabel(\"Frequency\")\n",
    "plt.xticks(rotation = 45, ha= 'right')\n",
    "plt.show()"
   ]
  },
  {
   "cell_type": "markdown",
   "id": "4d59329e-ea5c-4b2c-87da-428e4fae8bae",
   "metadata": {},
   "source": [
    "### ___`Release_Year` Vs `Rating` boxplot___"
   ]
  },
  {
   "cell_type": "code",
   "execution_count": 65,
   "id": "b1274334-36e1-40c2-8810-6d9c3cc704b4",
   "metadata": {},
   "outputs": [
    {
     "data": {
      "image/png": "[encoded data removed]",
      "text/plain": [
       "<Figure size 1200x600 with 1 Axes>"
      ]
     },
     "metadata": {},
     "output_type": "display_data"
    }
   ],
   "source": [
    "plt.figure(figsize=(12, 6))\n",
    "sns.boxplot(x='Release_Year', y='Rating', data=df, palette='pastel')\n",
    "plt.title('Release Year vs. Rating')\n",
    "plt.xlabel('Release Year')\n",
    "plt.ylabel('Rating')\n",
    "plt.xticks(rotation=45, ha='right')\n",
    "plt.show()"
   ]
  },
  {
   "cell_type": "markdown",
   "id": "ee82ae0f-f701-462e-9a5f-61ccf0782622",
   "metadata": {},
   "source": [
    "### ___Distribution Of Movies/TV Shows released for each month___"
   ]
  },
  {
   "cell_type": "code",
   "execution_count": 66,
   "id": "eca5f27d-35a0-4a82-a95f-bf011d8a287f",
   "metadata": {},
   "outputs": [
    {
     "data": {
      "image/png": "[encoded data removed]",
      "text/plain": [
       "<Figure size 1200x600 with 1 Axes>"
      ]
     },
     "metadata": {},
     "output_type": "display_data"
    }
   ],
   "source": [
    "plt.figure(figsize=(12, 6))\n",
    "sns.countplot(x=df['Release_Date'].dt.month_name(), order=['January', 'February', 'March', 'April', 'May', 'June', 'July', 'August', 'September', 'October', 'November', 'December'], palette='Blues')\n",
    "plt.title('Distribution of Release Months')\n",
    "plt.xlabel('Month')\n",
    "plt.ylabel('Count')\n",
    "plt.show()"
   ]
  },
  {
   "cell_type": "markdown",
   "id": "1d839ad5-dad7-408f-837f-be5075373604",
   "metadata": {},
   "source": [
    "### `Duration` Distribution of `movies` dataframe"
   ]
  },
  {
   "cell_type": "code",
   "execution_count": 68,
   "id": "a46ed243-6e8e-4bde-90de-246ff455e54f",
   "metadata": {},
   "outputs": [
    {
     "name": "stderr",
     "output_type": "stream",
     "text": [
      "C:\\Users\\mrmhm\\AppData\\Local\\Temp\\ipykernel_12780\\1983310342.py:1: SettingWithCopyWarning: \n",
      "A value is trying to be set on a copy of a slice from a DataFrame.\n",
      "Try using .loc[row_indexer,col_indexer] = value instead\n",
      "\n",
      "See the caveats in the documentation: https://pandas.pydata.org/pandas-docs/stable/user_guide/indexing.html#returning-a-view-versus-a-copy\n",
      "  movies['Duration'] = movies['Duration'].str.extract('(\\d+)')\n",
      "C:\\Users\\mrmhm\\AppData\\Local\\Temp\\ipykernel_12780\\1983310342.py:2: SettingWithCopyWarning: \n",
      "A value is trying to be set on a copy of a slice from a DataFrame.\n",
      "Try using .loc[row_indexer,col_indexer] = value instead\n",
      "\n",
      "See the caveats in the documentation: https://pandas.pydata.org/pandas-docs/stable/user_guide/indexing.html#returning-a-view-versus-a-copy\n",
      "  movies['Duration'] = pd.to_numeric(movies['Duration'])\n"
     ]
    }
   ],
   "source": [
    "movies['Duration'] = movies['Duration'].str.extract('(\\d+)')\n",
    "movies['Duration'] = pd.to_numeric(movies['Duration'])"
   ]
  },
  {
   "cell_type": "code",
   "execution_count": 69,
   "id": "98dbc263-64f3-481a-973a-d901ad1f2dc1",
   "metadata": {},
   "outputs": [
    {
     "data": {
      "image/png": "[encoded data removed]",
      "text/plain": [
       "<Figure size 1200x600 with 1 Axes>"
      ]
     },
     "metadata": {},
     "output_type": "display_data"
    }
   ],
   "source": [
    "plt.figure(figsize = (12, 6))\n",
    "sns.histplot(movies['Duration'], bins = 250, kde = True, color = 'salmon')\n",
    "plt.title(\"Distribution of Movies Duration\", fontsize = 20)\n",
    "plt.xlabel(\"Duration\", fontsize = 15)\n",
    "plt.ylabel(\"Frequency\", fontsize = 15)\n",
    "plt.show()"
   ]
  },
  {
   "cell_type": "markdown",
   "id": "080654d7-dfef-472f-aca1-e4a28cec7fb7",
   "metadata": {},
   "source": [
    "### ___Duration Distribution of `series` dataframe___"
   ]
  },
  {
   "cell_type": "code",
   "execution_count": 80,
   "id": "0d3a6b1e-d3b9-4cd1-89d5-c619b9c03daf",
   "metadata": {},
   "outputs": [
    {
     "data": {
      "image/png": "[encoded data removed]",
      "text/plain": [
       "<Figure size 1200x600 with 1 Axes>"
      ]
     },
     "metadata": {},
     "output_type": "display_data"
    }
   ],
   "source": [
    "plt.figure(figsize = (12, 6))\n",
    "sns.countplot(x = 'Duration', data = series, order = series['Duration'].value_counts().index ,palette='Set2')\n",
    "plt.title(\"TV Shows Seasons\")\n",
    "plt.xlabel(\"Season\")\n",
    "plt.ylabel(\"Frequency\")\n",
    "plt.xticks(rotation = 45, ha= 'right')\n",
    "plt.yticks(range(0, max(series['Duration'].value_counts()) + 1, 100))\n",
    "plt.show()"
   ]
  },
  {
   "cell_type": "code",
   "execution_count": null,
   "id": "2ee40058-0d80-4135-a16c-5d78a05a2b8f",
   "metadata": {},
   "outputs": [],
   "source": []
  }
 ],
 "metadata": {
  "kernelspec": {
   "display_name": "Python 3 (ipykernel)",
   "language": "python",
   "name": "python3"
  },
  "language_info": {
   "codemirror_mode": {
    "name": "ipython",
    "version": 3
   },
   "file_extension": ".py",
   "mimetype": "text/x-python",
   "name": "python",
   "nbconvert_exporter": "python",
   "pygments_lexer": "ipython3",
   "version": "3.10.7"
  }
 },
 "nbformat": 4,
 "nbformat_minor": 5
}
