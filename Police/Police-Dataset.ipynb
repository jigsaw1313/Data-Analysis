{
 "cells": [
  {
   "cell_type": "markdown",
   "id": "8214edbc-2751-42a6-aee4-6904363ed49f",
   "metadata": {},
   "source": [
    "# Import Libs"
   ]
  },
  {
   "cell_type": "code",
   "execution_count": 1,
   "id": "ab432212-0f86-4c14-9a48-03aae940deeb",
   "metadata": {},
   "outputs": [],
   "source": [
    "import pandas as pd\n",
    "import numpy as np\n",
    "import seaborn as sns\n",
    "import matplotlib.pyplot as plt"
   ]
  },
  {
   "cell_type": "code",
   "execution_count": 3,
   "id": "9ea76e35-9358-459b-b6e3-ee0b075f7b4f",
   "metadata": {},
   "outputs": [],
   "source": [
    "# import dataset\n",
    "df = pd.read_csv(\"police.csv\")"
   ]
  },
  {
   "cell_type": "markdown",
   "id": "13a66716-dcbc-4f83-8be8-07fcddfe0010",
   "metadata": {},
   "source": [
    "# Initial review of df"
   ]
  },
  {
   "cell_type": "code",
   "execution_count": 4,
   "id": "dff086ea-6e6e-4b59-b135-856af6799e3e",
   "metadata": {},
   "outputs": [
    {
     "data": {
      "text/html": [
       "<div>\n",
       "<style scoped>\n",
       "    .dataframe tbody tr th:only-of-type {\n",
       "        vertical-align: middle;\n",
       "    }\n",
       "\n",
       "    .dataframe tbody tr th {\n",
       "        vertical-align: top;\n",
       "    }\n",
       "\n",
       "    .dataframe thead th {\n",
       "        text-align: right;\n",
       "    }\n",
       "</style>\n",
       "<table border=\"1\" class=\"dataframe\">\n",
       "  <thead>\n",
       "    <tr style=\"text-align: right;\">\n",
       "      <th></th>\n",
       "      <th>stop_date</th>\n",
       "      <th>stop_time</th>\n",
       "      <th>county_name</th>\n",
       "      <th>driver_gender</th>\n",
       "      <th>driver_age_raw</th>\n",
       "      <th>driver_age</th>\n",
       "      <th>driver_race</th>\n",
       "      <th>violation_raw</th>\n",
       "      <th>violation</th>\n",
       "      <th>search_conducted</th>\n",
       "      <th>search_type</th>\n",
       "      <th>stop_outcome</th>\n",
       "      <th>is_arrested</th>\n",
       "      <th>stop_duration</th>\n",
       "      <th>drugs_related_stop</th>\n",
       "    </tr>\n",
       "  </thead>\n",
       "  <tbody>\n",
       "    <tr>\n",
       "      <th>0</th>\n",
       "      <td>2005-01-02</td>\n",
       "      <td>01:55</td>\n",
       "      <td>NaN</td>\n",
       "      <td>M</td>\n",
       "      <td>1985.0</td>\n",
       "      <td>20.0</td>\n",
       "      <td>White</td>\n",
       "      <td>Speeding</td>\n",
       "      <td>Speeding</td>\n",
       "      <td>False</td>\n",
       "      <td>NaN</td>\n",
       "      <td>Citation</td>\n",
       "      <td>False</td>\n",
       "      <td>0-15 Min</td>\n",
       "      <td>False</td>\n",
       "    </tr>\n",
       "    <tr>\n",
       "      <th>1</th>\n",
       "      <td>2005-01-18</td>\n",
       "      <td>08:15</td>\n",
       "      <td>NaN</td>\n",
       "      <td>M</td>\n",
       "      <td>1965.0</td>\n",
       "      <td>40.0</td>\n",
       "      <td>White</td>\n",
       "      <td>Speeding</td>\n",
       "      <td>Speeding</td>\n",
       "      <td>False</td>\n",
       "      <td>NaN</td>\n",
       "      <td>Citation</td>\n",
       "      <td>False</td>\n",
       "      <td>0-15 Min</td>\n",
       "      <td>False</td>\n",
       "    </tr>\n",
       "    <tr>\n",
       "      <th>2</th>\n",
       "      <td>2005-01-23</td>\n",
       "      <td>23:15</td>\n",
       "      <td>NaN</td>\n",
       "      <td>M</td>\n",
       "      <td>1972.0</td>\n",
       "      <td>33.0</td>\n",
       "      <td>White</td>\n",
       "      <td>Speeding</td>\n",
       "      <td>Speeding</td>\n",
       "      <td>False</td>\n",
       "      <td>NaN</td>\n",
       "      <td>Citation</td>\n",
       "      <td>False</td>\n",
       "      <td>0-15 Min</td>\n",
       "      <td>False</td>\n",
       "    </tr>\n",
       "    <tr>\n",
       "      <th>3</th>\n",
       "      <td>2005-02-20</td>\n",
       "      <td>17:15</td>\n",
       "      <td>NaN</td>\n",
       "      <td>M</td>\n",
       "      <td>1986.0</td>\n",
       "      <td>19.0</td>\n",
       "      <td>White</td>\n",
       "      <td>Call for Service</td>\n",
       "      <td>Other</td>\n",
       "      <td>False</td>\n",
       "      <td>NaN</td>\n",
       "      <td>Arrest Driver</td>\n",
       "      <td>True</td>\n",
       "      <td>16-30 Min</td>\n",
       "      <td>False</td>\n",
       "    </tr>\n",
       "    <tr>\n",
       "      <th>4</th>\n",
       "      <td>2005-03-14</td>\n",
       "      <td>10:00</td>\n",
       "      <td>NaN</td>\n",
       "      <td>F</td>\n",
       "      <td>1984.0</td>\n",
       "      <td>21.0</td>\n",
       "      <td>White</td>\n",
       "      <td>Speeding</td>\n",
       "      <td>Speeding</td>\n",
       "      <td>False</td>\n",
       "      <td>NaN</td>\n",
       "      <td>Citation</td>\n",
       "      <td>False</td>\n",
       "      <td>0-15 Min</td>\n",
       "      <td>False</td>\n",
       "    </tr>\n",
       "  </tbody>\n",
       "</table>\n",
       "</div>"
      ],
      "text/plain": [
       "    stop_date stop_time  county_name driver_gender  driver_age_raw  \\\n",
       "0  2005-01-02     01:55          NaN             M          1985.0   \n",
       "1  2005-01-18     08:15          NaN             M          1965.0   \n",
       "2  2005-01-23     23:15          NaN             M          1972.0   \n",
       "3  2005-02-20     17:15          NaN             M          1986.0   \n",
       "4  2005-03-14     10:00          NaN             F          1984.0   \n",
       "\n",
       "   driver_age driver_race     violation_raw violation  search_conducted  \\\n",
       "0        20.0       White          Speeding  Speeding             False   \n",
       "1        40.0       White          Speeding  Speeding             False   \n",
       "2        33.0       White          Speeding  Speeding             False   \n",
       "3        19.0       White  Call for Service     Other             False   \n",
       "4        21.0       White          Speeding  Speeding             False   \n",
       "\n",
       "  search_type   stop_outcome is_arrested stop_duration  drugs_related_stop  \n",
       "0         NaN       Citation       False      0-15 Min               False  \n",
       "1         NaN       Citation       False      0-15 Min               False  \n",
       "2         NaN       Citation       False      0-15 Min               False  \n",
       "3         NaN  Arrest Driver        True     16-30 Min               False  \n",
       "4         NaN       Citation       False      0-15 Min               False  "
      ]
     },
     "execution_count": 4,
     "metadata": {},
     "output_type": "execute_result"
    }
   ],
   "source": [
    "# check df\n",
    "df.head()"
   ]
  },
  {
   "cell_type": "code",
   "execution_count": 5,
   "id": "e76514e5-f1f0-4e1c-a4e3-5aedb0ae6661",
   "metadata": {},
   "outputs": [
    {
     "name": "stdout",
     "output_type": "stream",
     "text": [
      "<class 'pandas.core.frame.DataFrame'>\n",
      "RangeIndex: 91741 entries, 0 to 91740\n",
      "Data columns (total 15 columns):\n",
      " #   Column              Non-Null Count  Dtype  \n",
      "---  ------              --------------  -----  \n",
      " 0   stop_date           91741 non-null  object \n",
      " 1   stop_time           91741 non-null  object \n",
      " 2   county_name         0 non-null      float64\n",
      " 3   driver_gender       86406 non-null  object \n",
      " 4   driver_age_raw      86414 non-null  float64\n",
      " 5   driver_age          86120 non-null  float64\n",
      " 6   driver_race         86408 non-null  object \n",
      " 7   violation_raw       86408 non-null  object \n",
      " 8   violation           86408 non-null  object \n",
      " 9   search_conducted    91741 non-null  bool   \n",
      " 10  search_type         3196 non-null   object \n",
      " 11  stop_outcome        86408 non-null  object \n",
      " 12  is_arrested         86408 non-null  object \n",
      " 13  stop_duration       86408 non-null  object \n",
      " 14  drugs_related_stop  91741 non-null  bool   \n",
      "dtypes: bool(2), float64(3), object(10)\n",
      "memory usage: 9.3+ MB\n"
     ]
    }
   ],
   "source": [
    "df.info()\n",
    "# there is a column which is all nan, and some columns has missing values"
   ]
  },
  {
   "cell_type": "code",
   "execution_count": 6,
   "id": "98214caa-4ada-409f-bd8c-9771201344b4",
   "metadata": {},
   "outputs": [
    {
     "data": {
      "text/html": [
       "<div>\n",
       "<style scoped>\n",
       "    .dataframe tbody tr th:only-of-type {\n",
       "        vertical-align: middle;\n",
       "    }\n",
       "\n",
       "    .dataframe tbody tr th {\n",
       "        vertical-align: top;\n",
       "    }\n",
       "\n",
       "    .dataframe thead th {\n",
       "        text-align: right;\n",
       "    }\n",
       "</style>\n",
       "<table border=\"1\" class=\"dataframe\">\n",
       "  <thead>\n",
       "    <tr style=\"text-align: right;\">\n",
       "      <th></th>\n",
       "      <th>county_name</th>\n",
       "      <th>driver_age_raw</th>\n",
       "      <th>driver_age</th>\n",
       "    </tr>\n",
       "  </thead>\n",
       "  <tbody>\n",
       "    <tr>\n",
       "      <th>count</th>\n",
       "      <td>0.0</td>\n",
       "      <td>86414.000000</td>\n",
       "      <td>86120.000000</td>\n",
       "    </tr>\n",
       "    <tr>\n",
       "      <th>mean</th>\n",
       "      <td>NaN</td>\n",
       "      <td>1970.491228</td>\n",
       "      <td>34.011333</td>\n",
       "    </tr>\n",
       "    <tr>\n",
       "      <th>std</th>\n",
       "      <td>NaN</td>\n",
       "      <td>110.914909</td>\n",
       "      <td>12.738564</td>\n",
       "    </tr>\n",
       "    <tr>\n",
       "      <th>min</th>\n",
       "      <td>NaN</td>\n",
       "      <td>0.000000</td>\n",
       "      <td>15.000000</td>\n",
       "    </tr>\n",
       "    <tr>\n",
       "      <th>25%</th>\n",
       "      <td>NaN</td>\n",
       "      <td>1967.000000</td>\n",
       "      <td>23.000000</td>\n",
       "    </tr>\n",
       "    <tr>\n",
       "      <th>50%</th>\n",
       "      <td>NaN</td>\n",
       "      <td>1980.000000</td>\n",
       "      <td>31.000000</td>\n",
       "    </tr>\n",
       "    <tr>\n",
       "      <th>75%</th>\n",
       "      <td>NaN</td>\n",
       "      <td>1987.000000</td>\n",
       "      <td>43.000000</td>\n",
       "    </tr>\n",
       "    <tr>\n",
       "      <th>max</th>\n",
       "      <td>NaN</td>\n",
       "      <td>8801.000000</td>\n",
       "      <td>99.000000</td>\n",
       "    </tr>\n",
       "  </tbody>\n",
       "</table>\n",
       "</div>"
      ],
      "text/plain": [
       "       county_name  driver_age_raw    driver_age\n",
       "count          0.0    86414.000000  86120.000000\n",
       "mean           NaN     1970.491228     34.011333\n",
       "std            NaN      110.914909     12.738564\n",
       "min            NaN        0.000000     15.000000\n",
       "25%            NaN     1967.000000     23.000000\n",
       "50%            NaN     1980.000000     31.000000\n",
       "75%            NaN     1987.000000     43.000000\n",
       "max            NaN     8801.000000     99.000000"
      ]
     },
     "execution_count": 6,
     "metadata": {},
     "output_type": "execute_result"
    }
   ],
   "source": [
    "df.describe()"
   ]
  },
  {
   "cell_type": "code",
   "execution_count": 7,
   "id": "08cbc677-52b5-4a7c-9a55-543a5a47532a",
   "metadata": {},
   "outputs": [
    {
     "data": {
      "text/plain": [
       "(91741, 15)"
      ]
     },
     "execution_count": 7,
     "metadata": {},
     "output_type": "execute_result"
    }
   ],
   "source": [
    "# check df dim\n",
    "df.shape"
   ]
  },
  {
   "cell_type": "code",
   "execution_count": 8,
   "id": "5be9b9a3-64f5-41a0-882a-7677d3262b6b",
   "metadata": {},
   "outputs": [
    {
     "data": {
      "text/plain": [
       "Index(['stop_date', 'stop_time', 'county_name', 'driver_gender',\n",
       "       'driver_age_raw', 'driver_age', 'driver_race', 'violation_raw',\n",
       "       'violation', 'search_conducted', 'search_type', 'stop_outcome',\n",
       "       'is_arrested', 'stop_duration', 'drugs_related_stop'],\n",
       "      dtype='object')"
      ]
     },
     "execution_count": 8,
     "metadata": {},
     "output_type": "execute_result"
    }
   ],
   "source": [
    "# check columns\n",
    "df.columns"
   ]
  },
  {
   "cell_type": "markdown",
   "id": "2e12330f-bd05-4f62-9dec-d368b140f737",
   "metadata": {},
   "source": [
    "# get unique of columns"
   ]
  },
  {
   "cell_type": "code",
   "execution_count": 9,
   "id": "35cd71a1-a3ed-4623-aa44-ddc13282f803",
   "metadata": {},
   "outputs": [
    {
     "data": {
      "text/plain": [
       "stop_date             3768\n",
       "stop_time             1436\n",
       "county_name              0\n",
       "driver_gender            2\n",
       "driver_age_raw          97\n",
       "driver_age              78\n",
       "driver_race              5\n",
       "violation_raw           12\n",
       "violation                6\n",
       "search_conducted         2\n",
       "search_type             24\n",
       "stop_outcome             6\n",
       "is_arrested              2\n",
       "stop_duration            5\n",
       "drugs_related_stop       2\n",
       "dtype: int64"
      ]
     },
     "execution_count": 9,
     "metadata": {},
     "output_type": "execute_result"
    }
   ],
   "source": [
    "# check unique values of df\n",
    "df.nunique()"
   ]
  },
  {
   "cell_type": "code",
   "execution_count": 10,
   "id": "9a5807cc-8a2a-4389-94b2-1e40eed11ea9",
   "metadata": {},
   "outputs": [
    {
     "name": "stdout",
     "output_type": "stream",
     "text": [
      "driver_gender unique values:\n",
      "  ['M' 'F' nan]\n",
      "--------------------------------------------------\n",
      "driver_race unique values:\n",
      "  ['White' 'Black' 'Asian' nan 'Hispanic' 'Other']\n",
      "--------------------------------------------------\n",
      "violation_raw unique values:\n",
      "  ['Speeding' 'Call for Service' 'Equipment/Inspection Violation'\n",
      " 'Other Traffic Violation' nan 'Registration Violation'\n",
      " 'Special Detail/Directed Patrol' 'APB' 'Violation of City/Town Ordinance'\n",
      " 'Suspicious Person' 'Motorist Assist/Courtesy' 'Warrant'\n",
      " 'Seatbelt Violation']\n",
      "--------------------------------------------------\n",
      "violation unique values:\n",
      "  ['Speeding' 'Other' 'Equipment' 'Moving violation' nan\n",
      " 'Registration/plates' 'Seat belt']\n",
      "--------------------------------------------------\n",
      "search_type unique values:\n",
      "  [nan 'Incident to Arrest,Protective Frisk' 'Probable Cause'\n",
      " 'Incident to Arrest' 'Probable Cause,Reasonable Suspicion'\n",
      " 'Incident to Arrest,Inventory,Probable Cause'\n",
      " 'Incident to Arrest,Inventory' 'Incident to Arrest,Probable Cause'\n",
      " 'Protective Frisk' 'Reasonable Suspicion' 'Inventory'\n",
      " 'Inventory,Protective Frisk' 'Incident to Arrest,Reasonable Suspicion'\n",
      " 'Incident to Arrest,Probable Cause,Protective Frisk'\n",
      " 'Probable Cause,Protective Frisk'\n",
      " 'Incident to Arrest,Inventory,Protective Frisk'\n",
      " 'Protective Frisk,Reasonable Suspicion'\n",
      " 'Incident to Arrest,Inventory,Reasonable Suspicion'\n",
      " 'Inventory,Probable Cause'\n",
      " 'Incident to Arrest,Protective Frisk,Reasonable Suspicion'\n",
      " 'Inventory,Probable Cause,Protective Frisk'\n",
      " 'Inventory,Reasonable Suspicion'\n",
      " 'Incident to Arrest,Probable Cause,Reasonable Suspicion'\n",
      " 'Inventory,Probable Cause,Reasonable Suspicion'\n",
      " 'Probable Cause,Protective Frisk,Reasonable Suspicion']\n",
      "--------------------------------------------------\n",
      "stop_outcome unique values:\n",
      "  ['Citation' 'Arrest Driver' nan 'N/D' 'Warning' 'Arrest Passenger'\n",
      " 'No Action']\n",
      "--------------------------------------------------\n"
     ]
    }
   ],
   "source": [
    "categorical_cols = ['driver_gender', 'driver_race', 'violation_raw', 'violation', 'search_type', 'stop_outcome']\n",
    "for col in categorical_cols:\n",
    "    print(f\"{col} unique values:\\n \", df[col].unique())\n",
    "    print('-' * 50)"
   ]
  },
  {
   "cell_type": "markdown",
   "id": "8feb3076-9c4c-402f-a5fd-b7647cca4380",
   "metadata": {},
   "source": [
    "# get value_counts of columns"
   ]
  },
  {
   "cell_type": "code",
   "execution_count": 11,
   "id": "06b2f422-1c35-46db-974d-2aa010561bf1",
   "metadata": {},
   "outputs": [
    {
     "name": "stdout",
     "output_type": "stream",
     "text": [
      "driver_gender\n",
      "M    62895\n",
      "F    23511\n",
      "Name: count, dtype: int64\n",
      "--------------------------------------------------\n",
      "driver_race\n",
      "White       62158\n",
      "Black       12244\n",
      "Hispanic     9507\n",
      "Asian        2259\n",
      "Other         240\n",
      "Name: count, dtype: int64\n",
      "--------------------------------------------------\n",
      "violation_raw\n",
      "Speeding                            48463\n",
      "Other Traffic Violation             16224\n",
      "Equipment/Inspection Violation      11020\n",
      "Registration Violation               3432\n",
      "Seatbelt Violation                   2952\n",
      "Special Detail/Directed Patrol       2455\n",
      "Call for Service                     1298\n",
      "Violation of City/Town Ordinance      211\n",
      "Motorist Assist/Courtesy              203\n",
      "APB                                    79\n",
      "Suspicious Person                      56\n",
      "Warrant                                15\n",
      "Name: count, dtype: int64\n",
      "--------------------------------------------------\n",
      "violation\n",
      "Speeding               48463\n",
      "Moving violation       16224\n",
      "Equipment              11020\n",
      "Other                   4317\n",
      "Registration/plates     3432\n",
      "Seat belt               2952\n",
      "Name: count, dtype: int64\n",
      "--------------------------------------------------\n",
      "search_type\n",
      "Incident to Arrest                                          1219\n",
      "Probable Cause                                               891\n",
      "Inventory                                                    220\n",
      "Reasonable Suspicion                                         197\n",
      "Protective Frisk                                             161\n",
      "Incident to Arrest,Inventory                                 129\n",
      "Incident to Arrest,Probable Cause                            106\n",
      "Probable Cause,Reasonable Suspicion                           75\n",
      "Incident to Arrest,Inventory,Probable Cause                   34\n",
      "Incident to Arrest,Protective Frisk                           33\n",
      "Probable Cause,Protective Frisk                               33\n",
      "Inventory,Probable Cause                                      22\n",
      "Incident to Arrest,Reasonable Suspicion                       13\n",
      "Inventory,Protective Frisk                                    11\n",
      "Incident to Arrest,Inventory,Protective Frisk                 11\n",
      "Protective Frisk,Reasonable Suspicion                         11\n",
      "Incident to Arrest,Probable Cause,Protective Frisk            10\n",
      "Incident to Arrest,Probable Cause,Reasonable Suspicion         6\n",
      "Incident to Arrest,Inventory,Reasonable Suspicion              4\n",
      "Inventory,Reasonable Suspicion                                 4\n",
      "Inventory,Probable Cause,Protective Frisk                      2\n",
      "Inventory,Probable Cause,Reasonable Suspicion                  2\n",
      "Incident to Arrest,Protective Frisk,Reasonable Suspicion       1\n",
      "Probable Cause,Protective Frisk,Reasonable Suspicion           1\n",
      "Name: count, dtype: int64\n",
      "--------------------------------------------------\n",
      "stop_outcome\n",
      "Citation            77006\n",
      "Warning              5294\n",
      "Arrest Driver        2571\n",
      "N/D                   590\n",
      "No Action             589\n",
      "Arrest Passenger      358\n",
      "Name: count, dtype: int64\n",
      "--------------------------------------------------\n"
     ]
    }
   ],
   "source": [
    "categorical_cols = ['driver_gender', 'driver_race', 'violation_raw', 'violation', 'search_type', 'stop_outcome']\n",
    "for col in categorical_cols:\n",
    "    print(df[col].value_counts())\n",
    "    print('-' * 50)"
   ]
  },
  {
   "cell_type": "markdown",
   "id": "14473d67-693f-4a6f-98af-c1a18f9b7477",
   "metadata": {},
   "source": [
    "# check boolean columns"
   ]
  },
  {
   "cell_type": "code",
   "execution_count": 12,
   "id": "2dc142ea-cc2f-4afb-bb39-f20ebad23da4",
   "metadata": {},
   "outputs": [
    {
     "name": "stdout",
     "output_type": "stream",
     "text": [
      "search_conducted\n",
      "False    88545\n",
      "True      3196\n",
      "Name: count, dtype: int64\n",
      "--------------------------------------------------\n",
      "is_arrested\n",
      "False    83479\n",
      "True      2929\n",
      "Name: count, dtype: int64\n",
      "--------------------------------------------------\n",
      "drugs_related_stop\n",
      "False    90926\n",
      "True       815\n",
      "Name: count, dtype: int64\n",
      "--------------------------------------------------\n"
     ]
    }
   ],
   "source": [
    "bool_cols = ['search_conducted', 'is_arrested', 'drugs_related_stop']\n",
    "for col in bool_cols:\n",
    "    print(df[col].value_counts())\n",
    "    print(\"-\" * 50)"
   ]
  },
  {
   "cell_type": "markdown",
   "id": "7d55ce0a-9ce1-4ba5-b8dd-9e047e217d37",
   "metadata": {},
   "source": [
    "# Drop `county_name` which has only null values"
   ]
  },
  {
   "cell_type": "code",
   "execution_count": 13,
   "id": "b04c1f02-06bc-4d51-b70c-e258b4f00a5a",
   "metadata": {},
   "outputs": [
    {
     "data": {
      "text/plain": [
       "91741"
      ]
     },
     "execution_count": 13,
     "metadata": {},
     "output_type": "execute_result"
    }
   ],
   "source": [
    "df['county_name'].isnull().sum()"
   ]
  },
  {
   "cell_type": "code",
   "execution_count": 14,
   "id": "482aaf57-f8d4-4c08-816a-81e4f1bb12e0",
   "metadata": {},
   "outputs": [],
   "source": [
    "# drop country_name feature\n",
    "df.drop(columns= ['county_name'], inplace = True)"
   ]
  },
  {
   "cell_type": "code",
   "execution_count": 15,
   "id": "f9b76378-4831-4b48-8b89-4ccb5d0bc6e8",
   "metadata": {},
   "outputs": [
    {
     "name": "stdout",
     "output_type": "stream",
     "text": [
      "<class 'pandas.core.frame.DataFrame'>\n",
      "RangeIndex: 91741 entries, 0 to 91740\n",
      "Data columns (total 14 columns):\n",
      " #   Column              Non-Null Count  Dtype  \n",
      "---  ------              --------------  -----  \n",
      " 0   stop_date           91741 non-null  object \n",
      " 1   stop_time           91741 non-null  object \n",
      " 2   driver_gender       86406 non-null  object \n",
      " 3   driver_age_raw      86414 non-null  float64\n",
      " 4   driver_age          86120 non-null  float64\n",
      " 5   driver_race         86408 non-null  object \n",
      " 6   violation_raw       86408 non-null  object \n",
      " 7   violation           86408 non-null  object \n",
      " 8   search_conducted    91741 non-null  bool   \n",
      " 9   search_type         3196 non-null   object \n",
      " 10  stop_outcome        86408 non-null  object \n",
      " 11  is_arrested         86408 non-null  object \n",
      " 12  stop_duration       86408 non-null  object \n",
      " 13  drugs_related_stop  91741 non-null  bool   \n",
      "dtypes: bool(2), float64(2), object(10)\n",
      "memory usage: 8.6+ MB\n"
     ]
    }
   ],
   "source": [
    "# check df\n",
    "df.info()"
   ]
  },
  {
   "cell_type": "markdown",
   "id": "fe5a1bc1-5868-4602-ba88-764a2062934d",
   "metadata": {},
   "source": [
    "# Handling Missing Values"
   ]
  },
  {
   "cell_type": "code",
   "execution_count": 16,
   "id": "9e97b62c-2e76-4d4c-922e-9a814e178157",
   "metadata": {},
   "outputs": [
    {
     "name": "stdout",
     "output_type": "stream",
     "text": [
      "<class 'pandas.core.frame.DataFrame'>\n",
      "RangeIndex: 91741 entries, 0 to 91740\n",
      "Data columns (total 14 columns):\n",
      " #   Column              Non-Null Count  Dtype  \n",
      "---  ------              --------------  -----  \n",
      " 0   stop_date           91741 non-null  object \n",
      " 1   stop_time           91741 non-null  object \n",
      " 2   driver_gender       86406 non-null  object \n",
      " 3   driver_age_raw      86414 non-null  float64\n",
      " 4   driver_age          86120 non-null  float64\n",
      " 5   driver_race         86408 non-null  object \n",
      " 6   violation_raw       86408 non-null  object \n",
      " 7   violation           86408 non-null  object \n",
      " 8   search_conducted    91741 non-null  bool   \n",
      " 9   search_type         3196 non-null   object \n",
      " 10  stop_outcome        86408 non-null  object \n",
      " 11  is_arrested         86408 non-null  object \n",
      " 12  stop_duration       86408 non-null  object \n",
      " 13  drugs_related_stop  91741 non-null  bool   \n",
      "dtypes: bool(2), float64(2), object(10)\n",
      "memory usage: 8.6+ MB\n"
     ]
    }
   ],
   "source": [
    "df.info()"
   ]
  },
  {
   "cell_type": "code",
   "execution_count": 17,
   "id": "24404f96-4955-4d7b-85fc-b31d58932a0a",
   "metadata": {},
   "outputs": [],
   "source": [
    "# mean imputation for numerical columns\n",
    "numerical_columns = ['driver_age_raw', 'driver_age']\n",
    "for col in numerical_columns:\n",
    "    df[col].fillna(df[col].mean(), inplace=True)"
   ]
  },
  {
   "cell_type": "code",
   "execution_count": 18,
   "id": "f543d200-9aaa-4abd-8f63-76f3d1771f71",
   "metadata": {},
   "outputs": [],
   "source": [
    "# Example of mode imputation for categorical columns\n",
    "categorical_columns = ['driver_gender', 'driver_race', 'violation_raw', 'violation', 'stop_outcome', 'is_arrested']\n",
    "for col in categorical_columns:\n",
    "    df[col].fillna(df[col].mode()[0], inplace=True)"
   ]
  },
  {
   "cell_type": "code",
   "execution_count": 19,
   "id": "27a96776-0fbb-4d85-b2f3-232bd8c0a40d",
   "metadata": {},
   "outputs": [
    {
     "data": {
      "text/plain": [
       "stop_date                 0\n",
       "stop_time                 0\n",
       "driver_gender             0\n",
       "driver_age_raw            0\n",
       "driver_age                0\n",
       "driver_race               0\n",
       "violation_raw             0\n",
       "violation                 0\n",
       "search_conducted          0\n",
       "search_type           88545\n",
       "stop_outcome              0\n",
       "is_arrested               0\n",
       "stop_duration          5333\n",
       "drugs_related_stop        0\n",
       "dtype: int64"
      ]
     },
     "execution_count": 19,
     "metadata": {},
     "output_type": "execute_result"
    }
   ],
   "source": [
    "# analyzing missing values\n",
    "missing_values = df.isnull().sum()\n",
    "missing_values"
   ]
  },
  {
   "cell_type": "markdown",
   "id": "f04d3582-1485-4840-a0c8-be11766397bd",
   "metadata": {},
   "source": [
    "# check `stop_date` columns and extract date, month, day"
   ]
  },
  {
   "cell_type": "code",
   "execution_count": 20,
   "id": "7ebdef8d-751b-4d3b-85a7-f59b030bc9a0",
   "metadata": {},
   "outputs": [],
   "source": [
    "df['stop_date'] = pd.to_datetime(df['stop_date'])\n",
    "# extract date, month, day\n",
    "df['year'] = df['stop_date'].dt.year\n",
    "df['month'] = df['stop_date'].dt.month\n",
    "df['day'] = df['stop_date'].dt.day"
   ]
  },
  {
   "cell_type": "code",
   "execution_count": 21,
   "id": "c8f1ae51-d00c-4eb9-b106-c2d36828f617",
   "metadata": {},
   "outputs": [
    {
     "data": {
      "text/html": [
       "<div>\n",
       "<style scoped>\n",
       "    .dataframe tbody tr th:only-of-type {\n",
       "        vertical-align: middle;\n",
       "    }\n",
       "\n",
       "    .dataframe tbody tr th {\n",
       "        vertical-align: top;\n",
       "    }\n",
       "\n",
       "    .dataframe thead th {\n",
       "        text-align: right;\n",
       "    }\n",
       "</style>\n",
       "<table border=\"1\" class=\"dataframe\">\n",
       "  <thead>\n",
       "    <tr style=\"text-align: right;\">\n",
       "      <th></th>\n",
       "      <th>stop_date</th>\n",
       "      <th>stop_time</th>\n",
       "      <th>driver_gender</th>\n",
       "      <th>driver_age_raw</th>\n",
       "      <th>driver_age</th>\n",
       "      <th>driver_race</th>\n",
       "      <th>violation_raw</th>\n",
       "      <th>violation</th>\n",
       "      <th>search_conducted</th>\n",
       "      <th>search_type</th>\n",
       "      <th>stop_outcome</th>\n",
       "      <th>is_arrested</th>\n",
       "      <th>stop_duration</th>\n",
       "      <th>drugs_related_stop</th>\n",
       "      <th>year</th>\n",
       "      <th>month</th>\n",
       "      <th>day</th>\n",
       "    </tr>\n",
       "  </thead>\n",
       "  <tbody>\n",
       "    <tr>\n",
       "      <th>0</th>\n",
       "      <td>2005-01-02</td>\n",
       "      <td>01:55</td>\n",
       "      <td>M</td>\n",
       "      <td>1985.0</td>\n",
       "      <td>20.0</td>\n",
       "      <td>White</td>\n",
       "      <td>Speeding</td>\n",
       "      <td>Speeding</td>\n",
       "      <td>False</td>\n",
       "      <td>NaN</td>\n",
       "      <td>Citation</td>\n",
       "      <td>False</td>\n",
       "      <td>0-15 Min</td>\n",
       "      <td>False</td>\n",
       "      <td>2005</td>\n",
       "      <td>1</td>\n",
       "      <td>2</td>\n",
       "    </tr>\n",
       "    <tr>\n",
       "      <th>1</th>\n",
       "      <td>2005-01-18</td>\n",
       "      <td>08:15</td>\n",
       "      <td>M</td>\n",
       "      <td>1965.0</td>\n",
       "      <td>40.0</td>\n",
       "      <td>White</td>\n",
       "      <td>Speeding</td>\n",
       "      <td>Speeding</td>\n",
       "      <td>False</td>\n",
       "      <td>NaN</td>\n",
       "      <td>Citation</td>\n",
       "      <td>False</td>\n",
       "      <td>0-15 Min</td>\n",
       "      <td>False</td>\n",
       "      <td>2005</td>\n",
       "      <td>1</td>\n",
       "      <td>18</td>\n",
       "    </tr>\n",
       "    <tr>\n",
       "      <th>2</th>\n",
       "      <td>2005-01-23</td>\n",
       "      <td>23:15</td>\n",
       "      <td>M</td>\n",
       "      <td>1972.0</td>\n",
       "      <td>33.0</td>\n",
       "      <td>White</td>\n",
       "      <td>Speeding</td>\n",
       "      <td>Speeding</td>\n",
       "      <td>False</td>\n",
       "      <td>NaN</td>\n",
       "      <td>Citation</td>\n",
       "      <td>False</td>\n",
       "      <td>0-15 Min</td>\n",
       "      <td>False</td>\n",
       "      <td>2005</td>\n",
       "      <td>1</td>\n",
       "      <td>23</td>\n",
       "    </tr>\n",
       "    <tr>\n",
       "      <th>3</th>\n",
       "      <td>2005-02-20</td>\n",
       "      <td>17:15</td>\n",
       "      <td>M</td>\n",
       "      <td>1986.0</td>\n",
       "      <td>19.0</td>\n",
       "      <td>White</td>\n",
       "      <td>Call for Service</td>\n",
       "      <td>Other</td>\n",
       "      <td>False</td>\n",
       "      <td>NaN</td>\n",
       "      <td>Arrest Driver</td>\n",
       "      <td>True</td>\n",
       "      <td>16-30 Min</td>\n",
       "      <td>False</td>\n",
       "      <td>2005</td>\n",
       "      <td>2</td>\n",
       "      <td>20</td>\n",
       "    </tr>\n",
       "    <tr>\n",
       "      <th>4</th>\n",
       "      <td>2005-03-14</td>\n",
       "      <td>10:00</td>\n",
       "      <td>F</td>\n",
       "      <td>1984.0</td>\n",
       "      <td>21.0</td>\n",
       "      <td>White</td>\n",
       "      <td>Speeding</td>\n",
       "      <td>Speeding</td>\n",
       "      <td>False</td>\n",
       "      <td>NaN</td>\n",
       "      <td>Citation</td>\n",
       "      <td>False</td>\n",
       "      <td>0-15 Min</td>\n",
       "      <td>False</td>\n",
       "      <td>2005</td>\n",
       "      <td>3</td>\n",
       "      <td>14</td>\n",
       "    </tr>\n",
       "  </tbody>\n",
       "</table>\n",
       "</div>"
      ],
      "text/plain": [
       "   stop_date stop_time driver_gender  driver_age_raw  driver_age driver_race  \\\n",
       "0 2005-01-02     01:55             M          1985.0        20.0       White   \n",
       "1 2005-01-18     08:15             M          1965.0        40.0       White   \n",
       "2 2005-01-23     23:15             M          1972.0        33.0       White   \n",
       "3 2005-02-20     17:15             M          1986.0        19.0       White   \n",
       "4 2005-03-14     10:00             F          1984.0        21.0       White   \n",
       "\n",
       "      violation_raw violation  search_conducted search_type   stop_outcome  \\\n",
       "0          Speeding  Speeding             False         NaN       Citation   \n",
       "1          Speeding  Speeding             False         NaN       Citation   \n",
       "2          Speeding  Speeding             False         NaN       Citation   \n",
       "3  Call for Service     Other             False         NaN  Arrest Driver   \n",
       "4          Speeding  Speeding             False         NaN       Citation   \n",
       "\n",
       "   is_arrested stop_duration  drugs_related_stop  year  month  day  \n",
       "0        False      0-15 Min               False  2005      1    2  \n",
       "1        False      0-15 Min               False  2005      1   18  \n",
       "2        False      0-15 Min               False  2005      1   23  \n",
       "3         True     16-30 Min               False  2005      2   20  \n",
       "4        False      0-15 Min               False  2005      3   14  "
      ]
     },
     "execution_count": 21,
     "metadata": {},
     "output_type": "execute_result"
    }
   ],
   "source": [
    "df.head()"
   ]
  },
  {
   "cell_type": "markdown",
   "id": "6bbc7852-bef8-4c98-83a5-f1db9be5f89a",
   "metadata": {},
   "source": [
    "# Men or women were stopped more often for speeding :"
   ]
  },
  {
   "cell_type": "code",
   "execution_count": 22,
   "id": "77b11e1e-2b1e-4719-af48-3809dc0e326a",
   "metadata": {},
   "outputs": [
    {
     "data": {
      "text/html": [
       "<div>\n",
       "<style scoped>\n",
       "    .dataframe tbody tr th:only-of-type {\n",
       "        vertical-align: middle;\n",
       "    }\n",
       "\n",
       "    .dataframe tbody tr th {\n",
       "        vertical-align: top;\n",
       "    }\n",
       "\n",
       "    .dataframe thead th {\n",
       "        text-align: right;\n",
       "    }\n",
       "</style>\n",
       "<table border=\"1\" class=\"dataframe\">\n",
       "  <thead>\n",
       "    <tr style=\"text-align: right;\">\n",
       "      <th></th>\n",
       "      <th>stop_date</th>\n",
       "      <th>stop_time</th>\n",
       "      <th>driver_gender</th>\n",
       "      <th>driver_age_raw</th>\n",
       "      <th>driver_age</th>\n",
       "      <th>driver_race</th>\n",
       "      <th>violation_raw</th>\n",
       "      <th>violation</th>\n",
       "      <th>search_conducted</th>\n",
       "      <th>search_type</th>\n",
       "      <th>stop_outcome</th>\n",
       "      <th>is_arrested</th>\n",
       "      <th>stop_duration</th>\n",
       "      <th>drugs_related_stop</th>\n",
       "      <th>year</th>\n",
       "      <th>month</th>\n",
       "      <th>day</th>\n",
       "    </tr>\n",
       "  </thead>\n",
       "  <tbody>\n",
       "    <tr>\n",
       "      <th>0</th>\n",
       "      <td>2005-01-02</td>\n",
       "      <td>01:55</td>\n",
       "      <td>M</td>\n",
       "      <td>1985.0</td>\n",
       "      <td>20.0</td>\n",
       "      <td>White</td>\n",
       "      <td>Speeding</td>\n",
       "      <td>Speeding</td>\n",
       "      <td>False</td>\n",
       "      <td>NaN</td>\n",
       "      <td>Citation</td>\n",
       "      <td>False</td>\n",
       "      <td>0-15 Min</td>\n",
       "      <td>False</td>\n",
       "      <td>2005</td>\n",
       "      <td>1</td>\n",
       "      <td>2</td>\n",
       "    </tr>\n",
       "    <tr>\n",
       "      <th>1</th>\n",
       "      <td>2005-01-18</td>\n",
       "      <td>08:15</td>\n",
       "      <td>M</td>\n",
       "      <td>1965.0</td>\n",
       "      <td>40.0</td>\n",
       "      <td>White</td>\n",
       "      <td>Speeding</td>\n",
       "      <td>Speeding</td>\n",
       "      <td>False</td>\n",
       "      <td>NaN</td>\n",
       "      <td>Citation</td>\n",
       "      <td>False</td>\n",
       "      <td>0-15 Min</td>\n",
       "      <td>False</td>\n",
       "      <td>2005</td>\n",
       "      <td>1</td>\n",
       "      <td>18</td>\n",
       "    </tr>\n",
       "    <tr>\n",
       "      <th>2</th>\n",
       "      <td>2005-01-23</td>\n",
       "      <td>23:15</td>\n",
       "      <td>M</td>\n",
       "      <td>1972.0</td>\n",
       "      <td>33.0</td>\n",
       "      <td>White</td>\n",
       "      <td>Speeding</td>\n",
       "      <td>Speeding</td>\n",
       "      <td>False</td>\n",
       "      <td>NaN</td>\n",
       "      <td>Citation</td>\n",
       "      <td>False</td>\n",
       "      <td>0-15 Min</td>\n",
       "      <td>False</td>\n",
       "      <td>2005</td>\n",
       "      <td>1</td>\n",
       "      <td>23</td>\n",
       "    </tr>\n",
       "    <tr>\n",
       "      <th>4</th>\n",
       "      <td>2005-03-14</td>\n",
       "      <td>10:00</td>\n",
       "      <td>F</td>\n",
       "      <td>1984.0</td>\n",
       "      <td>21.0</td>\n",
       "      <td>White</td>\n",
       "      <td>Speeding</td>\n",
       "      <td>Speeding</td>\n",
       "      <td>False</td>\n",
       "      <td>NaN</td>\n",
       "      <td>Citation</td>\n",
       "      <td>False</td>\n",
       "      <td>0-15 Min</td>\n",
       "      <td>False</td>\n",
       "      <td>2005</td>\n",
       "      <td>3</td>\n",
       "      <td>14</td>\n",
       "    </tr>\n",
       "    <tr>\n",
       "      <th>6</th>\n",
       "      <td>2005-04-01</td>\n",
       "      <td>17:30</td>\n",
       "      <td>M</td>\n",
       "      <td>1969.0</td>\n",
       "      <td>36.0</td>\n",
       "      <td>White</td>\n",
       "      <td>Speeding</td>\n",
       "      <td>Speeding</td>\n",
       "      <td>False</td>\n",
       "      <td>NaN</td>\n",
       "      <td>Citation</td>\n",
       "      <td>False</td>\n",
       "      <td>0-15 Min</td>\n",
       "      <td>False</td>\n",
       "      <td>2005</td>\n",
       "      <td>4</td>\n",
       "      <td>1</td>\n",
       "    </tr>\n",
       "    <tr>\n",
       "      <th>...</th>\n",
       "      <td>...</td>\n",
       "      <td>...</td>\n",
       "      <td>...</td>\n",
       "      <td>...</td>\n",
       "      <td>...</td>\n",
       "      <td>...</td>\n",
       "      <td>...</td>\n",
       "      <td>...</td>\n",
       "      <td>...</td>\n",
       "      <td>...</td>\n",
       "      <td>...</td>\n",
       "      <td>...</td>\n",
       "      <td>...</td>\n",
       "      <td>...</td>\n",
       "      <td>...</td>\n",
       "      <td>...</td>\n",
       "      <td>...</td>\n",
       "    </tr>\n",
       "    <tr>\n",
       "      <th>91734</th>\n",
       "      <td>2015-12-31</td>\n",
       "      <td>20:20</td>\n",
       "      <td>M</td>\n",
       "      <td>1993.0</td>\n",
       "      <td>22.0</td>\n",
       "      <td>White</td>\n",
       "      <td>Speeding</td>\n",
       "      <td>Speeding</td>\n",
       "      <td>False</td>\n",
       "      <td>NaN</td>\n",
       "      <td>Citation</td>\n",
       "      <td>False</td>\n",
       "      <td>0-15 Min</td>\n",
       "      <td>False</td>\n",
       "      <td>2015</td>\n",
       "      <td>12</td>\n",
       "      <td>31</td>\n",
       "    </tr>\n",
       "    <tr>\n",
       "      <th>91735</th>\n",
       "      <td>2015-12-31</td>\n",
       "      <td>20:25</td>\n",
       "      <td>M</td>\n",
       "      <td>1992.0</td>\n",
       "      <td>23.0</td>\n",
       "      <td>Hispanic</td>\n",
       "      <td>Speeding</td>\n",
       "      <td>Speeding</td>\n",
       "      <td>False</td>\n",
       "      <td>NaN</td>\n",
       "      <td>Citation</td>\n",
       "      <td>False</td>\n",
       "      <td>0-15 Min</td>\n",
       "      <td>False</td>\n",
       "      <td>2015</td>\n",
       "      <td>12</td>\n",
       "      <td>31</td>\n",
       "    </tr>\n",
       "    <tr>\n",
       "      <th>91736</th>\n",
       "      <td>2015-12-31</td>\n",
       "      <td>20:27</td>\n",
       "      <td>M</td>\n",
       "      <td>1986.0</td>\n",
       "      <td>29.0</td>\n",
       "      <td>White</td>\n",
       "      <td>Speeding</td>\n",
       "      <td>Speeding</td>\n",
       "      <td>False</td>\n",
       "      <td>NaN</td>\n",
       "      <td>Warning</td>\n",
       "      <td>False</td>\n",
       "      <td>0-15 Min</td>\n",
       "      <td>False</td>\n",
       "      <td>2015</td>\n",
       "      <td>12</td>\n",
       "      <td>31</td>\n",
       "    </tr>\n",
       "    <tr>\n",
       "      <th>91739</th>\n",
       "      <td>2015-12-31</td>\n",
       "      <td>21:42</td>\n",
       "      <td>M</td>\n",
       "      <td>1993.0</td>\n",
       "      <td>22.0</td>\n",
       "      <td>White</td>\n",
       "      <td>Speeding</td>\n",
       "      <td>Speeding</td>\n",
       "      <td>False</td>\n",
       "      <td>NaN</td>\n",
       "      <td>Citation</td>\n",
       "      <td>False</td>\n",
       "      <td>0-15 Min</td>\n",
       "      <td>False</td>\n",
       "      <td>2015</td>\n",
       "      <td>12</td>\n",
       "      <td>31</td>\n",
       "    </tr>\n",
       "    <tr>\n",
       "      <th>91740</th>\n",
       "      <td>2015-12-31</td>\n",
       "      <td>22:46</td>\n",
       "      <td>M</td>\n",
       "      <td>1959.0</td>\n",
       "      <td>56.0</td>\n",
       "      <td>Hispanic</td>\n",
       "      <td>Speeding</td>\n",
       "      <td>Speeding</td>\n",
       "      <td>False</td>\n",
       "      <td>NaN</td>\n",
       "      <td>Citation</td>\n",
       "      <td>False</td>\n",
       "      <td>0-15 Min</td>\n",
       "      <td>False</td>\n",
       "      <td>2015</td>\n",
       "      <td>12</td>\n",
       "      <td>31</td>\n",
       "    </tr>\n",
       "  </tbody>\n",
       "</table>\n",
       "<p>53796 rows × 17 columns</p>\n",
       "</div>"
      ],
      "text/plain": [
       "       stop_date stop_time driver_gender  driver_age_raw  driver_age  \\\n",
       "0     2005-01-02     01:55             M          1985.0        20.0   \n",
       "1     2005-01-18     08:15             M          1965.0        40.0   \n",
       "2     2005-01-23     23:15             M          1972.0        33.0   \n",
       "4     2005-03-14     10:00             F          1984.0        21.0   \n",
       "6     2005-04-01     17:30             M          1969.0        36.0   \n",
       "...          ...       ...           ...             ...         ...   \n",
       "91734 2015-12-31     20:20             M          1993.0        22.0   \n",
       "91735 2015-12-31     20:25             M          1992.0        23.0   \n",
       "91736 2015-12-31     20:27             M          1986.0        29.0   \n",
       "91739 2015-12-31     21:42             M          1993.0        22.0   \n",
       "91740 2015-12-31     22:46             M          1959.0        56.0   \n",
       "\n",
       "      driver_race violation_raw violation  search_conducted search_type  \\\n",
       "0           White      Speeding  Speeding             False         NaN   \n",
       "1           White      Speeding  Speeding             False         NaN   \n",
       "2           White      Speeding  Speeding             False         NaN   \n",
       "4           White      Speeding  Speeding             False         NaN   \n",
       "6           White      Speeding  Speeding             False         NaN   \n",
       "...           ...           ...       ...               ...         ...   \n",
       "91734       White      Speeding  Speeding             False         NaN   \n",
       "91735    Hispanic      Speeding  Speeding             False         NaN   \n",
       "91736       White      Speeding  Speeding             False         NaN   \n",
       "91739       White      Speeding  Speeding             False         NaN   \n",
       "91740    Hispanic      Speeding  Speeding             False         NaN   \n",
       "\n",
       "      stop_outcome  is_arrested stop_duration  drugs_related_stop  year  \\\n",
       "0         Citation        False      0-15 Min               False  2005   \n",
       "1         Citation        False      0-15 Min               False  2005   \n",
       "2         Citation        False      0-15 Min               False  2005   \n",
       "4         Citation        False      0-15 Min               False  2005   \n",
       "6         Citation        False      0-15 Min               False  2005   \n",
       "...            ...          ...           ...                 ...   ...   \n",
       "91734     Citation        False      0-15 Min               False  2015   \n",
       "91735     Citation        False      0-15 Min               False  2015   \n",
       "91736      Warning        False      0-15 Min               False  2015   \n",
       "91739     Citation        False      0-15 Min               False  2015   \n",
       "91740     Citation        False      0-15 Min               False  2015   \n",
       "\n",
       "       month  day  \n",
       "0          1    2  \n",
       "1          1   18  \n",
       "2          1   23  \n",
       "4          3   14  \n",
       "6          4    1  \n",
       "...      ...  ...  \n",
       "91734     12   31  \n",
       "91735     12   31  \n",
       "91736     12   31  \n",
       "91739     12   31  \n",
       "91740     12   31  \n",
       "\n",
       "[53796 rows x 17 columns]"
      ]
     },
     "execution_count": 22,
     "metadata": {},
     "output_type": "execute_result"
    }
   ],
   "source": [
    "df[(df['violation'] == 'Speeding')]"
   ]
  },
  {
   "cell_type": "code",
   "execution_count": 23,
   "id": "9d07c572-f1f7-40a1-877e-2f3a4d2cc079",
   "metadata": {},
   "outputs": [
    {
     "data": {
      "text/plain": [
       "driver_gender\n",
       "M    38314\n",
       "F    15482\n",
       "Name: count, dtype: int64"
      ]
     },
     "execution_count": 23,
     "metadata": {},
     "output_type": "execute_result"
    }
   ],
   "source": [
    "df[(df['violation'] == 'Speeding')]['driver_gender'].value_counts()"
   ]
  },
  {
   "cell_type": "markdown",
   "id": "dd2f18f4-249d-4f89-8c9c-e4d74d3bf289",
   "metadata": {},
   "source": [
    "# Does gender affect who gets searched during a stop ?"
   ]
  },
  {
   "cell_type": "code",
   "execution_count": 24,
   "id": "0184eecb-c59c-42bd-ba70-c285786f87d9",
   "metadata": {},
   "outputs": [
    {
     "data": {
      "text/plain": [
       "driver_gender\n",
       "F     471\n",
       "M    2725\n",
       "Name: search_conducted, dtype: int64"
      ]
     },
     "execution_count": 24,
     "metadata": {},
     "output_type": "execute_result"
    }
   ],
   "source": [
    "df.groupby('driver_gender')['search_conducted'].sum()"
   ]
  },
  {
   "cell_type": "code",
   "execution_count": 25,
   "id": "0af44ef0-81ef-4dfa-85d3-83137db5483a",
   "metadata": {},
   "outputs": [
    {
     "data": {
      "text/plain": [
       "search_conducted\n",
       "False    88545\n",
       "True      3196\n",
       "Name: count, dtype: int64"
      ]
     },
     "execution_count": 25,
     "metadata": {},
     "output_type": "execute_result"
    }
   ],
   "source": [
    "df['search_conducted'].value_counts()"
   ]
  },
  {
   "cell_type": "markdown",
   "id": "52539bc3-bdca-4db5-9d77-af711505c969",
   "metadata": {},
   "source": [
    "# Mean stop_duration"
   ]
  },
  {
   "cell_type": "code",
   "execution_count": 26,
   "id": "21a06de3-c1ea-4e01-8949-ef249cfc6344",
   "metadata": {},
   "outputs": [
    {
     "data": {
      "text/html": [
       "<div>\n",
       "<style scoped>\n",
       "    .dataframe tbody tr th:only-of-type {\n",
       "        vertical-align: middle;\n",
       "    }\n",
       "\n",
       "    .dataframe tbody tr th {\n",
       "        vertical-align: top;\n",
       "    }\n",
       "\n",
       "    .dataframe thead th {\n",
       "        text-align: right;\n",
       "    }\n",
       "</style>\n",
       "<table border=\"1\" class=\"dataframe\">\n",
       "  <thead>\n",
       "    <tr style=\"text-align: right;\">\n",
       "      <th></th>\n",
       "      <th>stop_date</th>\n",
       "      <th>stop_time</th>\n",
       "      <th>driver_gender</th>\n",
       "      <th>driver_age_raw</th>\n",
       "      <th>driver_age</th>\n",
       "      <th>driver_race</th>\n",
       "      <th>violation_raw</th>\n",
       "      <th>violation</th>\n",
       "      <th>search_conducted</th>\n",
       "      <th>search_type</th>\n",
       "      <th>stop_outcome</th>\n",
       "      <th>is_arrested</th>\n",
       "      <th>stop_duration</th>\n",
       "      <th>drugs_related_stop</th>\n",
       "      <th>year</th>\n",
       "      <th>month</th>\n",
       "      <th>day</th>\n",
       "    </tr>\n",
       "  </thead>\n",
       "  <tbody>\n",
       "    <tr>\n",
       "      <th>0</th>\n",
       "      <td>2005-01-02</td>\n",
       "      <td>01:55</td>\n",
       "      <td>M</td>\n",
       "      <td>1985.0</td>\n",
       "      <td>20.0</td>\n",
       "      <td>White</td>\n",
       "      <td>Speeding</td>\n",
       "      <td>Speeding</td>\n",
       "      <td>False</td>\n",
       "      <td>NaN</td>\n",
       "      <td>Citation</td>\n",
       "      <td>False</td>\n",
       "      <td>0-15 Min</td>\n",
       "      <td>False</td>\n",
       "      <td>2005</td>\n",
       "      <td>1</td>\n",
       "      <td>2</td>\n",
       "    </tr>\n",
       "    <tr>\n",
       "      <th>1</th>\n",
       "      <td>2005-01-18</td>\n",
       "      <td>08:15</td>\n",
       "      <td>M</td>\n",
       "      <td>1965.0</td>\n",
       "      <td>40.0</td>\n",
       "      <td>White</td>\n",
       "      <td>Speeding</td>\n",
       "      <td>Speeding</td>\n",
       "      <td>False</td>\n",
       "      <td>NaN</td>\n",
       "      <td>Citation</td>\n",
       "      <td>False</td>\n",
       "      <td>0-15 Min</td>\n",
       "      <td>False</td>\n",
       "      <td>2005</td>\n",
       "      <td>1</td>\n",
       "      <td>18</td>\n",
       "    </tr>\n",
       "    <tr>\n",
       "      <th>2</th>\n",
       "      <td>2005-01-23</td>\n",
       "      <td>23:15</td>\n",
       "      <td>M</td>\n",
       "      <td>1972.0</td>\n",
       "      <td>33.0</td>\n",
       "      <td>White</td>\n",
       "      <td>Speeding</td>\n",
       "      <td>Speeding</td>\n",
       "      <td>False</td>\n",
       "      <td>NaN</td>\n",
       "      <td>Citation</td>\n",
       "      <td>False</td>\n",
       "      <td>0-15 Min</td>\n",
       "      <td>False</td>\n",
       "      <td>2005</td>\n",
       "      <td>1</td>\n",
       "      <td>23</td>\n",
       "    </tr>\n",
       "  </tbody>\n",
       "</table>\n",
       "</div>"
      ],
      "text/plain": [
       "   stop_date stop_time driver_gender  driver_age_raw  driver_age driver_race  \\\n",
       "0 2005-01-02     01:55             M          1985.0        20.0       White   \n",
       "1 2005-01-18     08:15             M          1965.0        40.0       White   \n",
       "2 2005-01-23     23:15             M          1972.0        33.0       White   \n",
       "\n",
       "  violation_raw violation  search_conducted search_type stop_outcome  \\\n",
       "0      Speeding  Speeding             False         NaN     Citation   \n",
       "1      Speeding  Speeding             False         NaN     Citation   \n",
       "2      Speeding  Speeding             False         NaN     Citation   \n",
       "\n",
       "   is_arrested stop_duration  drugs_related_stop  year  month  day  \n",
       "0        False      0-15 Min               False  2005      1    2  \n",
       "1        False      0-15 Min               False  2005      1   18  \n",
       "2        False      0-15 Min               False  2005      1   23  "
      ]
     },
     "execution_count": 26,
     "metadata": {},
     "output_type": "execute_result"
    }
   ],
   "source": [
    "# check df\n",
    "df.head(3)"
   ]
  },
  {
   "cell_type": "code",
   "execution_count": 27,
   "id": "dd48f35f-7a68-4651-8db3-cceb96f6498f",
   "metadata": {},
   "outputs": [
    {
     "data": {
      "text/plain": [
       "stop_duration\n",
       "0-15 Min     69543\n",
       "16-30 Min    13635\n",
       "30+ Min       3228\n",
       "2                1\n",
       "1                1\n",
       "Name: count, dtype: int64"
      ]
     },
     "execution_count": 27,
     "metadata": {},
     "output_type": "execute_result"
    }
   ],
   "source": [
    "# check stop_duration values\n",
    "df['stop_duration'].value_counts()"
   ]
  },
  {
   "cell_type": "code",
   "execution_count": 28,
   "id": "f5c24290-058f-476b-a58e-732a4fbd5793",
   "metadata": {},
   "outputs": [],
   "source": [
    "df['stop_duration'] = df['stop_duration'].map({'0-15 Min': 7.5, '16-30 Min': 24, '30+ Min' : 45})"
   ]
  },
  {
   "cell_type": "code",
   "execution_count": 29,
   "id": "cb574144-21b4-4156-a12b-4423ac26aa57",
   "metadata": {},
   "outputs": [
    {
     "data": {
      "text/html": [
       "<div>\n",
       "<style scoped>\n",
       "    .dataframe tbody tr th:only-of-type {\n",
       "        vertical-align: middle;\n",
       "    }\n",
       "\n",
       "    .dataframe tbody tr th {\n",
       "        vertical-align: top;\n",
       "    }\n",
       "\n",
       "    .dataframe thead th {\n",
       "        text-align: right;\n",
       "    }\n",
       "</style>\n",
       "<table border=\"1\" class=\"dataframe\">\n",
       "  <thead>\n",
       "    <tr style=\"text-align: right;\">\n",
       "      <th></th>\n",
       "      <th>stop_date</th>\n",
       "      <th>stop_time</th>\n",
       "      <th>driver_gender</th>\n",
       "      <th>driver_age_raw</th>\n",
       "      <th>driver_age</th>\n",
       "      <th>driver_race</th>\n",
       "      <th>violation_raw</th>\n",
       "      <th>violation</th>\n",
       "      <th>search_conducted</th>\n",
       "      <th>search_type</th>\n",
       "      <th>stop_outcome</th>\n",
       "      <th>is_arrested</th>\n",
       "      <th>stop_duration</th>\n",
       "      <th>drugs_related_stop</th>\n",
       "      <th>year</th>\n",
       "      <th>month</th>\n",
       "      <th>day</th>\n",
       "    </tr>\n",
       "  </thead>\n",
       "  <tbody>\n",
       "    <tr>\n",
       "      <th>0</th>\n",
       "      <td>2005-01-02</td>\n",
       "      <td>01:55</td>\n",
       "      <td>M</td>\n",
       "      <td>1985.0</td>\n",
       "      <td>20.0</td>\n",
       "      <td>White</td>\n",
       "      <td>Speeding</td>\n",
       "      <td>Speeding</td>\n",
       "      <td>False</td>\n",
       "      <td>NaN</td>\n",
       "      <td>Citation</td>\n",
       "      <td>False</td>\n",
       "      <td>7.5</td>\n",
       "      <td>False</td>\n",
       "      <td>2005</td>\n",
       "      <td>1</td>\n",
       "      <td>2</td>\n",
       "    </tr>\n",
       "    <tr>\n",
       "      <th>1</th>\n",
       "      <td>2005-01-18</td>\n",
       "      <td>08:15</td>\n",
       "      <td>M</td>\n",
       "      <td>1965.0</td>\n",
       "      <td>40.0</td>\n",
       "      <td>White</td>\n",
       "      <td>Speeding</td>\n",
       "      <td>Speeding</td>\n",
       "      <td>False</td>\n",
       "      <td>NaN</td>\n",
       "      <td>Citation</td>\n",
       "      <td>False</td>\n",
       "      <td>7.5</td>\n",
       "      <td>False</td>\n",
       "      <td>2005</td>\n",
       "      <td>1</td>\n",
       "      <td>18</td>\n",
       "    </tr>\n",
       "    <tr>\n",
       "      <th>2</th>\n",
       "      <td>2005-01-23</td>\n",
       "      <td>23:15</td>\n",
       "      <td>M</td>\n",
       "      <td>1972.0</td>\n",
       "      <td>33.0</td>\n",
       "      <td>White</td>\n",
       "      <td>Speeding</td>\n",
       "      <td>Speeding</td>\n",
       "      <td>False</td>\n",
       "      <td>NaN</td>\n",
       "      <td>Citation</td>\n",
       "      <td>False</td>\n",
       "      <td>7.5</td>\n",
       "      <td>False</td>\n",
       "      <td>2005</td>\n",
       "      <td>1</td>\n",
       "      <td>23</td>\n",
       "    </tr>\n",
       "    <tr>\n",
       "      <th>3</th>\n",
       "      <td>2005-02-20</td>\n",
       "      <td>17:15</td>\n",
       "      <td>M</td>\n",
       "      <td>1986.0</td>\n",
       "      <td>19.0</td>\n",
       "      <td>White</td>\n",
       "      <td>Call for Service</td>\n",
       "      <td>Other</td>\n",
       "      <td>False</td>\n",
       "      <td>NaN</td>\n",
       "      <td>Arrest Driver</td>\n",
       "      <td>True</td>\n",
       "      <td>24.0</td>\n",
       "      <td>False</td>\n",
       "      <td>2005</td>\n",
       "      <td>2</td>\n",
       "      <td>20</td>\n",
       "    </tr>\n",
       "    <tr>\n",
       "      <th>4</th>\n",
       "      <td>2005-03-14</td>\n",
       "      <td>10:00</td>\n",
       "      <td>F</td>\n",
       "      <td>1984.0</td>\n",
       "      <td>21.0</td>\n",
       "      <td>White</td>\n",
       "      <td>Speeding</td>\n",
       "      <td>Speeding</td>\n",
       "      <td>False</td>\n",
       "      <td>NaN</td>\n",
       "      <td>Citation</td>\n",
       "      <td>False</td>\n",
       "      <td>7.5</td>\n",
       "      <td>False</td>\n",
       "      <td>2005</td>\n",
       "      <td>3</td>\n",
       "      <td>14</td>\n",
       "    </tr>\n",
       "  </tbody>\n",
       "</table>\n",
       "</div>"
      ],
      "text/plain": [
       "   stop_date stop_time driver_gender  driver_age_raw  driver_age driver_race  \\\n",
       "0 2005-01-02     01:55             M          1985.0        20.0       White   \n",
       "1 2005-01-18     08:15             M          1965.0        40.0       White   \n",
       "2 2005-01-23     23:15             M          1972.0        33.0       White   \n",
       "3 2005-02-20     17:15             M          1986.0        19.0       White   \n",
       "4 2005-03-14     10:00             F          1984.0        21.0       White   \n",
       "\n",
       "      violation_raw violation  search_conducted search_type   stop_outcome  \\\n",
       "0          Speeding  Speeding             False         NaN       Citation   \n",
       "1          Speeding  Speeding             False         NaN       Citation   \n",
       "2          Speeding  Speeding             False         NaN       Citation   \n",
       "3  Call for Service     Other             False         NaN  Arrest Driver   \n",
       "4          Speeding  Speeding             False         NaN       Citation   \n",
       "\n",
       "   is_arrested  stop_duration  drugs_related_stop  year  month  day  \n",
       "0        False            7.5               False  2005      1    2  \n",
       "1        False            7.5               False  2005      1   18  \n",
       "2        False            7.5               False  2005      1   23  \n",
       "3         True           24.0               False  2005      2   20  \n",
       "4        False            7.5               False  2005      3   14  "
      ]
     },
     "execution_count": 29,
     "metadata": {},
     "output_type": "execute_result"
    }
   ],
   "source": [
    "df.head()"
   ]
  },
  {
   "cell_type": "code",
   "execution_count": 30,
   "id": "d9f90320-354a-41df-be67-458281ef5d91",
   "metadata": {},
   "outputs": [
    {
     "data": {
      "text/plain": [
       "11.504669814596209"
      ]
     },
     "execution_count": 30,
     "metadata": {},
     "output_type": "execute_result"
    }
   ],
   "source": [
    "df['stop_duration'].mean()"
   ]
  },
  {
   "cell_type": "markdown",
   "id": "2edcaea7-2ea6-4ada-9ebe-97d89ef4e17a",
   "metadata": {},
   "source": [
    "# Age Distribution for each violation"
   ]
  },
  {
   "cell_type": "code",
   "execution_count": 31,
   "id": "7a9dfd98-ca78-47ca-ac32-9bb51a125682",
   "metadata": {},
   "outputs": [
    {
     "data": {
      "text/html": [
       "<div>\n",
       "<style scoped>\n",
       "    .dataframe tbody tr th:only-of-type {\n",
       "        vertical-align: middle;\n",
       "    }\n",
       "\n",
       "    .dataframe tbody tr th {\n",
       "        vertical-align: top;\n",
       "    }\n",
       "\n",
       "    .dataframe thead th {\n",
       "        text-align: right;\n",
       "    }\n",
       "</style>\n",
       "<table border=\"1\" class=\"dataframe\">\n",
       "  <thead>\n",
       "    <tr style=\"text-align: right;\">\n",
       "      <th></th>\n",
       "      <th>count</th>\n",
       "      <th>mean</th>\n",
       "      <th>std</th>\n",
       "      <th>min</th>\n",
       "      <th>25%</th>\n",
       "      <th>50%</th>\n",
       "      <th>75%</th>\n",
       "      <th>max</th>\n",
       "    </tr>\n",
       "    <tr>\n",
       "      <th>violation</th>\n",
       "      <th></th>\n",
       "      <th></th>\n",
       "      <th></th>\n",
       "      <th></th>\n",
       "      <th></th>\n",
       "      <th></th>\n",
       "      <th></th>\n",
       "      <th></th>\n",
       "    </tr>\n",
       "  </thead>\n",
       "  <tbody>\n",
       "    <tr>\n",
       "      <th>Equipment</th>\n",
       "      <td>11020.0</td>\n",
       "      <td>31.784133</td>\n",
       "      <td>11.394429</td>\n",
       "      <td>16.0</td>\n",
       "      <td>23.0</td>\n",
       "      <td>28.0</td>\n",
       "      <td>38.0</td>\n",
       "      <td>89.0</td>\n",
       "    </tr>\n",
       "    <tr>\n",
       "      <th>Moving violation</th>\n",
       "      <td>16224.0</td>\n",
       "      <td>36.112221</td>\n",
       "      <td>13.162021</td>\n",
       "      <td>15.0</td>\n",
       "      <td>25.0</td>\n",
       "      <td>34.0</td>\n",
       "      <td>46.0</td>\n",
       "      <td>99.0</td>\n",
       "    </tr>\n",
       "    <tr>\n",
       "      <th>Other</th>\n",
       "      <td>4317.0</td>\n",
       "      <td>39.392235</td>\n",
       "      <td>12.893097</td>\n",
       "      <td>16.0</td>\n",
       "      <td>28.0</td>\n",
       "      <td>39.0</td>\n",
       "      <td>49.0</td>\n",
       "      <td>87.0</td>\n",
       "    </tr>\n",
       "    <tr>\n",
       "      <th>Registration/plates</th>\n",
       "      <td>3432.0</td>\n",
       "      <td>32.804795</td>\n",
       "      <td>11.025729</td>\n",
       "      <td>16.0</td>\n",
       "      <td>24.0</td>\n",
       "      <td>30.0</td>\n",
       "      <td>40.0</td>\n",
       "      <td>74.0</td>\n",
       "    </tr>\n",
       "    <tr>\n",
       "      <th>Seat belt</th>\n",
       "      <td>2952.0</td>\n",
       "      <td>32.206301</td>\n",
       "      <td>11.213122</td>\n",
       "      <td>17.0</td>\n",
       "      <td>24.0</td>\n",
       "      <td>29.0</td>\n",
       "      <td>38.0</td>\n",
       "      <td>77.0</td>\n",
       "    </tr>\n",
       "    <tr>\n",
       "      <th>Speeding</th>\n",
       "      <td>53796.0</td>\n",
       "      <td>33.578194</td>\n",
       "      <td>12.158117</td>\n",
       "      <td>15.0</td>\n",
       "      <td>24.0</td>\n",
       "      <td>32.0</td>\n",
       "      <td>40.0</td>\n",
       "      <td>90.0</td>\n",
       "    </tr>\n",
       "  </tbody>\n",
       "</table>\n",
       "</div>"
      ],
      "text/plain": [
       "                       count       mean        std   min   25%   50%   75%  \\\n",
       "violation                                                                    \n",
       "Equipment            11020.0  31.784133  11.394429  16.0  23.0  28.0  38.0   \n",
       "Moving violation     16224.0  36.112221  13.162021  15.0  25.0  34.0  46.0   \n",
       "Other                 4317.0  39.392235  12.893097  16.0  28.0  39.0  49.0   \n",
       "Registration/plates   3432.0  32.804795  11.025729  16.0  24.0  30.0  40.0   \n",
       "Seat belt             2952.0  32.206301  11.213122  17.0  24.0  29.0  38.0   \n",
       "Speeding             53796.0  33.578194  12.158117  15.0  24.0  32.0  40.0   \n",
       "\n",
       "                      max  \n",
       "violation                  \n",
       "Equipment            89.0  \n",
       "Moving violation     99.0  \n",
       "Other                87.0  \n",
       "Registration/plates  74.0  \n",
       "Seat belt            77.0  \n",
       "Speeding             90.0  "
      ]
     },
     "execution_count": 31,
     "metadata": {},
     "output_type": "execute_result"
    }
   ],
   "source": [
    "df.groupby('violation')['driver_age'].describe()"
   ]
  },
  {
   "cell_type": "markdown",
   "id": "a5d8f1a6-b0a7-471b-925a-72a869521904",
   "metadata": {},
   "source": [
    "# Cross-tabulation for categorical variables"
   ]
  },
  {
   "cell_type": "code",
   "execution_count": 32,
   "id": "b85142eb-1419-4ecc-8af3-3ea0d7e0624a",
   "metadata": {},
   "outputs": [
    {
     "data": {
      "text/html": [
       "<div>\n",
       "<style scoped>\n",
       "    .dataframe tbody tr th:only-of-type {\n",
       "        vertical-align: middle;\n",
       "    }\n",
       "\n",
       "    .dataframe tbody tr th {\n",
       "        vertical-align: top;\n",
       "    }\n",
       "\n",
       "    .dataframe thead th {\n",
       "        text-align: right;\n",
       "    }\n",
       "</style>\n",
       "<table border=\"1\" class=\"dataframe\">\n",
       "  <thead>\n",
       "    <tr style=\"text-align: right;\">\n",
       "      <th>violation</th>\n",
       "      <th>Equipment</th>\n",
       "      <th>Moving violation</th>\n",
       "      <th>Other</th>\n",
       "      <th>Registration/plates</th>\n",
       "      <th>Seat belt</th>\n",
       "      <th>Speeding</th>\n",
       "    </tr>\n",
       "    <tr>\n",
       "      <th>driver_gender</th>\n",
       "      <th></th>\n",
       "      <th></th>\n",
       "      <th></th>\n",
       "      <th></th>\n",
       "      <th></th>\n",
       "      <th></th>\n",
       "    </tr>\n",
       "  </thead>\n",
       "  <tbody>\n",
       "    <tr>\n",
       "      <th>F</th>\n",
       "      <td>2487</td>\n",
       "      <td>3204</td>\n",
       "      <td>690</td>\n",
       "      <td>1013</td>\n",
       "      <td>635</td>\n",
       "      <td>15482</td>\n",
       "    </tr>\n",
       "    <tr>\n",
       "      <th>M</th>\n",
       "      <td>8533</td>\n",
       "      <td>13020</td>\n",
       "      <td>3627</td>\n",
       "      <td>2419</td>\n",
       "      <td>2317</td>\n",
       "      <td>38314</td>\n",
       "    </tr>\n",
       "  </tbody>\n",
       "</table>\n",
       "</div>"
      ],
      "text/plain": [
       "violation      Equipment  Moving violation  Other  Registration/plates  \\\n",
       "driver_gender                                                            \n",
       "F                   2487              3204    690                 1013   \n",
       "M                   8533             13020   3627                 2419   \n",
       "\n",
       "violation      Seat belt  Speeding  \n",
       "driver_gender                       \n",
       "F                    635     15482  \n",
       "M                   2317     38314  "
      ]
     },
     "execution_count": 32,
     "metadata": {},
     "output_type": "execute_result"
    }
   ],
   "source": [
    "cross_tab = pd.crosstab(df['driver_gender'], df['violation'])\n",
    "cross_tab"
   ]
  },
  {
   "cell_type": "markdown",
   "id": "4ec6074f-6987-4c2c-9050-0ba443b26c50",
   "metadata": {},
   "source": [
    "# Visualization"
   ]
  },
  {
   "cell_type": "code",
   "execution_count": 33,
   "id": "c89f981a-5e24-4278-92ba-22c35c418bba",
   "metadata": {},
   "outputs": [
    {
     "data": {
      "text/html": [
       "<div>\n",
       "<style scoped>\n",
       "    .dataframe tbody tr th:only-of-type {\n",
       "        vertical-align: middle;\n",
       "    }\n",
       "\n",
       "    .dataframe tbody tr th {\n",
       "        vertical-align: top;\n",
       "    }\n",
       "\n",
       "    .dataframe thead th {\n",
       "        text-align: right;\n",
       "    }\n",
       "</style>\n",
       "<table border=\"1\" class=\"dataframe\">\n",
       "  <thead>\n",
       "    <tr style=\"text-align: right;\">\n",
       "      <th></th>\n",
       "      <th>driver_age_raw</th>\n",
       "      <th>driver_age</th>\n",
       "      <th>stop_duration</th>\n",
       "      <th>year</th>\n",
       "      <th>month</th>\n",
       "      <th>day</th>\n",
       "    </tr>\n",
       "  </thead>\n",
       "  <tbody>\n",
       "    <tr>\n",
       "      <th>driver_age_raw</th>\n",
       "      <td>1.000000</td>\n",
       "      <td>-0.114335</td>\n",
       "      <td>-0.015753</td>\n",
       "      <td>0.043111</td>\n",
       "      <td>-0.001013</td>\n",
       "      <td>-0.001296</td>\n",
       "    </tr>\n",
       "    <tr>\n",
       "      <th>driver_age</th>\n",
       "      <td>-0.114335</td>\n",
       "      <td>1.000000</td>\n",
       "      <td>0.037389</td>\n",
       "      <td>0.011345</td>\n",
       "      <td>-0.019545</td>\n",
       "      <td>-0.001205</td>\n",
       "    </tr>\n",
       "    <tr>\n",
       "      <th>stop_duration</th>\n",
       "      <td>-0.015753</td>\n",
       "      <td>0.037389</td>\n",
       "      <td>1.000000</td>\n",
       "      <td>-0.088860</td>\n",
       "      <td>-0.008704</td>\n",
       "      <td>-0.005260</td>\n",
       "    </tr>\n",
       "    <tr>\n",
       "      <th>year</th>\n",
       "      <td>0.043111</td>\n",
       "      <td>0.011345</td>\n",
       "      <td>-0.088860</td>\n",
       "      <td>1.000000</td>\n",
       "      <td>-0.059881</td>\n",
       "      <td>0.008359</td>\n",
       "    </tr>\n",
       "    <tr>\n",
       "      <th>month</th>\n",
       "      <td>-0.001013</td>\n",
       "      <td>-0.019545</td>\n",
       "      <td>-0.008704</td>\n",
       "      <td>-0.059881</td>\n",
       "      <td>1.000000</td>\n",
       "      <td>-0.003176</td>\n",
       "    </tr>\n",
       "    <tr>\n",
       "      <th>day</th>\n",
       "      <td>-0.001296</td>\n",
       "      <td>-0.001205</td>\n",
       "      <td>-0.005260</td>\n",
       "      <td>0.008359</td>\n",
       "      <td>-0.003176</td>\n",
       "      <td>1.000000</td>\n",
       "    </tr>\n",
       "  </tbody>\n",
       "</table>\n",
       "</div>"
      ],
      "text/plain": [
       "                driver_age_raw  driver_age  stop_duration      year     month  \\\n",
       "driver_age_raw        1.000000   -0.114335      -0.015753  0.043111 -0.001013   \n",
       "driver_age           -0.114335    1.000000       0.037389  0.011345 -0.019545   \n",
       "stop_duration        -0.015753    0.037389       1.000000 -0.088860 -0.008704   \n",
       "year                  0.043111    0.011345      -0.088860  1.000000 -0.059881   \n",
       "month                -0.001013   -0.019545      -0.008704 -0.059881  1.000000   \n",
       "day                  -0.001296   -0.001205      -0.005260  0.008359 -0.003176   \n",
       "\n",
       "                     day  \n",
       "driver_age_raw -0.001296  \n",
       "driver_age     -0.001205  \n",
       "stop_duration  -0.005260  \n",
       "year            0.008359  \n",
       "month          -0.003176  \n",
       "day             1.000000  "
      ]
     },
     "execution_count": 33,
     "metadata": {},
     "output_type": "execute_result"
    }
   ],
   "source": [
    "correlation_matrix = df.select_dtypes(include=np.number).corr()\n",
    "correlation_matrix"
   ]
  },
  {
   "cell_type": "code",
   "execution_count": 34,
   "id": "a4104033-48e4-427d-9b9f-6d4f53aade3f",
   "metadata": {},
   "outputs": [
    {
     "data": {
      "image/png": "[encoded data removed]",
      "text/plain": [
       "<Figure size 1200x400 with 2 Axes>"
      ]
     },
     "metadata": {},
     "output_type": "display_data"
    }
   ],
   "source": [
    "plt.figure(figsize=(12, 4))\n",
    "sns.heatmap(correlation_matrix, annot=True, cmap='coolwarm', fmt='.2f', linewidths=0.5, cbar_kws={'shrink': 0.8, 'format': '%.2f'})\n",
    "plt.title('Correlation Matrix Heatmap', fontsize=20, pad=20)\n",
    "plt.xlabel('Features', fontsize=16, labelpad=10)\n",
    "plt.ylabel('Features', fontsize=16, labelpad=10)\n",
    "plt.xticks(fontsize=12, rotation=45)\n",
    "plt.yticks(fontsize=12, rotation=0)\n",
    "plt.show()"
   ]
  },
  {
   "cell_type": "markdown",
   "id": "b32596b9-89ef-47f0-b3d8-574ddde9b00a",
   "metadata": {},
   "source": [
    "## Age distribution by driver age"
   ]
  },
  {
   "cell_type": "code",
   "execution_count": 35,
   "id": "84216ca9-a794-47ea-805e-0157bc1104c1",
   "metadata": {},
   "outputs": [
    {
     "data": {
      "image/png": "[encoded data removed]",
      "text/plain": [
       "<Figure size 1000x600 with 1 Axes>"
      ]
     },
     "metadata": {},
     "output_type": "display_data"
    }
   ],
   "source": [
    "plt.figure(figsize=(10, 6))\n",
    "sns.histplot(df['driver_age'], kde=True)\n",
    "plt.title('Driver Age Distribution', fontsize = 20)\n",
    "plt.xlabel(\"Driver Age\", fontsize = 15)\n",
    "plt.ylabel('Count', fontsize = 15)\n",
    "plt.show()"
   ]
  },
  {
   "cell_type": "markdown",
   "id": "7e54cbf4-6ec6-484c-90ae-0c20fd1f886d",
   "metadata": {},
   "source": [
    "# Analysis of search-related information based on various factors"
   ]
  },
  {
   "cell_type": "code",
   "execution_count": 36,
   "id": "6355915e-667d-4e5a-84e0-0cde972d16ff",
   "metadata": {},
   "outputs": [
    {
     "data": {
      "image/png": "[encoded data removed]",
      "text/plain": [
       "<Figure size 1200x500 with 1 Axes>"
      ]
     },
     "metadata": {},
     "output_type": "display_data"
    }
   ],
   "source": [
    "plt.figure(figsize = (12, 5))\n",
    "sns.countplot(x = 'violation', hue = 'search_conducted', data = df)\n",
    "plt.title(\"Search Conducted based on Violation\", fontsize = 15)\n",
    "plt.ylabel('Count', fontsize = 10)\n",
    "plt.xlabel('Violation', fontsize = 10)\n",
    "plt.legend(fontsize = 10)\n",
    "plt.show()"
   ]
  },
  {
   "cell_type": "markdown",
   "id": "0f2a1c37-8c2d-4dae-9489-38c3434842c1",
   "metadata": {},
   "source": [
    "# Stop duration analysis based on violation type"
   ]
  },
  {
   "cell_type": "code",
   "execution_count": 37,
   "id": "3415ea25-9815-41a5-92d4-92906b04fd96",
   "metadata": {},
   "outputs": [
    {
     "data": {
      "image/png": "[encoded data removed]",
      "text/plain": [
       "<Figure size 1200x500 with 1 Axes>"
      ]
     },
     "metadata": {},
     "output_type": "display_data"
    }
   ],
   "source": [
    "plt.figure(figsize = (12, 5))\n",
    "sns.boxplot(x = 'violation', y='stop_duration', data = df)\n",
    "plt.title(\"Stop Duration Based on Violation\", fontsize = 15)\n",
    "plt.xlabel('Duration', fontsize = 10)\n",
    "plt.ylabel('Violation Type', fontsize = 10)\n",
    "plt.show()"
   ]
  },
  {
   "cell_type": "markdown",
   "id": "273ed583-6cfa-435b-b33f-dbaa54122bdb",
   "metadata": {},
   "source": [
    "# Stop Time"
   ]
  },
  {
   "cell_type": "code",
   "execution_count": 38,
   "id": "1c301155-2b9b-423f-a5c1-38a8f97cb706",
   "metadata": {},
   "outputs": [
    {
     "name": "stderr",
     "output_type": "stream",
     "text": [
      "C:\\Users\\mrmhm\\AppData\\Local\\Temp\\ipykernel_17676\\1654870410.py:1: UserWarning: Could not infer format, so each element will be parsed individually, falling back to `dateutil`. To ensure parsing is consistent and as-expected, please specify a format.\n",
      "  df['stop_hour'] = pd.to_datetime(df['stop_time']).dt.hour\n"
     ]
    },
    {
     "data": {
      "image/png": "[encoded data removed]",
      "text/plain": [
       "<Figure size 1000x600 with 1 Axes>"
      ]
     },
     "metadata": {},
     "output_type": "display_data"
    }
   ],
   "source": [
    "df['stop_hour'] = pd.to_datetime(df['stop_time']).dt.hour\n",
    "plt.figure(figsize=(10, 6))\n",
    "sns.countplot(x='stop_hour', data=df, palette='viridis')\n",
    "plt.title('Stop Distribution by Hour of the Day')\n",
    "plt.xlabel('Stop Hour')\n",
    "plt.ylabel('Count')\n",
    "plt.show()"
   ]
  },
  {
   "cell_type": "markdown",
   "id": "962bbaee-5d89-4e2d-8ba5-6594aeb6b69e",
   "metadata": {},
   "source": [
    "# Analysis of drugs-related stops "
   ]
  },
  {
   "cell_type": "code",
   "execution_count": 39,
   "id": "ca77c4a8-6662-4f6f-b321-c5d30d560fd8",
   "metadata": {},
   "outputs": [
    {
     "data": {
      "image/png": "[encoded data removed]",
      "text/plain": [
       "<Figure size 1000x700 with 1 Axes>"
      ]
     },
     "metadata": {},
     "output_type": "display_data"
    }
   ],
   "source": [
    "plt.figure(figsize = (10, 7))\n",
    "sns.countplot(x='violation', hue='drugs_related_stop', data=df)\n",
    "plt.title('Was the Stop Related to Drugs ?')\n",
    "plt.xlabel (\"Count\")\n",
    "plt.ylabel(\"Violation\")\n",
    "plt.legend()\n",
    "plt.show()"
   ]
  },
  {
   "cell_type": "markdown",
   "id": "538413e1-0316-44b3-b691-0d2d48388ef5",
   "metadata": {},
   "source": [
    "# Bar plot for Violation Count"
   ]
  },
  {
   "cell_type": "code",
   "execution_count": 40,
   "id": "e6c995c3-be97-468a-82be-a458ade40edb",
   "metadata": {},
   "outputs": [
    {
     "data": {
      "image/png": "[encoded data removed]",
      "text/plain": [
       "<Figure size 1200x600 with 1 Axes>"
      ]
     },
     "metadata": {},
     "output_type": "display_data"
    }
   ],
   "source": [
    "plt.figure ( figsize = (12, 6))\n",
    "df['violation'].value_counts().plot(kind = 'bar', color = 'skyblue')\n",
    "plt.title(\"Violation Count\", fontsize = 16, pad = 20)\n",
    "plt.xlabel(\"Violation Types\", fontsize = 16, labelpad = 20)\n",
    "plt.ylabel(\"Counts\", fontsize = 16, labelpad = 20)\n",
    "plt.xticks(rotation = 45, ha = 'right', fontsize = 10)\n",
    "plt.show()"
   ]
  },
  {
   "cell_type": "markdown",
   "id": "9454c983-b993-4428-876e-3e7582e149c5",
   "metadata": {},
   "source": [
    "# Pie Chart for driver race distribution"
   ]
  },
  {
   "cell_type": "code",
   "execution_count": 41,
   "id": "777ab4d5-717e-4182-8358-d6cbbd6a9dd1",
   "metadata": {},
   "outputs": [
    {
     "data": {
      "image/png": "[encoded data removed]",
      "text/plain": [
       "<Figure size 1500x1500 with 1 Axes>"
      ]
     },
     "metadata": {},
     "output_type": "display_data"
    }
   ],
   "source": [
    "plt.figure(figsize=(15, 15))\n",
    "df['driver_race'].value_counts().plot(kind = 'pie', autopct = '%1.1f%%', colors = sns.color_palette('pastel'), startangle = 90)\n",
    "plt.title('Driver Race Distribution')\n",
    "plt.ylabel('')\n",
    "plt.legend()\n",
    "plt.show()"
   ]
  },
  {
   "cell_type": "markdown",
   "id": "67722c8f-4e1d-49a4-86e7-948b28fda6da",
   "metadata": {},
   "source": [
    "# Count Plot for search conducted based on gender"
   ]
  },
  {
   "cell_type": "code",
   "execution_count": 42,
   "id": "2f52b518-5e40-4d91-b1b9-32e7ce5b3a28",
   "metadata": {},
   "outputs": [
    {
     "data": {
      "image/png": "[encoded data removed]",
      "text/plain": [
       "<Figure size 1000x600 with 1 Axes>"
      ]
     },
     "metadata": {},
     "output_type": "display_data"
    }
   ],
   "source": [
    "plt.figure(figsize=(10, 6))\n",
    "sns.countplot(x='search_conducted', hue='driver_gender', data=df, palette='muted')\n",
    "plt.title('Search Conducted by Gender', fontsize=16, pad=20)\n",
    "plt.xlabel('Search Conducted', fontsize=12, labelpad=10)\n",
    "plt.ylabel('Count', fontsize=12, labelpad=10)\n",
    "plt.legend()\n",
    "plt.show()"
   ]
  },
  {
   "cell_type": "markdown",
   "id": "efe394cc-bef0-40d5-87f6-2d9e161c8315",
   "metadata": {},
   "source": [
    "# Stacked Bar for stop outcome by gender"
   ]
  },
  {
   "cell_type": "code",
   "execution_count": 157,
   "id": "4d2c9ff7-7f16-4e29-b685-5a3bb44e0b4a",
   "metadata": {},
   "outputs": [
    {
     "data": {
      "image/png": "[encoded data removed]",
      "text/plain": [
       "<Figure size 1200x600 with 1 Axes>"
      ]
     },
     "metadata": {},
     "output_type": "display_data"
    }
   ],
   "source": [
    "stop_outcome_gender = df.groupby(['stop_outcome', 'driver_gender']).size().unstack()\n",
    "stop_outcome_gender.plot(kind='bar', stacked=True, figsize=(12, 6))\n",
    "plt.title('Stop Outcome by Gender', fontsize=16, pad=20)\n",
    "plt.xlabel('Stop Outcome', fontsize=12, labelpad=10)\n",
    "plt.ylabel('Count', fontsize=12, labelpad=10)\n",
    "plt.xticks(rotation=45, ha='right', fontsize=10)\n",
    "plt.show()"
   ]
  },
  {
   "cell_type": "markdown",
   "id": "1ec0e512",
   "metadata": {},
   "source": [
    "# Inferential Analysis"
   ]
  },
  {
   "cell_type": "markdown",
   "id": "eb76ee61",
   "metadata": {},
   "source": [
    "## Hypothesis Testing - Gender Bias in Searches:\n",
    "* Hypothesis: There is no gender bias in searches during traffic stops.\n",
    "* Test whether the proportion of searches conducted for males is significantly different from the proportion for females."
   ]
  },
  {
   "cell_type": "code",
   "execution_count": 43,
   "id": "dee77e15",
   "metadata": {},
   "outputs": [
    {
     "data": {
      "text/html": [
       "<div>\n",
       "<style scoped>\n",
       "    .dataframe tbody tr th:only-of-type {\n",
       "        vertical-align: middle;\n",
       "    }\n",
       "\n",
       "    .dataframe tbody tr th {\n",
       "        vertical-align: top;\n",
       "    }\n",
       "\n",
       "    .dataframe thead th {\n",
       "        text-align: right;\n",
       "    }\n",
       "</style>\n",
       "<table border=\"1\" class=\"dataframe\">\n",
       "  <thead>\n",
       "    <tr style=\"text-align: right;\">\n",
       "      <th>search_conducted</th>\n",
       "      <th>False</th>\n",
       "      <th>True</th>\n",
       "    </tr>\n",
       "    <tr>\n",
       "      <th>driver_gender</th>\n",
       "      <th></th>\n",
       "      <th></th>\n",
       "    </tr>\n",
       "  </thead>\n",
       "  <tbody>\n",
       "    <tr>\n",
       "      <th>F</th>\n",
       "      <td>23040</td>\n",
       "      <td>471</td>\n",
       "    </tr>\n",
       "    <tr>\n",
       "      <th>M</th>\n",
       "      <td>65505</td>\n",
       "      <td>2725</td>\n",
       "    </tr>\n",
       "  </tbody>\n",
       "</table>\n",
       "</div>"
      ],
      "text/plain": [
       "search_conducted  False  True \n",
       "driver_gender                 \n",
       "F                 23040    471\n",
       "M                 65505   2725"
      ]
     },
     "execution_count": 43,
     "metadata": {},
     "output_type": "execute_result"
    }
   ],
   "source": [
    "pd.crosstab(df['driver_gender'], df['search_conducted'])"
   ]
  },
  {
   "cell_type": "code",
   "execution_count": 46,
   "id": "a253a6d6",
   "metadata": {},
   "outputs": [
    {
     "name": "stdout",
     "output_type": "stream",
     "text": [
      "Reject the null hypothesis: There is evidence of gender bias in searches.\n"
     ]
    }
   ],
   "source": [
    "from scipy.stats import chi2_contingency\n",
    "contingency_table = pd.crosstab(df['driver_gender'], df['search_conducted'])\n",
    "\n",
    "chi2, p_value, _, _ = chi2_contingency(contingency_table)\n",
    "\n",
    "if p_value < 0.05:\n",
    "    print(\"Reject the null hypothesis: There is evidence of gender bias in searches.\")\n",
    "else:\n",
    "    print(\"Fail to reject the null hypothesis: No significant evidence of gender bias in searches.\")"
   ]
  },
  {
   "cell_type": "markdown",
   "id": "a2356c35",
   "metadata": {},
   "source": [
    "## Correlation Testing - Age and Stop Duration:\n",
    "* Hypothesis: There is no correlation between the age of drivers and the duration of stops.\n",
    "* Test whether there is a significant correlation between these two numerical variables."
   ]
  },
  {
   "cell_type": "code",
   "execution_count": 48,
   "id": "950d1c77",
   "metadata": {
    "scrolled": true
   },
   "outputs": [
    {
     "name": "stdout",
     "output_type": "stream",
     "text": [
      "Reject the null hypothesis: There is a significant correlation between age and stop duration.\n"
     ]
    }
   ],
   "source": [
    "from scipy.stats import pearsonr\n",
    "\n",
    "sub_df = df[['driver_age', 'stop_duration']].dropna() # use .dropna to drop NaN values.\n",
    "corr, p_value = pearsonr(sub_df['driver_age'], sub_df['stop_duration'])\n",
    "\n",
    "if p_value < 0.05:\n",
    "    print(\"Reject the null hypothesis: There is a significant correlation between age and stop duration.\")\n",
    "else:\n",
    "    print(\"Fail to reject the null hypothesis: No significant correlation between age and stop duration.\")"
   ]
  },
  {
   "cell_type": "markdown",
   "id": "6c57ab28",
   "metadata": {},
   "source": [
    "## Comparing Means - Search Duration for Different Violations (ANOVA Analysis):\n",
    "* Hypothesis: The mean search duration is the same for different types of violations.\n",
    "* Test whether there are significant differences in mean search duration between different violation types."
   ]
  },
  {
   "cell_type": "code",
   "execution_count": 49,
   "id": "52d7bc88",
   "metadata": {},
   "outputs": [
    {
     "name": "stdout",
     "output_type": "stream",
     "text": [
      "Reject the null hypothesis: There are significant differences in search duration for different violations.\n"
     ]
    }
   ],
   "source": [
    "from scipy.stats import f_oneway\n",
    "\n",
    "# Filter relevant columns and drop missing values\n",
    "search_duration_data = df[['violation', 'stop_duration']].dropna()\n",
    "\n",
    "# Perform one-way ANOVA\n",
    "f_statistic, p_value = f_oneway(*[search_duration_data[search_duration_data['violation'] == violation]['stop_duration'] for violation in search_duration_data['violation'].unique()])\n",
    "\n",
    "# Check p-value\n",
    "if p_value < 0.05:\n",
    "    print(\"Reject the null hypothesis: There are significant differences in search duration for different violations.\")\n",
    "else:\n",
    "    print(\"Fail to reject the null hypothesis: No significant differences in search duration for different violations.\")"
   ]
  },
  {
   "cell_type": "markdown",
   "id": "fe116804",
   "metadata": {},
   "source": [
    "## Comparing Proportions - Search Outcomes by Gender:\n",
    "* Null Hypothesis: The proportion of positive search outcomes is the same for both genders.\n",
    "* Alternative Hypothesis: There is a significant difference in the proportion of positive search outcomes between genders."
   ]
  },
  {
   "cell_type": "code",
   "execution_count": 53,
   "id": "e6b073d2",
   "metadata": {},
   "outputs": [
    {
     "data": {
      "text/html": [
       "<div>\n",
       "<style scoped>\n",
       "    .dataframe tbody tr th:only-of-type {\n",
       "        vertical-align: middle;\n",
       "    }\n",
       "\n",
       "    .dataframe tbody tr th {\n",
       "        vertical-align: top;\n",
       "    }\n",
       "\n",
       "    .dataframe thead th {\n",
       "        text-align: right;\n",
       "    }\n",
       "</style>\n",
       "<table border=\"1\" class=\"dataframe\">\n",
       "  <thead>\n",
       "    <tr style=\"text-align: right;\">\n",
       "      <th>search_conducted</th>\n",
       "      <th>False</th>\n",
       "      <th>True</th>\n",
       "    </tr>\n",
       "    <tr>\n",
       "      <th>driver_gender</th>\n",
       "      <th></th>\n",
       "      <th></th>\n",
       "    </tr>\n",
       "  </thead>\n",
       "  <tbody>\n",
       "    <tr>\n",
       "      <th>F</th>\n",
       "      <td>0.018663</td>\n",
       "      <td>0.352442</td>\n",
       "    </tr>\n",
       "    <tr>\n",
       "      <th>M</th>\n",
       "      <td>0.021464</td>\n",
       "      <td>0.340183</td>\n",
       "    </tr>\n",
       "  </tbody>\n",
       "</table>\n",
       "</div>"
      ],
      "text/plain": [
       "search_conducted     False     True \n",
       "driver_gender                       \n",
       "F                 0.018663  0.352442\n",
       "M                 0.021464  0.340183"
      ]
     },
     "execution_count": 53,
     "metadata": {},
     "output_type": "execute_result"
    }
   ],
   "source": [
    "# crosstab of driver_gender and search_coducted with mean of is_arrested\n",
    "pd.crosstab(df['driver_gender'], df['search_conducted'], values=df['is_arrested'], aggfunc='mean')"
   ]
  },
  {
   "cell_type": "code",
   "execution_count": 54,
   "id": "4ef8eecf",
   "metadata": {},
   "outputs": [
    {
     "name": "stdout",
     "output_type": "stream",
     "text": [
      "Fail to reject the null hypothesis: No significant difference in search outcomes between genders.\n"
     ]
    }
   ],
   "source": [
    "from statsmodels.stats.proportion import proportions_ztest\n",
    "\n",
    "# Create a contingency table for search outcomes by gender\n",
    "contingency_table = pd.crosstab(df['driver_gender'], df['search_conducted'], values=df['is_arrested'], aggfunc='mean')\n",
    "\n",
    "# Perform a two-proportion z-test\n",
    "stat, p_value = proportions_ztest(contingency_table[True], contingency_table.sum(axis=1), alternative='two-sided')\n",
    "\n",
    "# Check p-value\n",
    "if p_value < 0.05:\n",
    "    print(\"Reject the null hypothesis: Significant difference in search outcomes between genders.\")\n",
    "else:\n",
    "    print(\"Fail to reject the null hypothesis: No significant difference in search outcomes between genders.\")"
   ]
  },
  {
   "cell_type": "markdown",
   "id": "7a3a9955",
   "metadata": {},
   "source": [
    "## Regression Analysis - Predicting Stop Duration:\n",
    "* Investigate the relationship between numerical predictors (e.g., driver age) and the target variable (stop duration)."
   ]
  },
  {
   "cell_type": "code",
   "execution_count": 55,
   "id": "00153a00",
   "metadata": {},
   "outputs": [
    {
     "name": "stdout",
     "output_type": "stream",
     "text": [
      "                            OLS Regression Results                            \n",
      "==============================================================================\n",
      "Dep. Variable:          stop_duration   R-squared:                       0.001\n",
      "Model:                            OLS   Adj. R-squared:                  0.001\n",
      "Method:                 Least Squares   F-statistic:                     121.0\n",
      "Date:                Fri, 19 Jan 2024   Prob (F-statistic):           4.08e-28\n",
      "Time:                        20:16:17   Log-Likelihood:            -3.1157e+05\n",
      "No. Observations:               86406   AIC:                         6.231e+05\n",
      "Df Residuals:                   86404   BIC:                         6.232e+05\n",
      "Df Model:                           1                                         \n",
      "Covariance Type:            nonrobust                                         \n",
      "==============================================================================\n",
      "                 coef    std err          t      P>|t|      [0.025      0.975]\n",
      "------------------------------------------------------------------------------\n",
      "const         10.6133      0.087    122.657      0.000      10.444      10.783\n",
      "driver_age     0.0262      0.002     10.998      0.000       0.022       0.031\n",
      "==============================================================================\n",
      "Omnibus:                    39773.440   Durbin-Watson:                   1.826\n",
      "Prob(Omnibus):                  0.000   Jarque-Bera (JB):           170945.890\n",
      "Skew:                           2.337   Prob(JB):                         0.00\n",
      "Kurtosis:                       8.063   Cond. No.                         104.\n",
      "==============================================================================\n",
      "\n",
      "Notes:\n",
      "[1] Standard Errors assume that the covariance matrix of the errors is correctly specified.\n"
     ]
    }
   ],
   "source": [
    "import statsmodels.api as sm\n",
    "\n",
    "# Drop rows with missing values in relevant columns\n",
    "regression_data = df[['driver_age', 'stop_duration']].dropna()\n",
    "\n",
    "# Add a constant term to the predictors\n",
    "regression_data = sm.add_constant(regression_data)\n",
    "\n",
    "# Fit a linear regression model\n",
    "model = sm.OLS(regression_data['stop_duration'], regression_data[['const', 'driver_age']])\n",
    "result = model.fit()\n",
    "\n",
    "# Check regression summary\n",
    "print(result.summary())"
   ]
  },
  {
   "cell_type": "markdown",
   "id": "643b7e23",
   "metadata": {},
   "source": [
    "####  ___Interpretation___:  \n",
    "* The model suggests a very weak positive relationship between driver_age and stop_duration. However, the R-squared value is extremely low, indicating that the model does not explain much of the variability in stop durations.\n",
    "\n",
    "* The statistically significant p-values for both const and driver_age suggest that the model as a whole is significant and that the driver's age has a statistically significant effect on stop duration.\n",
    "\n",
    "* While the statistical significance is achieved due to the large sample size, the practical significance (effect size) may be small, as suggested by the low R-squared value."
   ]
  },
  {
   "cell_type": "code",
   "execution_count": null,
   "id": "43665a1a",
   "metadata": {},
   "outputs": [],
   "source": []
  }
 ],
 "metadata": {
  "kernelspec": {
   "display_name": "Python 3 (ipykernel)",
   "language": "python",
   "name": "python3"
  },
  "language_info": {
   "codemirror_mode": {
    "name": "ipython",
    "version": 3
   },
   "file_extension": ".py",
   "mimetype": "text/x-python",
   "name": "python",
   "nbconvert_exporter": "python",
   "pygments_lexer": "ipython3",
   "version": "3.10.7"
  }
 },
 "nbformat": 4,
 "nbformat_minor": 5
}
