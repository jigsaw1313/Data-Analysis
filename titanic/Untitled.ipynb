{
 "cells": [
  {
   "cell_type": "code",
   "execution_count": 1,
   "id": "30f6d106-4d7f-4fcb-aaa9-01e69916684c",
   "metadata": {},
   "outputs": [],
   "source": [
    "import pandas as pd"
   ]
  },
  {
   "cell_type": "code",
   "execution_count": 2,
   "id": "f30c6926-2937-45e8-93dd-2e9b96f528ea",
   "metadata": {},
   "outputs": [
    {
     "data": {
      "text/html": [
       "<div>\n",
       "<style scoped>\n",
       "    .dataframe tbody tr th:only-of-type {\n",
       "        vertical-align: middle;\n",
       "    }\n",
       "\n",
       "    .dataframe tbody tr th {\n",
       "        vertical-align: top;\n",
       "    }\n",
       "\n",
       "    .dataframe thead th {\n",
       "        text-align: right;\n",
       "    }\n",
       "</style>\n",
       "<table border=\"1\" class=\"dataframe\">\n",
       "  <thead>\n",
       "    <tr style=\"text-align: right;\">\n",
       "      <th></th>\n",
       "      <th>country_name</th>\n",
       "      <th>year</th>\n",
       "      <th>happiness_score</th>\n",
       "      <th>social_support</th>\n",
       "      <th>freedom_to_make_life_choices</th>\n",
       "      <th>healthy_life_expectancy_at_birth</th>\n",
       "    </tr>\n",
       "  </thead>\n",
       "  <tbody>\n",
       "    <tr>\n",
       "      <th>0</th>\n",
       "      <td>Afghanistan</td>\n",
       "      <td>2008</td>\n",
       "      <td>3.723590</td>\n",
       "      <td>0.450662</td>\n",
       "      <td>0.718114</td>\n",
       "      <td>50.500000</td>\n",
       "    </tr>\n",
       "    <tr>\n",
       "      <th>1</th>\n",
       "      <td>Afghanistan</td>\n",
       "      <td>2009</td>\n",
       "      <td>4.401778</td>\n",
       "      <td>0.552308</td>\n",
       "      <td>0.678896</td>\n",
       "      <td>50.799999</td>\n",
       "    </tr>\n",
       "    <tr>\n",
       "      <th>2</th>\n",
       "      <td>Afghanistan</td>\n",
       "      <td>2010</td>\n",
       "      <td>4.758381</td>\n",
       "      <td>0.539075</td>\n",
       "      <td>0.600127</td>\n",
       "      <td>51.099998</td>\n",
       "    </tr>\n",
       "    <tr>\n",
       "      <th>3</th>\n",
       "      <td>Afghanistan</td>\n",
       "      <td>2011</td>\n",
       "      <td>3.831719</td>\n",
       "      <td>0.521104</td>\n",
       "      <td>0.495901</td>\n",
       "      <td>51.400002</td>\n",
       "    </tr>\n",
       "    <tr>\n",
       "      <th>4</th>\n",
       "      <td>Afghanistan</td>\n",
       "      <td>2012</td>\n",
       "      <td>3.782938</td>\n",
       "      <td>0.520637</td>\n",
       "      <td>0.530935</td>\n",
       "      <td>51.700001</td>\n",
       "    </tr>\n",
       "  </tbody>\n",
       "</table>\n",
       "</div>"
      ],
      "text/plain": [
       "  country_name  year  happiness_score  social_support  \\\n",
       "0  Afghanistan  2008         3.723590        0.450662   \n",
       "1  Afghanistan  2009         4.401778        0.552308   \n",
       "2  Afghanistan  2010         4.758381        0.539075   \n",
       "3  Afghanistan  2011         3.831719        0.521104   \n",
       "4  Afghanistan  2012         3.782938        0.520637   \n",
       "\n",
       "   freedom_to_make_life_choices  healthy_life_expectancy_at_birth  \n",
       "0                      0.718114                         50.500000  \n",
       "1                      0.678896                         50.799999  \n",
       "2                      0.600127                         51.099998  \n",
       "3                      0.495901                         51.400002  \n",
       "4                      0.530935                         51.700001  "
      ]
     },
     "execution_count": 2,
     "metadata": {},
     "output_type": "execute_result"
    }
   ],
   "source": [
    "df = pd.read_csv(r\"C:\\Users\\mrmhm\\Downloads\\Telegram Desktop\\happiness_survey_data.csv\")\n",
    "df.head()"
   ]
  },
  {
   "cell_type": "code",
   "execution_count": 3,
   "id": "9132b9dd-14f7-45fb-9f32-d76b3cee8f0c",
   "metadata": {},
   "outputs": [
    {
     "name": "stdout",
     "output_type": "stream",
     "text": [
      "<class 'pandas.core.frame.DataFrame'>\n",
      "RangeIndex: 2089 entries, 0 to 2088\n",
      "Data columns (total 6 columns):\n",
      " #   Column                            Non-Null Count  Dtype  \n",
      "---  ------                            --------------  -----  \n",
      " 0   country_name                      2089 non-null   object \n",
      " 1   year                              2089 non-null   int64  \n",
      " 2   happiness_score                   2089 non-null   float64\n",
      " 3   social_support                    2076 non-null   float64\n",
      " 4   freedom_to_make_life_choices      2057 non-null   float64\n",
      " 5   healthy_life_expectancy_at_birth  2031 non-null   float64\n",
      "dtypes: float64(4), int64(1), object(1)\n",
      "memory usage: 98.0+ KB\n"
     ]
    }
   ],
   "source": [
    "df.info()"
   ]
  },
  {
   "cell_type": "code",
   "execution_count": 7,
   "id": "39593f17-25d4-4dc7-a8a3-69acaad924f1",
   "metadata": {},
   "outputs": [
    {
     "data": {
      "text/plain": [
       "<bound method NDFrame._add_numeric_operations.<locals>.mean of      country_name  year  happiness_score  social_support  \\\n",
       "0     Afghanistan  2008         3.723590        0.450662   \n",
       "1     Afghanistan  2009         4.401778        0.552308   \n",
       "2     Afghanistan  2010         4.758381        0.539075   \n",
       "3     Afghanistan  2011         3.831719        0.521104   \n",
       "4     Afghanistan  2012         3.782938        0.520637   \n",
       "...           ...   ...              ...             ...   \n",
       "2084     Zimbabwe  2017         3.638300        0.754147   \n",
       "2085     Zimbabwe  2018         3.616480        0.775388   \n",
       "2086     Zimbabwe  2019         2.693523        0.759162   \n",
       "2087     Zimbabwe  2020         3.159802        0.717243   \n",
       "2088     Zimbabwe  2021         3.154578        0.685151   \n",
       "\n",
       "      freedom_to_make_life_choices  healthy_life_expectancy_at_birth  \n",
       "0                         0.718114                         50.500000  \n",
       "1                         0.678896                         50.799999  \n",
       "2                         0.600127                         51.099998  \n",
       "3                         0.495901                         51.400002  \n",
       "4                         0.530935                         51.700001  \n",
       "...                            ...                               ...  \n",
       "2084                      0.752826                         52.150002  \n",
       "2085                      0.762675                         52.625000  \n",
       "2086                      0.631908                         53.099998  \n",
       "2087                      0.643303                         53.575001  \n",
       "2088                      0.667636                         54.049999  \n",
       "\n",
       "[2089 rows x 6 columns]>"
      ]
     },
     "execution_count": 7,
     "metadata": {},
     "output_type": "execute_result"
    }
   ],
   "source": [
    "df.mean"
   ]
  },
  {
   "cell_type": "code",
   "execution_count": null,
   "id": "377c9e18-0d18-4e59-aebb-c58891a54485",
   "metadata": {},
   "outputs": [],
   "source": []
  }
 ],
 "metadata": {
  "kernelspec": {
   "display_name": "Python 3 (ipykernel)",
   "language": "python",
   "name": "python3"
  },
  "language_info": {
   "codemirror_mode": {
    "name": "ipython",
    "version": 3
   },
   "file_extension": ".py",
   "mimetype": "text/x-python",
   "name": "python",
   "nbconvert_exporter": "python",
   "pygments_lexer": "ipython3",
   "version": "3.10.7"
  }
 },
 "nbformat": 4,
 "nbformat_minor": 5
}
